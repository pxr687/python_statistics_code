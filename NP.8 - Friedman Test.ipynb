{
 "cells": [
  {
   "cell_type": "code",
   "execution_count": 2,
   "metadata": {},
   "outputs": [
    {
     "name": "stdout",
     "output_type": "stream",
     "text": [
      "Sample 1 Median: 411.7846\n",
      "Sample 2 Median: 612.2764\n",
      "Sample 3 Median: 810.8666\n",
      "Friedman X^2: 2600.0\n",
      "P < 0.05\n"
     ]
    },
    {
     "data": {
      "image/png": "[encoded data removed]",
      "text/plain": [
       "<Figure size 432x288 with 1 Axes>"
      ]
     },
     "metadata": {
      "needs_background": "light"
     },
     "output_type": "display_data"
    }
   ],
   "source": [
    "import scipy.stats\n",
    "import numpy as np\n",
    "import matplotlib.pyplot as plt\n",
    "import pandas as pd\n",
    "import statistics\n",
    "\n",
    "# generating the data\n",
    "\n",
    "sample1 = []\n",
    "\n",
    "\n",
    "for i in range(1000):\n",
    "    sample1.append(30*np.random.randn()+400)\n",
    "    \n",
    "for i in range(300):\n",
    "    sample1.append(30*np.random.randn()+500)\n",
    "\n",
    "    \n",
    "sample2 = []\n",
    "\n",
    "\n",
    "for i in range(1000):\n",
    "    sample2.append(30*np.random.randn()+600)\n",
    "    \n",
    "for i in range(300):\n",
    "    sample2.append(30*np.random.randn()+700)\n",
    "    \n",
    "\n",
    "sample3 = []\n",
    "\n",
    "\n",
    "for i in range(1000):\n",
    "    sample3.append(30*np.random.randn()+800)\n",
    "    \n",
    "for i in range(300):\n",
    "    sample3.append(30*np.random.randn()+900)\n",
    "    \n",
    "# performaing Friedman ANOVA with scipy.stats\n",
    "    \n",
    "chi_sq = scipy.stats.friedmanchisquare(sample1,sample2,sample3)\n",
    "\n",
    "print('Sample 1 Median:', round(statistics.median(sample1),4))\n",
    "print('Sample 2 Median:', round(statistics.median(sample2),4))\n",
    "print('Sample 3 Median:', round(statistics.median(sample3),4))\n",
    "\n",
    "\n",
    "print(\"Friedman X^2:\", chi_sq[0])\n",
    "\n",
    "if chi_sq[1] <= 0.05:\n",
    "    print('P < 0.05')\n",
    "\n",
    "# plotting the data\n",
    "\n",
    "plt.hist(sample1, color = 'black')\n",
    "plt.hist(sample2, color = 'orange')\n",
    "plt.hist(sample3, color = 'red')\n",
    "plt.xlabel('Score on Variable')\n",
    "plt.ylabel('Frequency')\n",
    "plt.legend(['Sample 1 (Black)', 'Sample 2 (Orange)', 'Sample 3 (Red)'])\n",
    "plt.show()"
   ]
  },
  {
   "cell_type": "code",
   "execution_count": null,
   "metadata": {},
   "outputs": [],
   "source": []
  }
 ],
 "metadata": {
  "kernelspec": {
   "display_name": "Python 3",
   "language": "python",
   "name": "python3"
  },
  "language_info": {
   "codemirror_mode": {
    "name": "ipython",
    "version": 3
   },
   "file_extension": ".py",
   "mimetype": "text/x-python",
   "name": "python",
   "nbconvert_exporter": "python",
   "pygments_lexer": "ipython3",
   "version": "3.7.4"
  }
 },
 "nbformat": 4,
 "nbformat_minor": 2
}
