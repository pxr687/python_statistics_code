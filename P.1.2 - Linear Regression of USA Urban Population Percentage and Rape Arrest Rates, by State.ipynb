{
 "cells": [
  {
   "cell_type": "code",
   "execution_count": 5,
   "metadata": {},
   "outputs": [
    {
     "name": "stdout",
     "output_type": "stream",
     "text": [
      "Manually calculated Pearson's r for urban population score and rape arrest rates: 0.41134\n",
      "scipy.stats person r = 0.41134\n",
      "P = 0.003000927403016514\n",
      "\n",
      "The correlation between urban population % and rape arrest rates was statistically significant.\n"
     ]
    },
    {
     "data": {
      "image/png": "[encoded data removed]",
      "text/plain": [
       "<Figure size 432x288 with 1 Axes>"
      ]
     },
     "metadata": {
      "needs_background": "light"
     },
     "output_type": "display_data"
    },
    {
     "name": "stdout",
     "output_type": "stream",
     "text": [
      "R-squared = 0.17\n"
     ]
    }
   ],
   "source": [
    "import pandas as pd\n",
    "import matplotlib.pyplot as plt\n",
    "import statistics as stats\n",
    "import math\n",
    "import scipy.stats\n",
    "\n",
    "# importing and subsetting the data\n",
    "\n",
    "# data obtained from 'https://forge.scilab.org/index.php/p/rdataset/source/tree/master/csv/datasets/USArrests.csv'\n",
    "\n",
    "# documentation for data: 'https://www.rdocumentation.org/packages/datasets/versions/3.6.2/topics/USArrests'\n",
    "\n",
    "dframe = pd.read_csv('USArrests.csv')\n",
    "\n",
    "dframe.rename(columns = {'Unnamed: 0':'State'}, inplace = True) \n",
    "\n",
    "state = dframe['State']\n",
    "murder = dframe['Murder']\n",
    "assault = dframe['Assault']\n",
    "urbpop = dframe['UrbanPop']\n",
    "rape = dframe['Rape']\n",
    "\n",
    "# calculating the mean of urban population % and rape arrest rates\n",
    "\n",
    "urbpop_mean = stats.mean(urbpop)\n",
    "rape_mean = stats.mean(dframe['Rape'])\n",
    "\n",
    "# calculating the sum of the products for urban population % and rape arrest rates\n",
    "\n",
    "urbpop_dev = []\n",
    "for i in urbpop:\n",
    "    urbpop_dev.append(i-urbpop_mean)\n",
    "    \n",
    "rape_dev = []\n",
    "for i in dframe['Rape']:\n",
    "    rape_dev.append(i-rape_mean)\n",
    "    \n",
    "product = []\n",
    "\n",
    "count = 0\n",
    "if len(urbpop) == len(rape):\n",
    "    for i in urbpop_dev:\n",
    "        product.append(i*rape_dev[count])\n",
    "        count = count + 1\n",
    "        \n",
    "SP = sum(product)\n",
    "\n",
    "# calculating the sum of squares for urban population % and rape arrest rates\n",
    "\n",
    "SS_urbpop = []\n",
    "for i in urbpop_dev:\n",
    "    SS_urbpop.append(i**2)\n",
    "    \n",
    "SS_urbpop = sum(SS_urbpop)\n",
    "\n",
    "SS_rape = []\n",
    "for i in rape_dev:\n",
    "    SS_rape.append(i**2)\n",
    "    \n",
    "SS_rape = sum(SS_rape)\n",
    "\n",
    "# calculating pearson's r for urban population % and rape arrest rates\n",
    "r = SP/math.sqrt(SS_urbpop*SS_rape)\n",
    "\n",
    "print(\"Manually calculated Pearson's r for urban population score and rape arrest rates:\", round(r,5))\n",
    "\n",
    "# checking result with scipy.stats\n",
    "\n",
    "result = scipy.stats.pearsonr(urbpop, rape)\n",
    "\n",
    "print('scipy.stats person r =', round(result[0],5))\n",
    "print('P =', result[1])\n",
    "print()\n",
    "\n",
    "if result[1] <= 0.5:\n",
    "    print('The correlation between urban population % and rape arrest rates was statistically significant.')\n",
    "    \n",
    "else:\n",
    "    print('The correlation between urban population % and rape arrest rates was not statistically significant.')\n",
    "    \n",
    "# plotting the data\n",
    "\n",
    "plt.scatter(urbpop, rape, color = 'red')\n",
    "plt.xlabel(\"Urban Population Percentage\")\n",
    "plt.ylabel(\"Rape arrest rate per 100,000 residents\")\n",
    "\n",
    "# calculating and plotting the linear regression equation for urbane population % and rape arrest rate\n",
    "\n",
    "b = SP/SS_urbpop\n",
    "intercept = rape_mean - b*urbpop_mean\n",
    "\n",
    "yhat = urbpop*b + intercept\n",
    "\n",
    "plt.plot(urbpop, yhat, color = 'black')\n",
    "plt.show()\n",
    "\n",
    "print('R-squared =', round(r**2,2))"
   ]
  },
  {
   "cell_type": "code",
   "execution_count": null,
   "metadata": {},
   "outputs": [],
   "source": []
  }
 ],
 "metadata": {
  "kernelspec": {
   "display_name": "Python 3",
   "language": "python",
   "name": "python3"
  },
  "language_info": {
   "codemirror_mode": {
    "name": "ipython",
    "version": 3
   },
   "file_extension": ".py",
   "mimetype": "text/x-python",
   "name": "python",
   "nbconvert_exporter": "python",
   "pygments_lexer": "ipython3",
   "version": "3.7.4"
  }
 },
 "nbformat": 4,
 "nbformat_minor": 2
}
