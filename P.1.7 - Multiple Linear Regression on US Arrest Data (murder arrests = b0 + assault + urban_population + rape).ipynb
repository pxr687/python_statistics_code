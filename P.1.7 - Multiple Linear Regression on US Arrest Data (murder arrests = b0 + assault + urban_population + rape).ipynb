{
 "cells": [
  {
   "cell_type": "code",
   "execution_count": 2,
   "metadata": {},
   "outputs": [
    {
     "name": "stdout",
     "output_type": "stream",
     "text": [
      "                            OLS Regression Results                            \n",
      "==============================================================================\n",
      "Dep. Variable:                 Murder   R-squared:                       0.672\n",
      "Model:                            OLS   Adj. R-squared:                  0.651\n",
      "Method:                 Least Squares   F-statistic:                     31.42\n",
      "Date:                Mon, 09 Mar 2020   Prob (F-statistic):           3.32e-11\n",
      "Time:                        21:38:54   Log-Likelihood:                -116.14\n",
      "No. Observations:                  50   AIC:                             240.3\n",
      "Df Residuals:                      46   BIC:                             247.9\n",
      "Df Model:                           3                                         \n",
      "Covariance Type:            nonrobust                                         \n",
      "==============================================================================\n",
      "                 coef    std err          t      P>|t|      [0.025      0.975]\n",
      "------------------------------------------------------------------------------\n",
      "const          3.2766      1.738      1.885      0.066      -0.222       6.775\n",
      "Assault        0.0398      0.006      6.729      0.000       0.028       0.052\n",
      "UrbanPop      -0.0547      0.028     -1.962      0.056      -0.111       0.001\n",
      "Rape           0.0614      0.056      1.102      0.276      -0.051       0.174\n",
      "==============================================================================\n",
      "Omnibus:                        4.086   Durbin-Watson:                   1.777\n",
      "Prob(Omnibus):                  0.130   Jarque-Bera (JB):                3.239\n",
      "Skew:                           0.612   Prob(JB):                        0.198\n",
      "Kurtosis:                       3.238   Cond. No.                         957.\n",
      "==============================================================================\n",
      "\n",
      "Warnings:\n",
      "[1] Standard Errors assume that the covariance matrix of the errors is correctly specified.\n"
     ]
    }
   ],
   "source": [
    "import pandas as pd\n",
    "import matplotlib.pyplot as plt\n",
    "import statistics as stats\n",
    "import math\n",
    "import scipy.stats\n",
    "import numpy as np\n",
    "import matplotlib.pyplot as plt\n",
    "import statsmodels.api as sm\n",
    "import statsmodels.formula.api as smf\n",
    "\n",
    "\n",
    "# importing and subsetting the data\n",
    "\n",
    "# data obtained from 'https://forge.scilab.org/index.php/p/rdataset/source/tree/master/csv/datasets/USArrests.csv'\n",
    "\n",
    "# documentation for data: 'https://www.rdocumentation.org/packages/datasets/versions/3.6.2/topics/USArrests'\n",
    "\n",
    "dframe = pd.read_csv('USArrests.csv')\n",
    "\n",
    "dframe.rename(columns = {'Unnamed: 0':'State'}, inplace = True) \n",
    "\n",
    "\n",
    "y = dframe['Murder']\n",
    "\n",
    "x = dframe[['Assault', 'UrbanPop', 'Rape']]\n",
    "\n",
    "x = sm.add_constant(x) \n",
    "\n",
    "mod = sm.OLS(y, x).fit()\n",
    "predict = mod.predict(x) \n",
    "\n",
    "print_mod = mod.summary()\n",
    "print(print_mod)\n",
    "\n",
    "\n"
   ]
  },
  {
   "cell_type": "code",
   "execution_count": null,
   "metadata": {},
   "outputs": [],
   "source": []
  }
 ],
 "metadata": {
  "kernelspec": {
   "display_name": "Python 3",
   "language": "python",
   "name": "python3"
  },
  "language_info": {
   "codemirror_mode": {
    "name": "ipython",
    "version": 3
   },
   "file_extension": ".py",
   "mimetype": "text/x-python",
   "name": "python",
   "nbconvert_exporter": "python",
   "pygments_lexer": "ipython3",
   "version": "3.7.4"
  }
 },
 "nbformat": 4,
 "nbformat_minor": 2
}
