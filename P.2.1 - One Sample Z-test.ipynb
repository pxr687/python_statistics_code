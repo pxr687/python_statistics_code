{
 "cells": [
  {
   "cell_type": "markdown",
   "metadata": {},
   "source": [
    "# One Sample Z-Test\n",
    "\n",
    "Test formula:\n",
    "\n",
    "# $ z = \\frac{\\overline{x}-\\mu}{\\sigma_{\\overline{x}}} $\n",
    "\n",
    "Subcomponents of test formula:\n",
    "\n",
    "## $ \\sigma_{\\overline{x}} = \\sqrt{\\frac{\\sigma^2}{n}} $\n",
    "\n",
    "### $ \\sigma^2 = \\frac{\\sum_{i=1}^{n}(X_i - \\mu)^2}{N} $"
   ]
  },
  {
   "cell_type": "code",
   "execution_count": 1,
   "metadata": {},
   "outputs": [
    {
     "name": "stdout",
     "output_type": "stream",
     "text": [
      "Population Mean: 100.0782\n",
      "Population Variance: 397.13368476000153\n",
      "Sample Mean: 161.416\n",
      "Sample Size: 500\n",
      "Z of sample =  68.8248\n",
      "P-value =  0.0\n",
      "\n",
      "Coin toss: Tails\n",
      "Heads means the sample was drawn from the population being tested against, which has a mean of 100.0782 . Tails means the sample was drawn from a different population with a mean of 160. Over repeated iterations of the code, \"tails\" will lead to more extreme Z-scores.\n",
      "\n"
     ]
    },
    {
     "data": {
      "image/png": "[encoded data removed]",
      "text/plain": [
       "<Figure size 432x288 with 1 Axes>"
      ]
     },
     "metadata": {
      "needs_background": "light"
     },
     "output_type": "display_data"
    }
   ],
   "source": [
    "import numpy as np\n",
    "import scipy.stats\n",
    "import statistics as stats\n",
    "import random\n",
    "import math \n",
    "import matplotlib.pyplot as plt\n",
    "\n",
    "# creating a population of random scores:\n",
    "\n",
    "population = []\n",
    "\n",
    "for i in range(5000):\n",
    "    population.append(round(20*np.random.randn()+100))\n",
    "    \n",
    "# calculating population mean and variance\n",
    "\n",
    "pop_mean = stats.mean(population)\n",
    "print('Population Mean:', pop_mean)\n",
    "\n",
    "sq_pop_dev = []\n",
    "for i in population:\n",
    "    sq_pop_dev.append((i - pop_mean)**2)\n",
    "    \n",
    "pop_var = sum(sq_pop_dev)/len(population)\n",
    "print('Population Variance:', pop_var)\n",
    "\n",
    "\n",
    "# using a 'coin flip' to decide whether to randomly sample 20 scores from the population created earlier.\n",
    "# Or whether to from a population with a different mean:\n",
    "\n",
    "population_2 = []\n",
    "\n",
    "count = 0\n",
    "for i in range(5000):\n",
    "    population_2.append(round(20*np.random.randn()+160))\n",
    "    count = count + 1\n",
    "\n",
    "coin = ['Heads', 'Tails']\n",
    "\n",
    "coin_toss = np.random.choice(coin)\n",
    "\n",
    "if coin_toss == 'Heads':\n",
    "    sample = random.sample(population,500)\n",
    "\n",
    "elif coin_toss == 'Tails':\n",
    "    sample = random.sample(population_2, 500)\n",
    "     \n",
    "\n",
    "# calculating the sample mean:\n",
    "\n",
    "sample_mean = stats.mean(sample)\n",
    "print('Sample Mean:', sample_mean)\n",
    "print('Sample Size:', len(sample))\n",
    "\n",
    "# calculating the test statistics\n",
    "\n",
    "std_error_mean = np.sqrt(pop_var/len(sample))\n",
    "\n",
    "z_test = (sample_mean-pop_mean)/std_error_mean\n",
    "\n",
    "print('Z of sample = ', round(z_test,4))\n",
    "print('P-value = ', 2*(1 - scipy.stats.norm.cdf(abs(z_test))))\n",
    "\n",
    "# information about the effect of the coin toss on the sample\n",
    "\n",
    "print()\n",
    "print('Coin toss:', coin_toss)\n",
    "print('Heads means the sample was drawn from the population being tested against, which has a mean of', pop_mean,'. Tails means the sample was drawn from a different population with a mean of 160. Over repeated iterations of the code, \"tails\" will lead to more extreme Z-scores.')\n",
    "print()\n",
    "\n",
    "# plotting a histogram of the population and the sample\n",
    "\n",
    "bins = np.linspace(1,230)\n",
    "plt.hist([population, sample], bins, label = ['Population', 'Sample'], color = ['navy', 'cyan'])\n",
    "plt.xlabel('Score on Variable')\n",
    "plt.ylabel('Frequency')\n",
    "plt.legend(loc='upper right')\n",
    "plt.show()\n"
   ]
  },
  {
   "cell_type": "code",
   "execution_count": null,
   "metadata": {},
   "outputs": [],
   "source": []
  }
 ],
 "metadata": {
  "kernelspec": {
   "display_name": "Python 3",
   "language": "python",
   "name": "python3"
  },
  "language_info": {
   "codemirror_mode": {
    "name": "ipython",
    "version": 3
   },
   "file_extension": ".py",
   "mimetype": "text/x-python",
   "name": "python",
   "nbconvert_exporter": "python",
   "pygments_lexer": "ipython3",
   "version": "3.7.7"
  }
 },
 "nbformat": 4,
 "nbformat_minor": 2
}
