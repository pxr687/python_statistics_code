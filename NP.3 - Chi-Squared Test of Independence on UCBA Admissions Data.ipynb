{
 "cells": [
  {
   "cell_type": "code",
   "execution_count": 15,
   "metadata": {},
   "outputs": [
    {
     "name": "stdout",
     "output_type": "stream",
     "text": [
      "Observed Frequencies of Admittance by Gender:\n",
      "\n",
      "              admitted  rejected  row_total\n",
      "Male              1198      1493       2691\n",
      "Female             557      1278       1835\n",
      "column_total      1755      2771       4526\n",
      "\n",
      "Manually calculated Chi-Squared statistic =  92.2053\n",
      "\n",
      "scipy.stats Chi-Sqaured statistic: 92.20528041152764\n",
      "P-value = 7.359214538333194e-20\n",
      "\n",
      "The observed frequencies are unlikely to have occurred under the null hypothesis (p <= 0.05). Admittance/rejection is significantly related to gender.\n",
      "\n",
      "Kramer's V = 0.2018531910648242\n"
     ]
    },
    {
     "data": {
      "image/png": "[encoded data removed]",
      "text/plain": [
       "<Figure size 432x288 with 1 Axes>"
      ]
     },
     "metadata": {
      "needs_background": "light"
     },
     "output_type": "display_data"
    }
   ],
   "source": [
    "import pandas as pd\n",
    "import scipy.stats\n",
    "import matplotlib.pyplot as plt\n",
    "import math\n",
    "\n",
    "# data on UCBA admissions obtained from 'https://forge.scilab.org/index.php/p/rdataset/source/tree/master/csv/datasets/UCBAdmissions.csv'\n",
    "\n",
    "# importing and subsetting the data\n",
    "\n",
    "dframe = pd.read_csv('UCBAdmissions.csv')\n",
    "dframe = dframe.drop(columns = 'Unnamed: 0')\n",
    "\n",
    "male = dframe[dframe.Gender == 'Male']\n",
    "\n",
    "female = dframe[dframe.Gender == 'Female']\n",
    "\n",
    "female_acc = female[female.Admit == 'Admitted']\n",
    "\n",
    "male_acc = male[male.Admit == 'Admitted']\n",
    "\n",
    "female_rej = female[female.Admit == 'Rejected']\n",
    "\n",
    "male_rej = male[male.Admit == 'Rejected']\n",
    "\n",
    "male_admit_prop = [sum(male_acc['Freq']), sum(male_rej['Freq'])]\n",
    "\n",
    "female_admit_prop = [sum(female_acc['Freq']), sum(female_rej['Freq'])]\n",
    "\n",
    "# creating a dataframe of the observed frequencies of admittance by gender\n",
    "\n",
    "prop = pd.DataFrame([male_admit_prop, female_admit_prop], columns = ['admitted', 'rejected'])\n",
    "prop.index = ['Male', 'Female']\n",
    "prop.loc['column_total']= prop.sum(numeric_only=True, axis=0)\n",
    "prop.loc[:,'row_total'] = prop.sum(numeric_only=True, axis=1)\n",
    "\n",
    "print('Observed Frequencies of Admittance by Gender:')\n",
    "print()\n",
    "print(prop)\n",
    "print()\n",
    "\n",
    "# calculating the expected frequencies\n",
    "\n",
    "grand = prop.row_total[2]\n",
    "\n",
    "male_exp = [(prop.admitted[2]*prop.row_total[0])/grand, (prop.rejected[2]*prop.row_total[0])/grand]\n",
    "\n",
    "female_exp = [(prop.admitted[2]*prop.row_total[1])/grand, (prop.rejected[2]*prop.row_total[1])/grand]\n",
    "\n",
    "exp = pd.DataFrame([male_exp, female_exp], columns = ['admitted', 'rejected'])\n",
    "exp.index = ['Male', 'Female']\n",
    "\n",
    "# calculating the chi-squared statistic\n",
    "\n",
    "chi_square = (prop.admitted[0]-exp.admitted[0])**2/exp.admitted[0] + (prop.rejected[0]-exp.rejected[0])**2/exp.rejected[0] + (prop.admitted[1]-exp.admitted[1])**2/exp.admitted[1] + (prop.rejected[1]-exp.rejected[1])**2/exp.rejected[1]\n",
    "\n",
    "print('Manually calculated Chi-Squared statistic = ', round(chi_square,4))\n",
    "\n",
    "# checking results with scipy.stats\n",
    "\n",
    "prop2 = prop.drop(index = 'column_total', columns = 'row_total')\n",
    "\n",
    "result = scipy.stats.chisquare(prop2, exp, axis = None)\n",
    "\n",
    "print()\n",
    "print('scipy.stats Chi-Sqaured statistic:', result[0])\n",
    "print('P-value =', result[1])\n",
    "print()\n",
    "\n",
    "if result[1] <= 0.05:\n",
    "    print('The observed frequencies are unlikely to have occurred under the null hypothesis (p <= 0.05). Admittance/rejection is significantly related to gender.')\n",
    "    \n",
    "else:\n",
    "    print('The observed frequencies are likely to have occurred under the null hypothesis (p > 0.05). Admittance/rejection is NOT significantly related to gender.')\n",
    "    \n",
    "# plotting the data\n",
    "\n",
    "prop2.plot.bar(color= ['magenta', 'black'])\n",
    "\n",
    "# calculating effect size\n",
    "\n",
    "n = prop.at['column_total', 'row_total']\n",
    "kramers_phi = math.sqrt(chi_square/n*2)\n",
    "print()\n",
    "\n",
    "print(\"Kramer's V =\", kramers_phi)"
   ]
  },
  {
   "cell_type": "code",
   "execution_count": 11,
   "metadata": {},
   "outputs": [
    {
     "data": {
      "text/plain": [
       "4526"
      ]
     },
     "execution_count": 11,
     "metadata": {},
     "output_type": "execute_result"
    }
   ],
   "source": []
  },
  {
   "cell_type": "code",
   "execution_count": null,
   "metadata": {},
   "outputs": [],
   "source": []
  }
 ],
 "metadata": {
  "kernelspec": {
   "display_name": "Python 3",
   "language": "python",
   "name": "python3"
  },
  "language_info": {
   "codemirror_mode": {
    "name": "ipython",
    "version": 3
   },
   "file_extension": ".py",
   "mimetype": "text/x-python",
   "name": "python",
   "nbconvert_exporter": "python",
   "pygments_lexer": "ipython3",
   "version": "3.7.4"
  }
 },
 "nbformat": 4,
 "nbformat_minor": 2
}
