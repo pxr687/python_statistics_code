{
 "cells": [
  {
   "cell_type": "markdown",
   "metadata": {},
   "source": [
    "# Pearson Correlation\n",
    "\n",
    "## $ r = \\frac{\\text{sum of the product of the deviations}}{\\sqrt{SS_x * SS_x}} $\n",
    "\n",
    "## $ \\text{sum of the product of the deviations} = \\sum^n_{i=0}{(x_i - \\overline{x})(y_i - \\overline{y})} $\n",
    "\n",
    "## $ SS_x = \\sum^n_{i=0}{(x_i - \\overline{x})^2} $"
   ]
  },
  {
   "cell_type": "code",
   "execution_count": 2,
   "metadata": {},
   "outputs": [
    {
     "name": "stdout",
     "output_type": "stream",
     "text": [
      "Head of Height/Weight data:\n",
      "\n",
      "Rows: 200 Columns: 3\n",
      "\n",
      "   Index:  Height:  Weight:\n",
      "0       1    65.78   112.99\n",
      "1       2    71.52   136.49\n",
      "2       3    69.40   153.03\n",
      "3       4    68.22   142.34\n",
      "4       5    67.79   144.30\n",
      "\n",
      "Pearson r value obtained by manual calculation: r = 0.5569\n",
      "\n",
      "There was a positive correlation between height and weight.\n",
      "\n",
      "Pearson r result obtained from scipy.stats.pearsonr: r = 0.5568647346122992 p = 1.1029015151267142e-17\n"
     ]
    },
    {
     "data": {
      "image/png": "[encoded data removed]",
      "text/plain": [
       "<Figure size 432x288 with 1 Axes>"
      ]
     },
     "metadata": {
      "needs_background": "light"
     },
     "output_type": "display_data"
    },
    {
     "name": "stdout",
     "output_type": "stream",
     "text": [
      "R-Squared = 0.31009833265482656\n"
     ]
    }
   ],
   "source": [
    "# calculating a person correlation\n",
    "\n",
    "import numpy as np\n",
    "import scipy.stats\n",
    "import math\n",
    "import statistics as stats\n",
    "import pandas as pd\n",
    "import matplotlib.pyplot as plt\n",
    "\n",
    "# getting the height and weight measurements data from 'https://people.sc.fsu.edu/~jburkardt/data/csv/csv.html'\n",
    "\n",
    "url = 'https://people.sc.fsu.edu/~jburkardt/data/csv/hw_200.csv'\n",
    "dataframe = pd.read_csv(url)\n",
    "\n",
    "print('Head of Height/Weight data:')\n",
    "print()\n",
    "\n",
    "print('Rows:', dataframe.shape[0], 'Columns:', dataframe.shape[1])\n",
    "\n",
    "# remaning the height and weight columns to make them easier to subset\n",
    "\n",
    "dataframe.columns = ['Index:', 'Height:', 'Weight:']\n",
    "\n",
    "print()\n",
    "print(dataframe.head())\n",
    "\n",
    "# calculating the means of height and weight\n",
    "\n",
    "x_bar = stats.mean(dataframe['Height:'])\n",
    "y_bar = stats.mean(dataframe['Weight:'])\n",
    "\n",
    "#calculating the sum of the product of the deviations of scores on each variable\n",
    "\n",
    "x_dev = []\n",
    "y_dev = []\n",
    "height = dataframe['Height:']\n",
    "weight = dataframe['Weight:']\n",
    "\n",
    "count = 0\n",
    "for i in range(len(dataframe)):\n",
    "    x_dev.append(height[count] - x_bar)\n",
    "    y_dev.append(weight[count] - y_bar)\n",
    "    count = count + 1\n",
    "\n",
    "x_dev_y_dev_product = []\n",
    "\n",
    "count = 0\n",
    "if len(x_dev) == len(y_dev):\n",
    "    for i in range(len(x_dev)):\n",
    "        x_dev_y_dev_product.append(x_dev[count]*y_dev[count])\n",
    "        count= count + 1\n",
    "        \n",
    "sum_product_dev = sum(x_dev_y_dev_product)\n",
    "\n",
    "# calculating the sum of squares for height and for weight\n",
    "\n",
    "sq_x = []\n",
    "sq_y = []\n",
    "\n",
    "count = 0\n",
    "if len(x_dev) == len(y_dev):\n",
    "    for i in range(len(x_dev)):\n",
    "        sq_x.append(x_dev[count]**2)\n",
    "        sq_y.append(y_dev[count]**2)\n",
    "        count = count + 1\n",
    "        \n",
    "sum_sq_x = sum(sq_x)\n",
    "sum_sq_y = sum(sq_y)\n",
    "\n",
    "# calculating pearson's r\n",
    "\n",
    "r = sum_product_dev/math.sqrt(sum_sq_x*sum_sq_y)\n",
    "\n",
    "print()\n",
    "print('Pearson r value obtained by manual calculation:', 'r =', round(r,4))\n",
    "print()\n",
    "\n",
    "if r >0:\n",
    "    print('There was a positive correlation between height and weight.')\n",
    "\n",
    "if r <0:\n",
    "    print('The was a negative correlation between height and weight.')\n",
    "    \n",
    "if r == 0:\n",
    "    print('There was no correlation between height and weight')\n",
    "    \n",
    "\n",
    "# checking the results with scipy.stats.pearsonr\n",
    "print()\n",
    "print('Pearson r result obtained from scipy.stats.pearsonr: r =', (scipy.stats.pearsonr(height,weight)[0]), 'p =', scipy.stats.pearsonr(height,weight)[1])\n",
    "\n",
    "# performing a linear regression on height and weight \n",
    "\n",
    "result1 = scipy.stats.linregress(dataframe[\"Height:\"], dataframe[\"Weight:\"])\n",
    "\n",
    "# creating a scatterplot and regression line for height and weight\n",
    "\n",
    "plt.scatter(dataframe[\"Height:\"], dataframe[\"Weight:\"])\n",
    "plt.xlabel(\"Height (inches)\")\n",
    "plt.ylabel(\"Weight (pounds)\")\n",
    "\n",
    "yhat = dataframe[\"Height:\"]*result1[0]+result1[1]+result1[-1]\n",
    "\n",
    "plt.plot(dataframe[\"Height:\"], yhat, color=\"red\")\n",
    "plt.show()\n",
    "\n",
    "# calcualting proportion of the variance explained\n",
    "\n",
    "r_squared = r**2\n",
    "\n",
    "print('R-Squared =', r_squared)"
   ]
  },
  {
   "cell_type": "code",
   "execution_count": null,
   "metadata": {},
   "outputs": [],
   "source": []
  }
 ],
 "metadata": {
  "kernelspec": {
   "display_name": "Python 3",
   "language": "python",
   "name": "python3"
  },
  "language_info": {
   "codemirror_mode": {
    "name": "ipython",
    "version": 3
   },
   "file_extension": ".py",
   "mimetype": "text/x-python",
   "name": "python",
   "nbconvert_exporter": "python",
   "pygments_lexer": "ipython3",
   "version": "3.7.4"
  }
 },
 "nbformat": 4,
 "nbformat_minor": 2
}
