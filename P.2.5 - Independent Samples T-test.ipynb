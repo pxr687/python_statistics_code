{
 "cells": [
  {
   "cell_type": "markdown",
   "metadata": {},
   "source": [
    "# Independent Samples T-Test\n",
    "\n",
    "Test formula:\n",
    "\n",
    "# $ t_{independent} = \\frac{\\overline{x}_1-\\overline{x}_2} {SE_{\\overline{x}_1-\\overline{x}_2}} $\n",
    "\n",
    "Subcomponents of test formula:\n",
    "\n",
    "### $ SE_{\\overline{x}_1 - \\overline{x}_2} = \\sqrt{\\frac{S^2_p}{n_1} + \\frac{S^2_p}{n_2}} $\n",
    "\n",
    "$S^2_p = \\frac{SS_1 + SS_2}{df_1 + df_2} $"
   ]
  },
  {
   "cell_type": "code",
   "execution_count": 16,
   "metadata": {},
   "outputs": [
    {
     "name": "stdout",
     "output_type": "stream",
     "text": [
      "Df: 998\n",
      "Independent Samples T: -38.3146\n",
      "Scipy Independent T-value: -38.3146\n",
      "p = 2.9864704635212174e-198\n",
      "The difference in the means between samples was signficantly different to that predicted by the null hypothesis.\n"
     ]
    },
    {
     "data": {
      "image/png": "[encoded data removed]",
      "text/plain": [
       "<Figure size 432x288 with 1 Axes>"
      ]
     },
     "metadata": {
      "needs_background": "light"
     },
     "output_type": "display_data"
    },
    {
     "name": "stdout",
     "output_type": "stream",
     "text": [
      "R-Squared =  0.6\n"
     ]
    }
   ],
   "source": [
    "# indpendent samples t test\n",
    "\n",
    "import statistics as stats\n",
    "import math\n",
    "import numpy as np\n",
    "import scipy\n",
    "import scipy.stats\n",
    "import matplotlib.pyplot as plt\n",
    "\n",
    "# generating the data. 1/2 probability that the samples are drawn from the sample population.\n",
    "\n",
    "data1 = []\n",
    "data2 = []\n",
    "\n",
    "coin = ['Heads', 'Tails']\n",
    "\n",
    "coin_toss = np.random.choice(coin)\n",
    "\n",
    "if coin_toss == 'Heads':\n",
    "    \n",
    "    for i in range(500):\n",
    "        data1.append(20*np.random.randn()+100)\n",
    "        data2.append(20*np.random.randn()+150)\n",
    "    \n",
    "if coin_toss == 'Tails':\n",
    "    for i in range(500):\n",
    "        data1.append(20*np.random.randn()+100)\n",
    "        data2.append(20*np.random.randn()+100)\n",
    "\n",
    "# identifying sample size and degrees of freedom:\n",
    "\n",
    "n_1 = len(data1)\n",
    "df_1 = n_1 - 1\n",
    "\n",
    "n_2 = len(data2)\n",
    "df_2 = n_2 - 1\n",
    "\n",
    "# calculating the mean and variance of each dataset:\n",
    "\n",
    "mean_1 = stats.mean(data1)\n",
    "mean_2 = stats.mean(data2)\n",
    "\n",
    "# sum of squared deviations for dataset 1:\n",
    "\n",
    "count = 0\n",
    "sq_dev_data1 = []\n",
    "for i in data1:\n",
    "    sq_dev_data1.append((data1[count]-mean_1)*(data1[count]-mean_1))\n",
    "    count = count+1\n",
    "    \n",
    "sum_sq_data1 = sum(sq_dev_data1)\n",
    "\n",
    "# sum of squared deviations for dataset 2:\n",
    "\n",
    "count = 0\n",
    "sq_dev_data2 = []\n",
    "for i in data2:\n",
    "    sq_dev_data2.append((data2[count]-mean_2)*(data2[count]-mean_2))\n",
    "    count = count + 1\n",
    "    \n",
    "sum_sq_data2 = sum(sq_dev_data2)\n",
    "\n",
    "# calculating the pooled variance:\n",
    "\n",
    "pool_var = (sum_sq_data1+sum_sq_data2)/(df_1+df_2)\n",
    "\n",
    "# calculating the standard error of the mean difference:\n",
    "\n",
    "std_err_mean_diff = math.sqrt((pool_var/n_1)+(pool_var/n_2))\n",
    "\n",
    "# calculating the test statistic:\n",
    "\n",
    "mean_diff = mean_1 - mean_2\n",
    "\n",
    "independent_t = mean_diff/std_err_mean_diff\n",
    "\n",
    "print('Df:', df_1+df_2)\n",
    "print('Independent Samples T:', round(independent_t, 4))\n",
    "\n",
    "# checking results, and obtaining p-value, with scipy:\n",
    "\n",
    "scipy_ind_t = scipy.stats.ttest_ind(data1, data2)\n",
    "\n",
    "print('Scipy Independent T-value:', round(scipy_ind_t[0],4))\n",
    "print('p =', scipy_ind_t[1])\n",
    "\n",
    "if scipy_ind_t[1] <= 0.05:\n",
    "    print('The difference in the means between samples was signficantly different to that predicted by the null hypothesis.')\n",
    "else:\n",
    "    print('The difference in the means between samples was NOT signficantly different to that predicted by the null hypothesis')\n",
    "    \n",
    "# creating a histogram for the data\n",
    "\n",
    "bins = np.linspace(1,250)\n",
    "\n",
    "plt.hist([data1,data2], bins, color = ['blue', 'red'], label = ['Group A', 'Group B'])\n",
    "\n",
    "plt.xlabel(\"Score on Dependent Variable\")\n",
    "\n",
    "plt.ylabel(\"Frequency\")\n",
    "\n",
    "plt.legend(loc='upper right')\n",
    "\n",
    "plt.show()\n",
    "\n",
    "# calculating effect size\n",
    "\n",
    "r_squared = independent_t**2/(independent_t**2 +(df_1+df_2))\n",
    "\n",
    "print('R-Squared = ', round(r_squared,2))"
   ]
  },
  {
   "cell_type": "code",
   "execution_count": null,
   "metadata": {},
   "outputs": [],
   "source": []
  }
 ],
 "metadata": {
  "kernelspec": {
   "display_name": "Python 3",
   "language": "python",
   "name": "python3"
  },
  "language_info": {
   "codemirror_mode": {
    "name": "ipython",
    "version": 3
   },
   "file_extension": ".py",
   "mimetype": "text/x-python",
   "name": "python",
   "nbconvert_exporter": "python",
   "pygments_lexer": "ipython3",
   "version": "3.7.4"
  }
 },
 "nbformat": 4,
 "nbformat_minor": 2
}
