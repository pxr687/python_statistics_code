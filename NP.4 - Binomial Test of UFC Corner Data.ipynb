{
 "cells": [
  {
   "cell_type": "code",
   "execution_count": 13,
   "metadata": {},
   "outputs": [
    {
     "name": "stdout",
     "output_type": "stream",
     "text": [
      "C:\\Users\\peter\\ufcdata\n"
     ]
    }
   ],
   "source": [
    "cd C:\\Users\\peter\\ufcdata"
   ]
  },
  {
   "cell_type": "code",
   "execution_count": 88,
   "metadata": {},
   "outputs": [
    {
     "name": "stdout",
     "output_type": "stream",
     "text": [
      "              R_fighter       B_fighter          Referee        date  \\\n",
      "0          Henry Cejudo   Marlon Moraes     Marc Goddard  2019-06-08   \n",
      "1  Valentina Shevchenko     Jessica Eye  Robert Madrigal  2019-06-08   \n",
      "2         Tony Ferguson  Donald Cerrone  Dan Miragliotta  2019-06-08   \n",
      "3         Jimmie Rivera        Petr Yan  Kevin MacDonald  2019-06-08   \n",
      "4           Tai Tuivasa   Blagoy Ivanov  Dan Miragliotta  2019-06-08   \n",
      "\n",
      "                 location Winner  title_bout       weight_class  no_of_rounds  \\\n",
      "0  Chicago, Illinois, USA    Red        True       Bantamweight             5   \n",
      "1  Chicago, Illinois, USA    Red        True  Women's Flyweight             5   \n",
      "2  Chicago, Illinois, USA    Red       False        Lightweight             3   \n",
      "3  Chicago, Illinois, USA   Blue       False       Bantamweight             3   \n",
      "4  Chicago, Illinois, USA   Blue       False        Heavyweight             3   \n",
      "\n",
      "   B_current_lose_streak  ...  R_win_by_KO/TKO  R_win_by_Submission  \\\n",
      "0                    0.0  ...              2.0                  0.0   \n",
      "1                    0.0  ...              0.0                  2.0   \n",
      "2                    0.0  ...              3.0                  6.0   \n",
      "3                    0.0  ...              1.0                  0.0   \n",
      "4                    0.0  ...              2.0                  0.0   \n",
      "\n",
      "   R_win_by_TKO_Doctor_Stoppage  R_wins  R_Stance  R_Height_cms  R_Reach_cms  \\\n",
      "0                           0.0     8.0  Orthodox        162.56       162.56   \n",
      "1                           0.0     5.0  Southpaw        165.10       167.64   \n",
      "2                           1.0    14.0  Orthodox        180.34       193.04   \n",
      "3                           0.0     6.0  Orthodox        162.56       172.72   \n",
      "4                           0.0     3.0  Southpaw        187.96       190.50   \n",
      "\n",
      "   R_Weight_lbs  B_age  R_age  \n",
      "0         135.0   31.0   32.0  \n",
      "1         125.0   32.0   31.0  \n",
      "2         155.0   36.0   35.0  \n",
      "3         135.0   26.0   29.0  \n",
      "4         264.0   32.0   26.0  \n",
      "\n",
      "[5 rows x 145 columns]\n",
      "\n",
      "            count\n",
      "Red Wins:    3470\n",
      "Blue Wins:   1591\n",
      "\n",
      "Manually calculated binomial test z score = 26.41244534900858\n",
      "P = 2.990934354086947e-157\n",
      "The z-score of the observed proportion was signficantly different to that predicted by the null hypothesis (of equiprobability).\n",
      "\n"
     ]
    },
    {
     "data": {
      "text/plain": [
       "<matplotlib.axes._subplots.AxesSubplot at 0x1e718440608>"
      ]
     },
     "execution_count": 88,
     "metadata": {},
     "output_type": "execute_result"
    },
    {
     "data": {
      "image/png": "[encoded data removed]",
      "text/plain": [
       "<Figure size 432x288 with 1 Axes>"
      ]
     },
     "metadata": {
      "needs_background": "light"
     },
     "output_type": "display_data"
    },
    {
     "data": {
      "image/png": "[encoded data removed]",
      "text/plain": [
       "<Figure size 432x288 with 1 Axes>"
      ]
     },
     "metadata": {
      "needs_background": "light"
     },
     "output_type": "display_data"
    }
   ],
   "source": [
    "import pandas as pd\n",
    "import math\n",
    "import scipy.stats\n",
    "import matplotlib.pyplot as plt\n",
    "\n",
    "# this dataset  contains the results of MMA fights in the UFC. Fighters are assigned to a coloured corner (red or blue). \n",
    "# I wanted to investigate whether a higher proportion of victories was associated with one corner colour.\n",
    "\n",
    "dframe = pd.read_csv('data.csv')\n",
    "\n",
    "print(dframe.head())\n",
    "print()\n",
    "\n",
    "count_red_win = len(dframe[dframe['Winner'] == 'Red'])\n",
    "count_blue_win = len(dframe[dframe['Winner'] == 'Blue'])\n",
    "\n",
    "dframe2 = pd.DataFrame([count_red_win, count_blue_win], columns = ['count'])\n",
    "dframe2.index = ['Red Wins:', 'Blue Wins:']\n",
    "\n",
    "print(dframe2)\n",
    "print()\n",
    "\n",
    "# binomial test parameters. H0 = red and blue wins are equally likely.\n",
    "\n",
    "p = 0.5\n",
    "q = 1 - p\n",
    "n = count_red_win+count_blue_win\n",
    "\n",
    "np = n*p\n",
    "SE = math.sqrt(n*p*q)\n",
    "\n",
    "obs = dframe2['count'][0]\n",
    "\n",
    "z = (obs - np)/SE\n",
    "\n",
    "print('Manually calculated binomial test z score =', z)\n",
    "\n",
    "# calculating a p-value with scipy.stats\n",
    "\n",
    "result = scipy.stats.binom_test(obs,n)\n",
    "\n",
    "print('P =', result)\n",
    "\n",
    "if result <= 0.05:\n",
    "    print('The z-score of the observed proportion was signficantly different to that predicted by the null hypothesis (of equiprobability).')\n",
    "else:\n",
    "        print('The z-score of the observed proportion was NOT signficantly different to that predicted by the null hypothesis (of equiprobability).')\n",
    "# plotting the expected and observed frequencies\n",
    "print()\n",
    "dframe3 = pd.DataFrame([np,np], columns = ['count'])\n",
    "dframe3.index = ['Expected Red Wins:', 'Expected Blue Wins:']\n",
    "\n",
    "dframe2.plot.bar(color = 'red')\n",
    "dframe3.plot.bar()\n",
    "\n"
   ]
  },
  {
   "cell_type": "code",
   "execution_count": null,
   "metadata": {},
   "outputs": [],
   "source": []
  }
 ],
 "metadata": {
  "kernelspec": {
   "display_name": "Python 3",
   "language": "python",
   "name": "python3"
  },
  "language_info": {
   "codemirror_mode": {
    "name": "ipython",
    "version": 3
   },
   "file_extension": ".py",
   "mimetype": "text/x-python",
   "name": "python",
   "nbconvert_exporter": "python",
   "pygments_lexer": "ipython3",
   "version": "3.7.4"
  }
 },
 "nbformat": 4,
 "nbformat_minor": 2
}
