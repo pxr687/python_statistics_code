{
 "cells": [
  {
   "cell_type": "code",
   "execution_count": 1,
   "metadata": {},
   "outputs": [
    {
     "name": "stdout",
     "output_type": "stream",
     "text": [
      "\n",
      "Manually calculated Spearman's rho = 0.9363265306122449\n",
      "t = 18.47478499558321\n",
      "p = 0.0 \n",
      "\n",
      "Results of scipy.stats Spearman Rho: SpearmanrResult(correlation=0.9363265306122448, pvalue=1.857409006783346e-23)\n"
     ]
    },
    {
     "data": {
      "image/png": "[encoded data removed]",
      "text/plain": [
       "<Figure size 432x288 with 1 Axes>"
      ]
     },
     "metadata": {
      "needs_background": "light"
     },
     "output_type": "display_data"
    }
   ],
   "source": [
    "import scipy.stats\n",
    "import matplotlib.pyplot as plt\n",
    "import pandas as pd\n",
    "import numpy as np\n",
    "from scipy.interpolate import *\n",
    "\n",
    "# creating the data\n",
    "\n",
    "x = []\n",
    "y = []\n",
    "\n",
    "for i in range (50):\n",
    "    x.append(np.random.uniform(0,10))\n",
    "    \n",
    "count = 0\n",
    "for i in x:\n",
    "    randnum = np.random.randint(-50, 50)\n",
    "    y.append(x[count]**3 + np.random.uniform(-90,90) + randnum)\n",
    "    count= count+1\n",
    "\n",
    "# calculating the ranks\n",
    "\n",
    "x_ranks = scipy.stats.rankdata(x)\n",
    "y_ranks = scipy.stats.rankdata(y)\n",
    "\n",
    "#calculating the mean of the ranks\n",
    "x_rank_mean = np.mean(x_ranks)\n",
    "y_rank_mean = np.mean(y_ranks)\n",
    "\n",
    "#calculating the sum of the product of the deviations of the ranks\n",
    "\n",
    "x_rank_dev = []\n",
    "y_rank_dev = []\n",
    "\n",
    "\n",
    "count = 0\n",
    "for i in x_ranks:\n",
    "    x_rank_dev.append(x_ranks[count] - x_rank_mean)\n",
    "    count = count + 1\n",
    "    \n",
    "count = 0\n",
    "for i in y_ranks:\n",
    "    y_rank_dev.append(y_ranks[count] - y_rank_mean)\n",
    "    count = count + 1\n",
    "    \n",
    "products = []\n",
    "\n",
    "count = 0\n",
    "if len(x) == len(y):\n",
    "    for i in x_rank_dev:\n",
    "        products.append(x_rank_dev[count]*y_rank_dev[count])\n",
    "        count = count+1\n",
    "        \n",
    "sum_products = sum(products)\n",
    "\n",
    "# calculating the sum of sqaures for the ranks\n",
    "\n",
    "x_sq_dev = []\n",
    "\n",
    "count = 0\n",
    "for i in x_rank_dev:\n",
    "    x_sq_dev.append(x_rank_dev[count]**2)\n",
    "    count = count + 1\n",
    "    \n",
    "SS_x = sum(x_sq_dev)\n",
    "    \n",
    "y_sq_dev = []\n",
    "\n",
    "count = 0\n",
    "for i in y_rank_dev:\n",
    "    y_sq_dev.append(y_rank_dev[count]**2)\n",
    "    count = count + 1\n",
    "    \n",
    "SS_y = sum(y_sq_dev)\n",
    "\n",
    "# calculating Spearman's rho\n",
    "\n",
    "rho = sum_products/np.sqrt(SS_x*SS_y)\n",
    "n_minus_2 = len(y) - 2\n",
    "t_of_r = (rho*np.sqrt(n_minus_2))/np.sqrt(1-rho**2)\n",
    "p_value = 2 * (1 - scipy.stats.t.cdf(abs(t_of_r), df = n_minus_2 ))\n",
    "\n",
    "print(\"\\nManually calculated Spearman's rho =\", rho)\n",
    "print('t =', t_of_r)\n",
    "print('p =', p_value, '\\n')\n",
    "\n",
    "#checking results with scipy.stats.spearmanr\n",
    "\n",
    "print('Results of scipy.stats Spearman Rho:', scipy.stats.spearmanr(x,y))\n",
    "\n",
    "# plotting the data\n",
    "\n",
    "fit = np.polyfit(x,y,3)\n",
    "\n",
    "plt.scatter(x,y, color = 'red')\n",
    "plt.plot(np.sort(x),np.polyval(fit,np.sort(x)), 'b-')\n",
    "plt.xlabel('X Score')\n",
    "plt.ylabel('Y Score')\n",
    "\n",
    "plt.show()"
   ]
  },
  {
   "cell_type": "code",
   "execution_count": null,
   "metadata": {},
   "outputs": [],
   "source": []
  }
 ],
 "metadata": {
  "kernelspec": {
   "display_name": "Python 3",
   "language": "python",
   "name": "python3"
  },
  "language_info": {
   "codemirror_mode": {
    "name": "ipython",
    "version": 3
   },
   "file_extension": ".py",
   "mimetype": "text/x-python",
   "name": "python",
   "nbconvert_exporter": "python",
   "pygments_lexer": "ipython3",
   "version": "3.7.9"
  }
 },
 "nbformat": 4,
 "nbformat_minor": 2
}
