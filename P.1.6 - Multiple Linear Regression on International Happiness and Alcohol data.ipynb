{
 "cells": [
  {
   "cell_type": "code",
   "execution_count": 8,
   "metadata": {},
   "outputs": [
    {
     "name": "stdout",
     "output_type": "stream",
     "text": [
      "                            OLS Regression Results                            \n",
      "==============================================================================\n",
      "Dep. Variable:         HappinessScore   R-squared:                       0.677\n",
      "Model:                            OLS   Adj. R-squared:                  0.663\n",
      "Method:                 Least Squares   F-statistic:                     48.55\n",
      "Date:                Sun, 29 Mar 2020   Prob (F-statistic):           7.05e-27\n",
      "Time:                        17:38:44   Log-Likelihood:                -120.66\n",
      "No. Observations:                 122   AIC:                             253.3\n",
      "Df Residuals:                     116   BIC:                             270.1\n",
      "Df Model:                           5                                         \n",
      "Covariance Type:            nonrobust                                         \n",
      "====================================================================================\n",
      "                       coef    std err          t      P>|t|      [0.025      0.975]\n",
      "------------------------------------------------------------------------------------\n",
      "const                0.4899      0.461      1.063      0.290      -0.423       1.403\n",
      "HDI                  0.0069      0.001     10.196      0.000       0.006       0.008\n",
      "GDP_PerCapita        0.0002      0.000      0.672      0.503      -0.000       0.001\n",
      "Beer_PerCapita       0.0007      0.001      0.912      0.363      -0.001       0.002\n",
      "Spirit_PerCapita    -0.0014      0.001     -1.655      0.101      -0.003       0.000\n",
      "Wine_PerCapita      -0.0014      0.001     -1.471      0.144      -0.003       0.000\n",
      "==============================================================================\n",
      "Omnibus:                        5.197   Durbin-Watson:                   1.396\n",
      "Prob(Omnibus):                  0.074   Jarque-Bera (JB):                3.098\n",
      "Skew:                          -0.185   Prob(JB):                        0.212\n",
      "Kurtosis:                       2.312   Cond. No.                     5.98e+03\n",
      "==============================================================================\n",
      "\n",
      "Warnings:\n",
      "[1] Standard Errors assume that the covariance matrix of the errors is correctly specified.\n",
      "[2] The condition number is large, 5.98e+03. This might indicate that there are\n",
      "strong multicollinearity or other numerical problems.\n"
     ]
    },
    {
     "data": {
      "image/png": "[encoded data removed]",
      "text/plain": [
       "<Figure size 432x288 with 1 Axes>"
      ]
     },
     "metadata": {
      "needs_background": "light"
     },
     "output_type": "display_data"
    }
   ],
   "source": [
    "import pandas as pd\n",
    "import numpy as np\n",
    "import matplotlib.pyplot as plt\n",
    "import statsmodels.api as sm\n",
    "import statsmodels.formula.api as smf\n",
    "import plotly.express as px\n",
    "import scipy.stats\n",
    "\n",
    "# data obtained from https://www.kaggle.com/marcospessotto/happiness-and-alcohol-consumption\n",
    "\n",
    "dframe = pd.read_csv('HappinessAlcoholConsumption.csv')\n",
    "\n",
    "y = dframe['HappinessScore']\n",
    "\n",
    "x = dframe[['HDI', 'GDP_PerCapita','Beer_PerCapita', 'Spirit_PerCapita', 'Wine_PerCapita']]\n",
    "\n",
    "x = sm.add_constant(x) \n",
    "\n",
    "mod = sm.OLS(y, x).fit()\n",
    "predict = mod.predict(x) \n",
    "\n",
    "print_mod = mod.summary()\n",
    "print(print_mod)\n",
    "\n",
    "# plotting the data\n",
    "\n",
    "plt.scatter(dframe['HDI'], dframe['HappinessScore'])\n",
    "plt.xlabel(\"Human Development Index Score\")\n",
    "plt.ylabel(\"Happiness Score\")\n",
    "\n",
    "result1 = scipy.stats.linregress(dframe['HDI'], dframe['HappinessScore'])\n",
    "\n",
    "yhat = dframe['HDI']*result1[0]+result1[1]+result1[-1]\n",
    "\n",
    "plt.plot(np.sort(dframe['HDI']), np.sort(yhat), color=\"orange\")\n",
    "plt.show()\n"
   ]
  },
  {
   "cell_type": "code",
   "execution_count": null,
   "metadata": {},
   "outputs": [],
   "source": []
  }
 ],
 "metadata": {
  "kernelspec": {
   "display_name": "Python 3",
   "language": "python",
   "name": "python3"
  },
  "language_info": {
   "codemirror_mode": {
    "name": "ipython",
    "version": 3
   },
   "file_extension": ".py",
   "mimetype": "text/x-python",
   "name": "python",
   "nbconvert_exporter": "python",
   "pygments_lexer": "ipython3",
   "version": "3.7.4"
  }
 },
 "nbformat": 4,
 "nbformat_minor": 2
}
