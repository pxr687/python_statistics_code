{
 "cells": [
  {
   "cell_type": "code",
   "execution_count": 1,
   "metadata": {},
   "outputs": [
    {
     "name": "stdout",
     "output_type": "stream",
     "text": [
      "Df: 499\n",
      "Manually Calculated Dependent Samples T-value= -0.3383\n",
      "P-value =  0.7352852738654214\n",
      "\n",
      "Scipy Dependent T-value:  -0.3383\n",
      "p = 0.7352852738654216\n",
      "The mean difference was NOT significantly different to that predicted under the null hypothesis, p <= 0.05\n"
     ]
    },
    {
     "data": {
      "image/png": "[encoded data removed]",
      "text/plain": [
       "<Figure size 432x288 with 1 Axes>"
      ]
     },
     "metadata": {
      "needs_background": "light"
     },
     "output_type": "display_data"
    },
    {
     "name": "stdout",
     "output_type": "stream",
     "text": [
      "R-squared = 0.0\n"
     ]
    }
   ],
   "source": [
    "# calculating a Dependent Samples T-Test:\n",
    "\n",
    "import statistics as stats\n",
    "import numpy as np\n",
    "import scipy\n",
    "import scipy.stats\n",
    "import pandas as pd\n",
    "import math\n",
    "import matplotlib.pyplot as plt\n",
    "\n",
    "# EITHER generating random samples from populations with different means, OR generating samples from the same population\n",
    "\n",
    "data1 = []\n",
    "data2 = []\n",
    "\n",
    "coin = ['Heads', 'Tails']\n",
    "\n",
    "coin_flip = np.random.choice(coin)\n",
    "\n",
    "if coin_flip == 'Heads':\n",
    "    for i in range(500):\n",
    "        data1.append(round(20*np.random.randn() + 100))\n",
    "        data2.append(round(20*np.random.randn() + 100))\n",
    "    \n",
    "if coin_flip == 'Tails':\n",
    "    for i in range(500):\n",
    "        data1.append(round(20*np.random.randn() + 100))\n",
    "        data2.append(round(20*np.random.randn() + 150))\n",
    "\n",
    "df = []\n",
    "n = []\n",
    "\n",
    "# finding sample size and degrees of freedom:\n",
    "\n",
    "if len(data1) == len(data2):\n",
    "    df = len(data1)-1\n",
    "    n = len(data1)\n",
    "    \n",
    "# calculating differences between paired scores:\n",
    "\n",
    "diff = []\n",
    "\n",
    "count = 0\n",
    "for i in data2:\n",
    "    diff.append(i - data1[count])\n",
    "    count = count + 1\n",
    "    \n",
    "# calculating the mean difference score and the variance of the difference scores:\n",
    "    \n",
    "mean_diff = stats.mean(diff)\n",
    "\n",
    "count = 0\n",
    "squared_dev_diff = []\n",
    "for i in diff:\n",
    "    squared_dev_diff.append((i - mean_diff)*(i - mean_diff))\n",
    "    count = count + 1\n",
    "\n",
    "sum_squared_dev_diff = sum(squared_dev_diff)\n",
    "    \n",
    "var_diff = sum_squared_dev_diff/df\n",
    "\n",
    "# calculating the standard error of the difference scores:\n",
    "\n",
    "std_err_diff = math.sqrt(var_diff/n)\n",
    "\n",
    "# calculating the dependent samples t statistic:\n",
    "\n",
    "dependent_t = mean_diff/std_err_diff\n",
    "\n",
    "print('Df:', df) \n",
    "print('Manually Calculated Dependent Samples T-value=', round(dependent_t, 4))\n",
    "print('P-value = ', 2* (1 - scipy.stats.t.cdf(x = abs(dependent_t), df = df)))\n",
    "\n",
    "\n",
    "# comparing the t statistic result to scipy.stats.ttest_rel result:\n",
    "\n",
    "scipy_ttest_rel = scipy.stats.ttest_rel(data2, data1)\n",
    "\n",
    "print('\\nScipy Dependent T-value: ', round(scipy_ttest_rel[0], 4))\n",
    "print('p =', scipy_ttest_rel[1])\n",
    "\n",
    "\n",
    "# using the scipy t test to get p-value:\n",
    "      \n",
    "if (scipy_ttest_rel[1]) <= 0.05:\n",
    "    print('The mean difference was significantly different to that predicted under the null hypothesis, p <= 0.05')\n",
    "else:\n",
    "      print('The mean difference was NOT significantly different to that predicted under the null hypothesis, p <= 0.05')\n",
    "        \n",
    "# creating a histogram of the data\n",
    "\n",
    "bins = np.linspace(1,250)\n",
    "\n",
    "plt.hist([data1, data2], bins, color = ['cyan','black'], label = ['Condition A', 'Condition B'])\n",
    "plt.xlabel(\"Score on Dependent Variable\")\n",
    "\n",
    "plt.ylabel(\"Frequency\")\n",
    "\n",
    "plt.legend(loc='upper right')\n",
    "\n",
    "plt.show()\n",
    "\n",
    "# calculating effect size\n",
    "\n",
    "r_squared = dependent_t**2/(dependent_t**2 + df)\n",
    "\n",
    "print('R-squared =', round(r_squared,2))"
   ]
  },
  {
   "cell_type": "code",
   "execution_count": null,
   "metadata": {},
   "outputs": [],
   "source": []
  }
 ],
 "metadata": {
  "kernelspec": {
   "display_name": "Python 3",
   "language": "python",
   "name": "python3"
  },
  "language_info": {
   "codemirror_mode": {
    "name": "ipython",
    "version": 3
   },
   "file_extension": ".py",
   "mimetype": "text/x-python",
   "name": "python",
   "nbconvert_exporter": "python",
   "pygments_lexer": "ipython3",
   "version": "3.7.9"
  }
 },
 "nbformat": 4,
 "nbformat_minor": 2
}
