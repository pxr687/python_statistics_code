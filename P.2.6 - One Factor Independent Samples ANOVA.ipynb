{
 "cells": [
  {
   "cell_type": "code",
   "execution_count": 1,
   "metadata": {},
   "outputs": [
    {
     "name": "stdout",
     "output_type": "stream",
     "text": [
      "Manually calculated F = 101.3823\n",
      "P-value = 1.1102230246251565e-16\n",
      "Scipy ANOVA result: F_onewayResult(statistic=101.38229101480039, pvalue=2.4872587514569636e-43)\n"
     ]
    },
    {
     "data": {
      "image/png": "[encoded data removed]",
      "text/plain": [
       "<Figure size 432x288 with 1 Axes>"
      ]
     },
     "metadata": {
      "needs_background": "light"
     },
     "output_type": "display_data"
    },
    {
     "name": "stdout",
     "output_type": "stream",
     "text": [
      "Eta-Squared = 0.06336859379229393\n"
     ]
    }
   ],
   "source": [
    "# one factor independent samples ANOVA\n",
    "\n",
    "import numpy as np\n",
    "import statistics\n",
    "import random\n",
    "import scipy\n",
    "from scipy import stats\n",
    "import matplotlib.pyplot as plt\n",
    "\n",
    "# generating three samples with different means\n",
    "\n",
    "sample1 = []\n",
    "sample2 = []\n",
    "sample3 = []\n",
    "\n",
    "random_means = np.random.choice(np.arange(50, 80), size = 3)\n",
    "\n",
    "for i in range(0,1000):\n",
    "    sample1.append(round(10*np.random.randn()+random_means[0]))\n",
    "    sample2.append(round(10*np.random.randn()+random_means[1]))\n",
    "    sample3.append(round(10*np.random.randn()+random_means[2]))\n",
    "\n",
    "\n",
    "# defining the total number of scores, number of levels of the factor and degrees of freedom\n",
    "\n",
    "N = len(sample1)+len(sample2)+len(sample3)\n",
    "k = 3\n",
    "df_total = N-1\n",
    "df_between_treatments = k-1\n",
    "df_within_treatments = (len(sample1)-1) + (len(sample2)-1) + (len(sample3)-1)\n",
    "\n",
    "# calculating the total sum of squares \n",
    "\n",
    "x_sqd = []\n",
    "\n",
    "for i in sample1:\n",
    "    x_sqd.append(i**2)\n",
    "  \n",
    "for i in sample2:\n",
    "    x_sqd.append(i**2)\n",
    "    \n",
    "for i in sample3:\n",
    "    x_sqd.append(i**2)\n",
    "\n",
    "    \n",
    "sum_x_sqd = sum(x_sqd)\n",
    "\n",
    "g_sq = (sum(sample1)+sum(sample2)+sum(sample3))**2\n",
    "\n",
    "ss_total = sum_x_sqd - (g_sq/N)\n",
    "\n",
    "# calculating the between treatments sum of squares\n",
    "\n",
    "total_sample1 = sum(sample1)\n",
    "total_sample2 = sum(sample2)\n",
    "total_sample3 = sum(sample3)\n",
    "\n",
    "SS_between_treatments = (((total_sample1**2/len(sample1)) + (total_sample2**2/len(sample2)) + (total_sample3**2/len(sample3))) - g_sq/N)\n",
    "\n",
    "# calculating the within treatments sum of squares\n",
    "\n",
    "sqs_sample1 = []\n",
    "\n",
    "\n",
    "for i in np.arange(len(sample1)):\n",
    "    sqs_sample1.append(sample1[i]**2)\n",
    "    \n",
    "\n",
    "SS_sample1 = sum(sqs_sample1) - sum(sample1)**2/len(sample1)\n",
    "\n",
    "sqs_sample2 = []\n",
    "\n",
    "\n",
    "for i in np.arange(len(sample2)):\n",
    "    sqs_sample2.append(sample2[i]**2)\n",
    "    \n",
    "\n",
    "SS_sample2 = sum(sqs_sample2) - sum(sample2)**2/len(sample2)\n",
    "\n",
    "sqs_sample3 = []\n",
    "\n",
    "\n",
    "for i in np.arange(len(sample3)):\n",
    "    sqs_sample3.append(sample3[i]**2)\n",
    "\n",
    "SS_sample3 = sum(sqs_sample3) - sum(sample3)**2/len(sample3)\n",
    "\n",
    "SS_within_treatments = SS_sample1 + SS_sample2 + SS_sample3\n",
    "\n",
    "# calculating the between treatments and within treatments variance\n",
    "\n",
    "between_treatments_variance = SS_between_treatments/df_between_treatments\n",
    "\n",
    "within_treatments_variance = SS_within_treatments/df_within_treatments\n",
    "\n",
    "# calculating the F ratio\n",
    "\n",
    "F_ratio = between_treatments_variance/within_treatments_variance\n",
    "\n",
    "print('Manually calculated F =', round(F_ratio, 4))\n",
    "print('P-value =', 1 - scipy.stats.f.cdf(F_ratio, dfn = df_between_treatments, dfd = df_within_treatments))\n",
    "\n",
    "# checking result with scipy ANOVA\n",
    "\n",
    "scipy_result = scipy.stats.f_oneway(sample1,sample2,sample3)\n",
    "\n",
    "print('Scipy ANOVA result:', scipy_result)\n",
    "    \n",
    "# plotting a boxplot of the data\n",
    "\n",
    "plt.boxplot([sample1,sample2,sample3])\n",
    "plt.xlabel('Group')\n",
    "plt.ylabel('Score on Dependent Variable')\n",
    "plt.show()\n",
    "\n",
    "# calculating effect size\n",
    "\n",
    "eta_squared = SS_between_treatments/(SS_between_treatments+SS_within_treatments)\n",
    "\n",
    "print('Eta-Squared =', eta_squared)"
   ]
  },
  {
   "cell_type": "code",
   "execution_count": null,
   "metadata": {},
   "outputs": [],
   "source": []
  }
 ],
 "metadata": {
  "kernelspec": {
   "display_name": "Python 3",
   "language": "python",
   "name": "python3"
  },
  "language_info": {
   "codemirror_mode": {
    "name": "ipython",
    "version": 3
   },
   "file_extension": ".py",
   "mimetype": "text/x-python",
   "name": "python",
   "nbconvert_exporter": "python",
   "pygments_lexer": "ipython3",
   "version": "3.7.9"
  }
 },
 "nbformat": 4,
 "nbformat_minor": 2
}
