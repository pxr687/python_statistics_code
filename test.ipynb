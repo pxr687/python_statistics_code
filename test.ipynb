{
 "cells": [
  {
   "cell_type": "code",
   "execution_count": 1,
   "metadata": {
    "tags": [
     "hidecode"
    ]
   },
   "outputs": [
    {
     "data": {
      "image/png": "[encoded data removed]",
      "text/plain": [
       "<Figure size 432x288 with 1 Axes>"
      ]
     },
     "metadata": {
      "needs_background": "light"
     },
     "output_type": "display_data"
    }
   ],
   "source": [
    "import numpy as np\n",
    "import pandas as pd\n",
    "import matplotlib.pyplot as plt\n",
    "import statsmodels.formula.api as smf\n",
    "\n",
    "# political orientation of the population of an island\n",
    "politics = np.random.choice(['left_wing', 'right_wing', 'centre'], p = [3/10, 5/10, 2/10], size = 1000)\n",
    "\n",
    "# income of the population, unrelated to number of sexual partners\n",
    "\n",
    "income = np.zeros(len(politics))\n",
    "\n",
    "for i in np.arange(len(politics)):\n",
    "    \n",
    "    means = [np.random.randint(20000), np.random.randint(40000), np.random.randint(60000)]\n",
    "    random_sequence = np.random.permutation([0,1,2])\n",
    "    \n",
    "    if politics[i] == 'left_wing':\n",
    "        income[i] = np.abs(np.random.normal(means[random_sequence[0]], 1000))\n",
    "        \n",
    "    elif politics[i] == 'right_wing':\n",
    "        income[i] = np.abs(np.random.normal(means[random_sequence[1]], 1000))\n",
    "        \n",
    "    elif politics[i] == 'centre':\n",
    "        income[i] = np.abs(np.random.normal(means[random_sequence[2]], 1000))\n",
    "        \n",
    "plt.figure()\n",
    "plt.hist(income)\n",
    "plt.show()"
   ]
  },
  {
   "cell_type": "code",
   "execution_count": 2,
   "metadata": {},
   "outputs": [
    {
     "data": {
      "text/plain": [
       "1"
      ]
     },
     "execution_count": 2,
     "metadata": {},
     "output_type": "execute_result"
    }
   ],
   "source": [
    "random_sequence[1]"
   ]
  },
  {
   "cell_type": "code",
   "execution_count": null,
   "metadata": {},
   "outputs": [],
   "source": []
  }
 ],
 "metadata": {
  "celltoolbar": "Tags",
  "kernelspec": {
   "display_name": "Python 3",
   "language": "python",
   "name": "python3"
  },
  "language_info": {
   "codemirror_mode": {
    "name": "ipython",
    "version": 3
   },
   "file_extension": ".py",
   "mimetype": "text/x-python",
   "name": "python",
   "nbconvert_exporter": "python",
   "pygments_lexer": "ipython3",
   "version": "3.7.7"
  }
 },
 "nbformat": 4,
 "nbformat_minor": 4
}
