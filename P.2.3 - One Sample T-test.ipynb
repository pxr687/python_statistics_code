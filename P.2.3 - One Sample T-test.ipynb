{
 "cells": [
  {
   "cell_type": "markdown",
   "metadata": {},
   "source": [
    "# One Sample T-Test\n",
    "\n",
    "Test formula:\n",
    "\n",
    "# $ t_{one-sample} = \\frac{\\overline{x}-\\mu}{SE_{\\overline{x}}} $\n",
    "\n",
    "Subcomponents of test formula:\n",
    "\n",
    "## $ SE_{\\overline{x}} = \\sqrt{\\frac{s^2}{n}} $\n",
    "\n",
    "### $ s^2 = \\frac{\\sum_{i=1}^{n}(x_i - \\overline{x})^2} {df} $"
   ]
  },
  {
   "cell_type": "code",
   "execution_count": 10,
   "metadata": {},
   "outputs": [
    {
     "name": "stdout",
     "output_type": "stream",
     "text": [
      "Coin toss = Tails\n",
      "If coin toss = \"Heads\" then the sample was drawn from a population with a mean of 99.84\n",
      "If coin toss = \"Tails\" then the sample was drawn from a population with a mean of 149.6005\n",
      "\n",
      "Population mean that the sample is being tested against = 99.84\n",
      "Sample mean = 148.976\n",
      "\n",
      "Manually calculated One Sample T = 57.68495\n",
      "scipy.stats one sample t test result: t = 57.68495296687656 p= 7.053713622564063e-223\n"
     ]
    },
    {
     "data": {
      "image/png": "[encoded data removed]",
      "text/plain": [
       "<Figure size 432x288 with 1 Axes>"
      ]
     },
     "metadata": {
      "needs_background": "light"
     },
     "output_type": "display_data"
    },
    {
     "name": "stdout",
     "output_type": "stream",
     "text": [
      "R-squared = 0.87\n"
     ]
    }
   ],
   "source": [
    "# one sample t test\n",
    "\n",
    "import numpy as np\n",
    "import scipy.stats\n",
    "import statistics as stats\n",
    "import random\n",
    "import math\n",
    "import matplotlib.pyplot as plt\n",
    "\n",
    "# generating two populations with different means\n",
    "\n",
    "population_1 = []\n",
    "\n",
    "population_2 = []\n",
    "\n",
    "for i in range(2000):\n",
    "    population_1.append(round(20*np.random.randn() + 100))\n",
    "    \n",
    "for i in range(2000):\n",
    "    population_2.append(round(20*np.random.randn() + 150))\n",
    "    \n",
    "# calculating the mean of population 1\n",
    "\n",
    "pop_mean = stats.mean(population_1)\n",
    "\n",
    "# making a 'coin toss' to determine whether a sample is drawn from population 1 or population 2 (which have different means)\n",
    "\n",
    "coin = ['Heads', 'Tails']\n",
    "\n",
    "coin_toss = np.random.choice(coin)\n",
    "\n",
    "print('Coin toss =', coin_toss)\n",
    "print('If coin toss = \"Heads\" then the sample was drawn from a population with a mean of', pop_mean)\n",
    "print('If coin toss = \"Tails\" then the sample was drawn from a population with a mean of', stats.mean(population_2))\n",
    "print()\n",
    "\n",
    "if coin_toss == 'Heads':\n",
    "    sample = random.sample(population_1, 500)\n",
    "    \n",
    "if coin_toss == 'Tails':\n",
    "    sample = random.sample(population_2, 500)\n",
    "    \n",
    "# calculating the sample mean\n",
    "\n",
    "x_bar = stats.mean(sample)\n",
    "\n",
    "# calculating the estimated standard error of x_bar\n",
    "\n",
    "sq_dev = []\n",
    "\n",
    "\n",
    "count = 0\n",
    "for i in sample:\n",
    "    sq_dev.append((sample[count]-x_bar)**2)\n",
    "    count = count + 1\n",
    "    \n",
    "df = len(sample)-1\n",
    "\n",
    "sample_var = sum(sq_dev)/df\n",
    "\n",
    "est_SE = math.sqrt(sample_var/len(sample))\n",
    "\n",
    "# calculating the one sample t-statistics\n",
    "\n",
    "t_one_sample = (x_bar-pop_mean)/est_SE\n",
    "\n",
    "# printing results\n",
    "\n",
    "\n",
    "print('Population mean that the sample is being tested against =', pop_mean)\n",
    "print('Sample mean =', x_bar)\n",
    "print()\n",
    "print('Manually calculated One Sample T =', round(t_one_sample, 5))\n",
    "\n",
    "# checking result with scipy.stats one sample t-test\n",
    "\n",
    "scipy_result = scipy.stats.ttest_1samp(sample,pop_mean)\n",
    "\n",
    "print('scipy.stats one sample t test result: t =', scipy_result[0],'p=', scipy_result[1])\n",
    "\n",
    "# plotting the data\n",
    "bins = np.linspace(1,230)\n",
    "plt.hist([population_1, sample],bins, label = ['Population', 'Sample'], color = ['black', 'red'])\n",
    "plt.xlabel('Score on Outcome Variable')\n",
    "plt.ylabel('Frequency')\n",
    "plt.legend(loc = 'upper right')\n",
    "plt.show()\n",
    "\n",
    "# calculating the effect size\n",
    "\n",
    "r_squared = t_one_sample**2/(t_one_sample**2 + (len(sample)-1))\n",
    "\n",
    "print('R-squared =', round(r_squared,2))"
   ]
  },
  {
   "cell_type": "code",
   "execution_count": null,
   "metadata": {},
   "outputs": [],
   "source": []
  }
 ],
 "metadata": {
  "kernelspec": {
   "display_name": "Python 3",
   "language": "python",
   "name": "python3"
  },
  "language_info": {
   "codemirror_mode": {
    "name": "ipython",
    "version": 3
   },
   "file_extension": ".py",
   "mimetype": "text/x-python",
   "name": "python",
   "nbconvert_exporter": "python",
   "pygments_lexer": "ipython3",
   "version": "3.7.4"
  }
 },
 "nbformat": 4,
 "nbformat_minor": 2
}
