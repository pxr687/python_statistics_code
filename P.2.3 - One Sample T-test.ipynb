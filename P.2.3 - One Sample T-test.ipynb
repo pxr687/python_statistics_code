{
 "cells": [
  {
   "cell_type": "code",
   "execution_count": 1,
   "metadata": {},
   "outputs": [
    {
     "name": "stdout",
     "output_type": "stream",
     "text": [
      "Coin toss = Tails\n",
      "If coin toss = \"Heads\" then the sample was drawn from a population with a mean of 99.652\n",
      "If coin toss = \"Tails\" then the sample was drawn from a population with a mean of 150.887\n",
      "\n",
      "Population mean that the sample is being tested against = 99.652\n",
      "Sample mean = 150.406\n",
      "\n",
      "Manually calculated One Sample T = 56.90277\n",
      "P-value = 0.0\n",
      "\n",
      "scipy.stats one sample t test result: t = 56.90277021192595 p= 2.6145860958644435e-220\n"
     ]
    },
    {
     "data": {
      "image/png": "[encoded data removed]",
      "text/plain": [
       "<Figure size 432x288 with 1 Axes>"
      ]
     },
     "metadata": {
      "needs_background": "light"
     },
     "output_type": "display_data"
    },
    {
     "name": "stdout",
     "output_type": "stream",
     "text": [
      "R-squared = 0.87\n"
     ]
    }
   ],
   "source": [
    "# one sample t test\n",
    "\n",
    "import numpy as np\n",
    "import scipy.stats\n",
    "import statistics as stats\n",
    "import random\n",
    "import math\n",
    "import matplotlib.pyplot as plt\n",
    "\n",
    "# generating two populations with different means\n",
    "\n",
    "population_1 = []\n",
    "\n",
    "population_2 = []\n",
    "\n",
    "for i in range(2000):\n",
    "    population_1.append(round(20*np.random.randn() + 100))\n",
    "    \n",
    "for i in range(2000):\n",
    "    population_2.append(round(20*np.random.randn() + 150))\n",
    "    \n",
    "# calculating the mean of population 1\n",
    "\n",
    "pop_mean = stats.mean(population_1)\n",
    "\n",
    "# making a 'coin toss' to determine whether a sample is drawn from population 1 or population 2 (which have different means)\n",
    "\n",
    "coin = ['Heads', 'Tails']\n",
    "\n",
    "coin_toss = np.random.choice(coin)\n",
    "\n",
    "print('Coin toss =', coin_toss)\n",
    "print('If coin toss = \"Heads\" then the sample was drawn from a population with a mean of', pop_mean)\n",
    "print('If coin toss = \"Tails\" then the sample was drawn from a population with a mean of', stats.mean(population_2))\n",
    "print()\n",
    "\n",
    "if coin_toss == 'Heads':\n",
    "    sample = random.sample(population_1, 500)\n",
    "    \n",
    "if coin_toss == 'Tails':\n",
    "    sample = random.sample(population_2, 500)\n",
    "    \n",
    "# calculating the sample mean\n",
    "\n",
    "x_bar = stats.mean(sample)\n",
    "\n",
    "# calculating the estimated standard error of x_bar\n",
    "\n",
    "sq_dev = []\n",
    "\n",
    "\n",
    "for i in np.arange(len(sample)):\n",
    "    sq_dev.append((sample[i]-x_bar)**2)\n",
    "    \n",
    "    \n",
    "df = len(sample)-1\n",
    "\n",
    "sample_var = sum(sq_dev)/df\n",
    "\n",
    "est_SE = np.sqrt(sample_var/len(sample))\n",
    "\n",
    "# calculating the one sample t-statistics\n",
    "\n",
    "t_one_sample = (x_bar-pop_mean)/est_SE\n",
    "\n",
    "# printing results\n",
    "print('Population mean that the sample is being tested against =', pop_mean)\n",
    "print('Sample mean =', x_bar)\n",
    "print()\n",
    "print('Manually calculated One Sample T =', round(t_one_sample, 5))\n",
    "print('P-value =', 2* (1 - scipy.stats.t.cdf(x = abs(t_one_sample), df = df)))\n",
    "\n",
    "# checking result with scipy.stats one sample t-test\n",
    "\n",
    "scipy_result = scipy.stats.ttest_1samp(sample,pop_mean)\n",
    "\n",
    "print('\\nscipy.stats one sample t test result: t =', scipy_result[0],'p=', scipy_result[1])\n",
    "\n",
    "# plotting the data\n",
    "bins = np.linspace(1,230)\n",
    "plt.hist([population_1, sample],bins, label = ['Population', 'Sample'], color = ['black', 'red'])\n",
    "plt.xlabel('Score on Outcome Variable')\n",
    "plt.ylabel('Frequency')\n",
    "plt.legend(loc = 'upper right')\n",
    "plt.show()\n",
    "\n",
    "# calculating the effect size\n",
    "\n",
    "r_squared = t_one_sample**2/(t_one_sample**2 + (len(sample)-1))\n",
    "\n",
    "print('R-squared =', round(r_squared,2))"
   ]
  },
  {
   "cell_type": "code",
   "execution_count": null,
   "metadata": {},
   "outputs": [],
   "source": []
  }
 ],
 "metadata": {
  "kernelspec": {
   "display_name": "Python 3",
   "language": "python",
   "name": "python3"
  },
  "language_info": {
   "codemirror_mode": {
    "name": "ipython",
    "version": 3
   },
   "file_extension": ".py",
   "mimetype": "text/x-python",
   "name": "python",
   "nbconvert_exporter": "python",
   "pygments_lexer": "ipython3",
   "version": "3.7.9"
  }
 },
 "nbformat": 4,
 "nbformat_minor": 2
}
