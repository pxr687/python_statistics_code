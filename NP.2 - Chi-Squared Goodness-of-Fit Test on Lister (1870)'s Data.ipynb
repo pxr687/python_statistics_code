{
 "cells": [
  {
   "cell_type": "code",
   "execution_count": 13,
   "metadata": {},
   "outputs": [
    {
     "name": "stdout",
     "output_type": "stream",
     "text": [
      "                died  survived\n",
      "post_discovery     1        11\n",
      "pre_discovery      6         6\n",
      "\n",
      "Manually calculated chi-square = 8.333333333333334\n",
      "scipy.stats chi square statistic: 8.333333333333334\n",
      "P-value: 0.03960235520756414\n",
      "\n",
      "The distribution of observed frequencies was significantly different to that predicted by the null hypothesis (of equiprobability).\n",
      "\n",
      "Manually calculated Phi coefficient: 0.5892556509887896\n"
     ]
    },
    {
     "data": {
      "image/png": "[encoded data removed]",
      "text/plain": [
       "<Figure size 432x288 with 1 Axes>"
      ]
     },
     "metadata": {
      "needs_background": "light"
     },
     "output_type": "display_data"
    }
   ],
   "source": [
    "import numpy as np\n",
    "import scipy.stats\n",
    "import math\n",
    "import statistics as stats\n",
    "import pandas as pd\n",
    "import matplotlib.pyplot as plt\n",
    "from itertools import combinations \n",
    "\n",
    "# data obtained from http://users.stat.ufl.edu/~winner/data/lister_ul.dat\n",
    "\n",
    "# information from data (from http://users.stat.ufl.edu/~winner/data/lister_ul.txt ):\n",
    "\n",
    "# 'Dataset:  lister_ul.dat\n",
    "# Source: Lister (1870). Effects of the Antiseptic System of Treatment\n",
    "# Upon the Salubrity of a Surgical Hospital. The Lancet, 1:4-6,40-42.\n",
    "\n",
    "# Description: Results on survival of Upper Limb amputees prior to and\n",
    "# after discovery and use of antiseptic.''\n",
    "\n",
    "# Variables:\n",
    "# Aniseptic (1=Post-Discovery,0=Pre-discovery)\n",
    "# Death (1=Yes,0=No)\n",
    "# Count (Number of cases)\n",
    "\n",
    "dict1 = {'antiseptic': [1,1,0,0], 'death': [1, 0, 1, 0], 'count': [1,11,6,6]}\n",
    "\n",
    "dframe = pd.DataFrame(dict1)\n",
    "\n",
    "count_data = np.array([dframe['count'][0:2], dframe['count'][2:5]])\n",
    "\n",
    "observed = pd.DataFrame(count_data, columns = ['died', 'survived'])\n",
    "observed.index=['post_discovery', 'pre_discovery']\n",
    "\n",
    "print(observed)\n",
    "print()\n",
    "\n",
    "# calculating the expected frequencies under an equiprobability null hypothesis\n",
    "\n",
    "dict2 = {'antiseptic': [1,1,0,0], 'death': [1, 0, 1, 0], 'count': [6,6,6,6]}\n",
    "\n",
    "dframe_2= pd.DataFrame(dict2)\n",
    "\n",
    "count_data = np.array([dframe_2['count'][0:2], dframe_2['count'][2:5]])\n",
    "\n",
    "expected = pd.DataFrame(count_data, columns = ['died', 'survived'])\n",
    "expected.index=['post_discovery', 'pre_discovery']\n",
    "\n",
    "# calculating the X-Squared Goodness-of-fit statistic\n",
    "\n",
    "o_e_over_e1 = (observed.at['post_discovery', 'died']-expected.at['post_discovery', 'died'])**2/expected.at['post_discovery', 'died']\n",
    "o_e_over_e2 = (observed.at['pre_discovery', 'died']-expected.at['pre_discovery', 'died'])**2/expected.at['pre_discovery', 'died']\n",
    "o_e_over_e3 = (observed.at['post_discovery', 'survived']-expected.at['post_discovery', 'survived'])**2/expected.at['post_discovery', 'survived']\n",
    "o_e_over_e4 = (observed.at['pre_discovery', 'survived']-expected.at['pre_discovery', 'survived'])**2/expected.at['pre_discovery', 'survived']\n",
    "\n",
    "chi_square = o_e_over_e1 + o_e_over_e2 + o_e_over_e3 + o_e_over_e4\n",
    "\n",
    "print('Manually calculated chi-square =', chi_square)\n",
    "\n",
    "# checking result with scipy.stats\n",
    "\n",
    "result = scipy.stats.chisquare(observed, expected, axis = None)\n",
    "\n",
    "print('scipy.stats chi square statistic:', result[0])\n",
    "print('P-value:', result[1])\n",
    "\n",
    "if result[1] <= 0.05:\n",
    "    print()\n",
    "    print('The distribution of observed frequencies was significantly different to that predicted by the null hypothesis (of equiprobability).')\n",
    "else:\n",
    "    print('The distribution of observed frequencues was NOT significantly different to that predicted by the null hypothesis (of equiprobability).')\n",
    "    \n",
    "# plotting the data\n",
    "\n",
    "observed.plot.bar(color = ['navy', 'red'])\n",
    "\n",
    "# calculating effect size\n",
    "\n",
    "n = sum(dframe['count'])\n",
    "\n",
    "phi_coefficient = math.sqrt(chi_square/n)\n",
    "\n",
    "print()\n",
    "print('Manually calculated Phi coefficient:', phi_coefficient)"
   ]
  },
  {
   "cell_type": "code",
   "execution_count": null,
   "metadata": {},
   "outputs": [],
   "source": []
  }
 ],
 "metadata": {
  "kernelspec": {
   "display_name": "Python 3",
   "language": "python",
   "name": "python3"
  },
  "language_info": {
   "codemirror_mode": {
    "name": "ipython",
    "version": 3
   },
   "file_extension": ".py",
   "mimetype": "text/x-python",
   "name": "python",
   "nbconvert_exporter": "python",
   "pygments_lexer": "ipython3",
   "version": "3.7.4"
  }
 },
 "nbformat": 4,
 "nbformat_minor": 2
}
