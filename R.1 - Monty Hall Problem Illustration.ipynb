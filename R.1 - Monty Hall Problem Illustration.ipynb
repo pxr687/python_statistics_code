{
 "cells": [
  {
   "cell_type": "markdown",
   "metadata": {},
   "source": [
    "# The Monty Hall Problem:\n",
    "\n",
    "'Suppose you're on a game show, and you're given the choice of three doors: Behind one door is a car; behind the others, goats. You pick a door, say No. 1, and the host, who knows what's behind the doors, opens another door, say No. 3, which has a goat. He then says to you, \"Do you want to pick door No. 2?\" Is it to your advantage to switch your choice?'\n",
    "\n",
    "https://en.wikipedia.org/wiki/Monty_Hall_problem"
   ]
  },
  {
   "cell_type": "markdown",
   "metadata": {},
   "source": [
    "## The output of the code cell below shows all possible arrangements of the items behind the doors. Then it shows all of the possible outcomes for whichever door you might choose:"
   ]
  },
  {
   "cell_type": "code",
   "execution_count": 60,
   "metadata": {},
   "outputs": [
    {
     "name": "stdout",
     "output_type": "stream",
     "text": [
      "\n",
      "\n",
      "Here are all the possible arrangements of the items behind the doors:\n"
     ]
    },
    {
     "data": {
      "text/html": [
       "<div>\n",
       "<style scoped>\n",
       "    .dataframe tbody tr th:only-of-type {\n",
       "        vertical-align: middle;\n",
       "    }\n",
       "\n",
       "    .dataframe tbody tr th {\n",
       "        vertical-align: top;\n",
       "    }\n",
       "\n",
       "    .dataframe thead th {\n",
       "        text-align: right;\n",
       "    }\n",
       "</style>\n",
       "<table border=\"1\" class=\"dataframe\">\n",
       "  <thead>\n",
       "    <tr style=\"text-align: right;\">\n",
       "      <th></th>\n",
       "      <th>door_1</th>\n",
       "      <th>door_2</th>\n",
       "      <th>door_3</th>\n",
       "    </tr>\n",
       "  </thead>\n",
       "  <tbody>\n",
       "    <tr>\n",
       "      <th>possibility 1:</th>\n",
       "      <td>goat</td>\n",
       "      <td>goat</td>\n",
       "      <td>prize</td>\n",
       "    </tr>\n",
       "    <tr>\n",
       "      <th>possibility 2:</th>\n",
       "      <td>goat</td>\n",
       "      <td>prize</td>\n",
       "      <td>goat</td>\n",
       "    </tr>\n",
       "    <tr>\n",
       "      <th>possibility 3:</th>\n",
       "      <td>prize</td>\n",
       "      <td>goat</td>\n",
       "      <td>goat</td>\n",
       "    </tr>\n",
       "  </tbody>\n",
       "</table>\n",
       "</div>"
      ],
      "text/plain": [
       "               door_1 door_2 door_3\n",
       "possibility 1:   goat   goat  prize\n",
       "possibility 2:   goat  prize   goat\n",
       "possibility 3:  prize   goat   goat"
      ]
     },
     "metadata": {},
     "output_type": "display_data"
    },
    {
     "name": "stdout",
     "output_type": "stream",
     "text": [
      "\n",
      "\n",
      "####################################################################################################################\n",
      "\n",
      "If you chose door number 1 :\n",
      "\n",
      "\n",
      "If you chose door_1, and possibility 1 was true, you would have won if you had switched, and lost if you had stayed.\n",
      "\n",
      "If you chose door_1, and possibility 2 was true, you would have won if you had switched, and lost if you had stayed.\n",
      "\n",
      "If you chose door_1, and possibility 3 was true, you would have lost if you had switched, and won if you had stayed.\n",
      "\n",
      "\n",
      "####################################################################################################################\n",
      "\n",
      "If you chose door number 2 :\n",
      "\n",
      "\n",
      "If you chose door_2, and possibility 1 was true, you would have won if you had switched, and lost if you had stayed.\n",
      "\n",
      "If you chose door_2, and possibility 2 was true, you would have lost if you had switched, and won if you had stayed.\n",
      "\n",
      "If you chose door_2, and possibility 3 was true, you would have won if you had switched, and lost if you had stayed.\n",
      "\n",
      "\n",
      "####################################################################################################################\n",
      "\n",
      "If you chose door number 3 :\n",
      "\n",
      "\n",
      "If you chose door_3, and possibility 1 was true, you would have lost if you had switched, and won if you had stayed.\n",
      "\n",
      "If you chose door_3, and possibility 2 was true, you would have won if you had switched, and lost if you had stayed.\n",
      "\n",
      "If you chose door_3, and possibility 3 was true, you would have won if you had switched, and lost if you had stayed.\n"
     ]
    }
   ],
   "source": [
    "import numpy as np\n",
    "import pandas as pd\n",
    "\n",
    "\n",
    "# this generates a dataframe showing all the possible arragements of items behind the door\n",
    "\n",
    "possibility_1 = ['goat', 'goat', 'prize']\n",
    "\n",
    "possibility_2 = ['goat', 'prize', 'goat']\n",
    "\n",
    "possibility_3 = ['prize', 'goat', 'goat']\n",
    "\n",
    "df = pd.DataFrame([possibility_1, possibility_2, possibility_3], columns = ['door_1', 'door_2', 'door_3'])\n",
    "\n",
    "df.index = ['possibility 1:','possibility 2:', 'possibility 3:']\n",
    "print('\\n\\nHere are all the possible arrangements of the items behind the doors:')\n",
    "display(df)\n",
    "\n",
    "# this generates an output that shows all possible outcomes for all possible choices\n",
    "\n",
    "doors = np.arange(1,4)\n",
    "\n",
    "for door in doors:\n",
    "    \n",
    "    door_choice = door\n",
    "    print('\\n\\n####################################################################################################################\\n')\n",
    "    print('If you chose door number', door, ':\\n')\n",
    "\n",
    "  \n",
    "    if door_choice == 1:\n",
    "        door_choice = 'door_1'\n",
    "    elif door_choice == 2:\n",
    "        door_choice = 'door_2'\n",
    "    elif door_choice == 3:\n",
    "        door_choice = 'door_3'\n",
    "\n",
    "    for i in np.arange(len(df)): \n",
    "        if df[door_choice].iloc[i] == 'goat':\n",
    "            print('\\nIf you chose '+str(door_choice)+', and possibility '+str(i+1)+' was true, you would have won if you had switched, and lost if you had stayed.')\n",
    "        if df[door_choice].iloc[i] == 'prize':\n",
    "            print('\\nIf you chose '+str(door_choice)+', and possibility '+str(i+1)+' was true, you would have lost if you had switched, and won if you had stayed.')"
   ]
  },
  {
   "cell_type": "markdown",
   "metadata": {},
   "source": [
    "# You can see that for whichever door you choose, it is more likely that you will win the prize if you switch."
   ]
  },
  {
   "cell_type": "code",
   "execution_count": null,
   "metadata": {},
   "outputs": [],
   "source": []
  }
 ],
 "metadata": {
  "kernelspec": {
   "display_name": "Python 3",
   "language": "python",
   "name": "python3"
  },
  "language_info": {
   "codemirror_mode": {
    "name": "ipython",
    "version": 3
   },
   "file_extension": ".py",
   "mimetype": "text/x-python",
   "name": "python",
   "nbconvert_exporter": "python",
   "pygments_lexer": "ipython3",
   "version": "3.7.3"
  }
 },
 "nbformat": 4,
 "nbformat_minor": 2
}
