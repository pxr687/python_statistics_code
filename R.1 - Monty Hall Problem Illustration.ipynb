{
 "cells": [
  {
   "cell_type": "markdown",
   "metadata": {},
   "source": [
    "# The Monty Hall Problem:\n",
    "\n",
    "'The Monty Hall problem is a counter-intuitive statistics puzzle:\n",
    "\n",
    "* There are 3 doors, behind which are two goats and a car.\n",
    "\n",
    "* You pick a door (call it door A). You’re hoping for the car of course.\n",
    "\n",
    "* Monty Hall, the game show host, examines the other doors (B & C) and opens one with a goat. (If both doors have goats, he picks randomly.)\n",
    "\n",
    "Here’s the game: Do you stick with door A (original guess) or switch to the unopened door? Does it matter?'\n",
    "\n",
    "https://betterexplained.com/articles/understanding-the-monty-hall-problem/"
   ]
  },
  {
   "cell_type": "markdown",
   "metadata": {},
   "source": [
    "## The output of the code cell below shows all possible arrangements of the items behind the doors. Then it shows all of the possible outcomes for whichever door you might choose:"
   ]
  },
  {
   "cell_type": "code",
   "execution_count": 1,
   "metadata": {},
   "outputs": [
    {
     "name": "stdout",
     "output_type": "stream",
     "text": [
      "\n",
      "\n",
      "Here are all the possible arrangements of the items behind the doors:\n"
     ]
    },
    {
     "data": {
      "text/html": [
       "<div>\n",
       "<style scoped>\n",
       "    .dataframe tbody tr th:only-of-type {\n",
       "        vertical-align: middle;\n",
       "    }\n",
       "\n",
       "    .dataframe tbody tr th {\n",
       "        vertical-align: top;\n",
       "    }\n",
       "\n",
       "    .dataframe thead th {\n",
       "        text-align: right;\n",
       "    }\n",
       "</style>\n",
       "<table border=\"1\" class=\"dataframe\">\n",
       "  <thead>\n",
       "    <tr style=\"text-align: right;\">\n",
       "      <th></th>\n",
       "      <th>door_1</th>\n",
       "      <th>door_2</th>\n",
       "      <th>door_3</th>\n",
       "    </tr>\n",
       "  </thead>\n",
       "  <tbody>\n",
       "    <tr>\n",
       "      <th>possibility 1:</th>\n",
       "      <td>goat</td>\n",
       "      <td>goat</td>\n",
       "      <td>prize</td>\n",
       "    </tr>\n",
       "    <tr>\n",
       "      <th>possibility 2:</th>\n",
       "      <td>goat</td>\n",
       "      <td>prize</td>\n",
       "      <td>goat</td>\n",
       "    </tr>\n",
       "    <tr>\n",
       "      <th>possibility 3:</th>\n",
       "      <td>prize</td>\n",
       "      <td>goat</td>\n",
       "      <td>goat</td>\n",
       "    </tr>\n",
       "  </tbody>\n",
       "</table>\n",
       "</div>"
      ],
      "text/plain": [
       "               door_1 door_2 door_3\n",
       "possibility 1:   goat   goat  prize\n",
       "possibility 2:   goat  prize   goat\n",
       "possibility 3:  prize   goat   goat"
      ]
     },
     "metadata": {},
     "output_type": "display_data"
    },
    {
     "name": "stdout",
     "output_type": "stream",
     "text": [
      "\n",
      "\n",
      "####################################################################################################################\n",
      "\n",
      "If you chose door number 1 :\n",
      "\n",
      "\n",
      "If you chose door_1, and possibility 1 was true, you would have won if you had switched, and lost if you had stayed.\n",
      "\n",
      "If you chose door_1, and possibility 2 was true, you would have won if you had switched, and lost if you had stayed.\n",
      "\n",
      "If you chose door_1, and possibility 3 was true, you would have lost if you had switched, and won if you had stayed.\n",
      "\n",
      "\n",
      "####################################################################################################################\n",
      "\n",
      "If you chose door number 2 :\n",
      "\n",
      "\n",
      "If you chose door_2, and possibility 1 was true, you would have won if you had switched, and lost if you had stayed.\n",
      "\n",
      "If you chose door_2, and possibility 2 was true, you would have lost if you had switched, and won if you had stayed.\n",
      "\n",
      "If you chose door_2, and possibility 3 was true, you would have won if you had switched, and lost if you had stayed.\n",
      "\n",
      "\n",
      "####################################################################################################################\n",
      "\n",
      "If you chose door number 3 :\n",
      "\n",
      "\n",
      "If you chose door_3, and possibility 1 was true, you would have lost if you had switched, and won if you had stayed.\n",
      "\n",
      "If you chose door_3, and possibility 2 was true, you would have won if you had switched, and lost if you had stayed.\n",
      "\n",
      "If you chose door_3, and possibility 3 was true, you would have won if you had switched, and lost if you had stayed.\n"
     ]
    }
   ],
   "source": [
    "import numpy as np\n",
    "import pandas as pd\n",
    "import matplotlib.pyplot as plt\n",
    "\n",
    "# this generates a dataframe showing all the possible arragements of items behind the door\n",
    "\n",
    "possibility_1 = ['goat', 'goat', 'prize']\n",
    "\n",
    "possibility_2 = ['goat', 'prize', 'goat']\n",
    "\n",
    "possibility_3 = ['prize', 'goat', 'goat']\n",
    "\n",
    "df = pd.DataFrame([possibility_1, possibility_2, possibility_3], columns = ['door_1', 'door_2', 'door_3'])\n",
    "\n",
    "df.index = ['possibility 1:','possibility 2:', 'possibility 3:']\n",
    "print('\\n\\nHere are all the possible arrangements of the items behind the doors:')\n",
    "display(df)\n",
    "\n",
    "# this generates an output that shows all possible outcomes for all possible choices\n",
    "\n",
    "doors = np.arange(1,4)\n",
    "\n",
    "for door in doors:\n",
    "    \n",
    "    door_choice = door\n",
    "    print('\\n\\n####################################################################################################################\\n')\n",
    "    print('If you chose door number', door, ':\\n')\n",
    "\n",
    "  \n",
    "    if door_choice == 1:\n",
    "        door_choice = 'door_1'\n",
    "    elif door_choice == 2:\n",
    "        door_choice = 'door_2'\n",
    "    elif door_choice == 3:\n",
    "        door_choice = 'door_3'\n",
    "\n",
    "    for i in np.arange(len(df)): \n",
    "        if df[door_choice].iloc[i] == 'goat':\n",
    "            print('\\nIf you chose '+str(door_choice)+', and possibility '+str(i+1)+' was true, you would have won if you had switched, and lost if you had stayed.')\n",
    "        if df[door_choice].iloc[i] == 'prize':\n",
    "            print('\\nIf you chose '+str(door_choice)+', and possibility '+str(i+1)+' was true, you would have lost if you had switched, and won if you had stayed.')"
   ]
  },
  {
   "cell_type": "markdown",
   "metadata": {},
   "source": [
    "# You can see that for whichever door you choose, it is more likely that you will win the prize if you switch."
   ]
  },
  {
   "cell_type": "markdown",
   "metadata": {},
   "source": [
    "### We can also illustrate this through simulation:\n",
    "\n",
    "On each trial of the simulation, one of the three possible arrangements for the items behind the door is selected:\n"
   ]
  },
  {
   "cell_type": "code",
   "execution_count": 2,
   "metadata": {},
   "outputs": [
    {
     "data": {
      "text/html": [
       "<div>\n",
       "<style scoped>\n",
       "    .dataframe tbody tr th:only-of-type {\n",
       "        vertical-align: middle;\n",
       "    }\n",
       "\n",
       "    .dataframe tbody tr th {\n",
       "        vertical-align: top;\n",
       "    }\n",
       "\n",
       "    .dataframe thead th {\n",
       "        text-align: right;\n",
       "    }\n",
       "</style>\n",
       "<table border=\"1\" class=\"dataframe\">\n",
       "  <thead>\n",
       "    <tr style=\"text-align: right;\">\n",
       "      <th></th>\n",
       "      <th>door_1</th>\n",
       "      <th>door_2</th>\n",
       "      <th>door_3</th>\n",
       "    </tr>\n",
       "  </thead>\n",
       "  <tbody>\n",
       "    <tr>\n",
       "      <th>possibility 1:</th>\n",
       "      <td>goat</td>\n",
       "      <td>goat</td>\n",
       "      <td>prize</td>\n",
       "    </tr>\n",
       "    <tr>\n",
       "      <th>possibility 2:</th>\n",
       "      <td>goat</td>\n",
       "      <td>prize</td>\n",
       "      <td>goat</td>\n",
       "    </tr>\n",
       "    <tr>\n",
       "      <th>possibility 3:</th>\n",
       "      <td>prize</td>\n",
       "      <td>goat</td>\n",
       "      <td>goat</td>\n",
       "    </tr>\n",
       "  </tbody>\n",
       "</table>\n",
       "</div>"
      ],
      "text/plain": [
       "               door_1 door_2 door_3\n",
       "possibility 1:   goat   goat  prize\n",
       "possibility 2:   goat  prize   goat\n",
       "possibility 3:  prize   goat   goat"
      ]
     },
     "metadata": {},
     "output_type": "display_data"
    }
   ],
   "source": [
    "display(df)"
   ]
  },
  {
   "cell_type": "markdown",
   "metadata": {},
   "source": [
    "Then a door is selected at random as the first choice. One remaining door which contains a goat is then opened.\n",
    "\n",
    "Three strategies are modelled:\n",
    "\n",
    "1. 'Always switch' - this strategy will always switch from the first choice door to the remaining closed door.\n",
    "\n",
    "2. 'Never switch' - this strategy will never switch, and will always stick with the first, randomly selected door.\n",
    "\n",
    "3. 'Randomly switch' - this strategy will perform a virtual coinflip to decide whether to switch.\n",
    "\n",
    "At the end of the simulation, the percentage of trials which resulted in winning a prize is plotted for each strategy."
   ]
  },
  {
   "cell_type": "code",
   "execution_count": 3,
   "metadata": {},
   "outputs": [
    {
     "data": {
      "image/png": "[encoded data removed]",
      "text/plain": [
       "<Figure size 720x288 with 1 Axes>"
      ]
     },
     "metadata": {
      "needs_background": "light"
     },
     "output_type": "display_data"
    },
    {
     "name": "stdout",
     "output_type": "stream",
     "text": [
      "There were 10000 trials.\n",
      "\n",
      "The \"Always Switch\" strategy won the prize on 66.28 % of the trials.\n",
      "\n",
      "The \"Never Switch\" strategy won the prize on 33.72 % of the trials.\n",
      "\n",
      "The \"Randomly Switch\" strategy won the prize on 49.78 % of the trials.\n",
      "\n"
     ]
    }
   ],
   "source": [
    "# setting the number of iterations for the simulation\n",
    "n_iters = 10000\n",
    "\n",
    "# creating arrays to store the outcomes of three different strategies: always switching, never switching and randomly switching\n",
    "always_switch_outcomes = np.array([])\n",
    "never_switch_outcomes = np.array([])\n",
    "random_switch_outcomes = np.array([])\n",
    "\n",
    "# running thousands of trials to see which strategy is most effective\n",
    "for i in np.arange(n_iters):\n",
    "  \n",
    "    df = pd.DataFrame([possibility_1, possibility_2, possibility_3], columns = ['door_1', 'door_2', 'door_3'])\n",
    "\n",
    "    df.index = ['possibility 1:','possibility 2:', 'possibility 3:']\n",
    "    \n",
    "    # randomly deciding the arrangement of items behind the doors\n",
    "    state_of_the_world = df.loc[np.random.choice(df.index)]\n",
    "    \n",
    "    # picking a first door at random\n",
    "    first_choice = np.random.choice(state_of_the_world.index)\n",
    "\n",
    "    # opening the remaining door which has a goat behind it\n",
    "    remaining = state_of_the_world.index[state_of_the_world.index != first_choice]\n",
    "\n",
    "    for r in remaining:\n",
    "\n",
    "        if state_of_the_world.loc[r] == 'goat':\n",
    "\n",
    "            state_of_the_world.loc[r] = 'goat (open)'\n",
    "            break\n",
    "            \n",
    "    # choosing to switch or stay based on the three strategies\n",
    "    not_open = state_of_the_world[state_of_the_world != 'goat (open)']\n",
    "    \n",
    "    \n",
    "    switcher_outcome = not_open.loc[not_open.index[not_open.index !=first_choice][0]]\n",
    "    stayer_outcome = state_of_the_world.loc[first_choice]\n",
    "    random_outcome = np.random.choice(state_of_the_world[state_of_the_world != 'goat (open)'])\n",
    "    \n",
    "    # recording the outcome for each strategy\n",
    "    always_switch_outcomes = np.append(always_switch_outcomes,switcher_outcome)\n",
    "    never_switch_outcomes =  np.append(never_switch_outcomes,stayer_outcome)\n",
    "    random_switch_outcomes = np.append(random_switch_outcomes,random_outcome)\n",
    "    \n",
    "# calculating the proportion of wins for each strategy    \n",
    "prop_wins_always_switch = np.count_nonzero(always_switch_outcomes == 'prize')/len(always_switch_outcomes)\n",
    "\n",
    "prop_wins_never_switch = np.count_nonzero(never_switch_outcomes == 'prize')/len(never_switch_outcomes)\n",
    "\n",
    "prop_wins_random_switch = np.count_nonzero(random_switch_outcomes == 'prize')/len(random_switch_outcomes)\n",
    "\n",
    "# plotting the outcomes of the simulation\n",
    "plt.figure(figsize = (10,4))\n",
    "plt.title('% of wins for 3 different strategies over '+str(n_iters)+' Monty Hall trials')\n",
    "plt.bar(['Always Switch', 'Never Switch', 'Randomly Switch',], \n",
    "        [prop_wins_always_switch*100, prop_wins_never_switch*100, prop_wins_random_switch*100], \n",
    "        color = ['red', 'black', 'cyan'])\n",
    "\n",
    "plt.xlabel('Strategy')\n",
    "plt.ylabel('% of wins')\n",
    "plt.show()\n",
    "\n",
    "print('There were '+str(n_iters)+' trials.\\n')\n",
    "print('The \"Always Switch\" strategy won the prize on', prop_wins_always_switch*100,'% of the trials.\\n') \n",
    "print('The \"Never Switch\" strategy won the prize on', prop_wins_never_switch*100,'% of the trials.\\n') \n",
    "print('The \"Randomly Switch\" strategy won the prize on', prop_wins_random_switch*100,'% of the trials.\\n') "
   ]
  },
  {
   "cell_type": "code",
   "execution_count": null,
   "metadata": {},
   "outputs": [],
   "source": []
  }
 ],
 "metadata": {
  "kernelspec": {
   "display_name": "Python 3",
   "language": "python",
   "name": "python3"
  },
  "language_info": {
   "codemirror_mode": {
    "name": "ipython",
    "version": 3
   },
   "file_extension": ".py",
   "mimetype": "text/x-python",
   "name": "python",
   "nbconvert_exporter": "python",
   "pygments_lexer": "ipython3",
   "version": "3.7.3"
  }
 },
 "nbformat": 4,
 "nbformat_minor": 2
}
