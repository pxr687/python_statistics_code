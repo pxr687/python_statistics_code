{
 "cells": [
  {
   "cell_type": "code",
   "execution_count": 2,
   "metadata": {},
   "outputs": [
    {
     "name": "stdout",
     "output_type": "stream",
     "text": [
      "                            OLS Regression Results                            \n",
      "==============================================================================\n",
      "Dep. Variable:                   Rape   R-squared:                       0.517\n",
      "Model:                            OLS   Adj. R-squared:                  0.485\n",
      "Method:                 Least Squares   F-statistic:                     16.39\n",
      "Date:                Mon, 09 Mar 2020   Prob (F-statistic):           2.21e-07\n",
      "Time:                        21:37:15   Log-Likelihood:                -164.13\n",
      "No. Observations:                  50   AIC:                             336.3\n",
      "Df Residuals:                      46   BIC:                             343.9\n",
      "Df Model:                           3                                         \n",
      "Covariance Type:            nonrobust                                         \n",
      "==============================================================================\n",
      "                 coef    std err          t      P>|t|      [0.025      0.975]\n",
      "------------------------------------------------------------------------------\n",
      "const         -2.4741      4.696     -0.527      0.601     -11.926       6.978\n",
      "Assault        0.0489      0.021      2.386      0.021       0.008       0.090\n",
      "UrbanPop       0.1845      0.071      2.608      0.012       0.042       0.327\n",
      "Murder         0.4186      0.380      1.102      0.276      -0.346       1.183\n",
      "==============================================================================\n",
      "Omnibus:                       10.351   Durbin-Watson:                   1.886\n",
      "Prob(Omnibus):                  0.006   Jarque-Bera (JB):               11.450\n",
      "Skew:                           0.783   Prob(JB):                      0.00326\n",
      "Kurtosis:                       4.745   Cond. No.                         986.\n",
      "==============================================================================\n",
      "\n",
      "Warnings:\n",
      "[1] Standard Errors assume that the covariance matrix of the errors is correctly specified.\n"
     ]
    }
   ],
   "source": [
    "import pandas as pd\n",
    "import matplotlib.pyplot as plt\n",
    "import statistics as stats\n",
    "import math\n",
    "import scipy.stats\n",
    "import numpy as np\n",
    "import matplotlib.pyplot as plt\n",
    "import statsmodels.api as sm\n",
    "import statsmodels.formula.api as smf\n",
    "\n",
    "\n",
    "# importing and subsetting the data\n",
    "\n",
    "# data obtained from 'https://forge.scilab.org/index.php/p/rdataset/source/tree/master/csv/datasets/USArrests.csv'\n",
    "\n",
    "# documentation for data: 'https://www.rdocumentation.org/packages/datasets/versions/3.6.2/topics/USArrests'\n",
    "\n",
    "dframe = pd.read_csv('USArrests.csv')\n",
    "\n",
    "dframe.rename(columns = {'Unnamed: 0':'State'}, inplace = True) \n",
    "\n",
    "\n",
    "y = dframe['Rape']\n",
    "\n",
    "x = dframe[['Assault', 'UrbanPop', 'Murder']]\n",
    "\n",
    "x = sm.add_constant(x) \n",
    "\n",
    "mod = sm.OLS(y, x).fit()\n",
    "predict = mod.predict(x) \n",
    "\n",
    "print_mod = mod.summary()\n",
    "print(print_mod)\n"
   ]
  },
  {
   "cell_type": "code",
   "execution_count": null,
   "metadata": {},
   "outputs": [],
   "source": []
  }
 ],
 "metadata": {
  "kernelspec": {
   "display_name": "Python 3",
   "language": "python",
   "name": "python3"
  },
  "language_info": {
   "codemirror_mode": {
    "name": "ipython",
    "version": 3
   },
   "file_extension": ".py",
   "mimetype": "text/x-python",
   "name": "python",
   "nbconvert_exporter": "python",
   "pygments_lexer": "ipython3",
   "version": "3.7.4"
  }
 },
 "nbformat": 4,
 "nbformat_minor": 2
}
