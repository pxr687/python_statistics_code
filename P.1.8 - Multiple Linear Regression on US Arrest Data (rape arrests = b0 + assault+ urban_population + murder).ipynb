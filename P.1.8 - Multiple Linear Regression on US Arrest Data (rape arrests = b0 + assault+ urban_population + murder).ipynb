{
 "cells": [
  {
   "cell_type": "code",
   "execution_count": 4,
   "metadata": {},
   "outputs": [
    {
     "name": "stdout",
     "output_type": "stream",
     "text": [
      "                            OLS Regression Results                            \n",
      "==============================================================================\n",
      "Dep. Variable:                   Rape   R-squared:                       0.517\n",
      "Model:                            OLS   Adj. R-squared:                  0.485\n",
      "Method:                 Least Squares   F-statistic:                     16.39\n",
      "Date:                Sun, 29 Mar 2020   Prob (F-statistic):           2.21e-07\n",
      "Time:                        17:53:14   Log-Likelihood:                -164.13\n",
      "No. Observations:                  50   AIC:                             336.3\n",
      "Df Residuals:                      46   BIC:                             343.9\n",
      "Df Model:                           3                                         \n",
      "Covariance Type:            nonrobust                                         \n",
      "==============================================================================\n",
      "                 coef    std err          t      P>|t|      [0.025      0.975]\n",
      "------------------------------------------------------------------------------\n",
      "const         -2.4741      4.696     -0.527      0.601     -11.926       6.978\n",
      "Assault        0.0489      0.021      2.386      0.021       0.008       0.090\n",
      "UrbanPop       0.1845      0.071      2.608      0.012       0.042       0.327\n",
      "Murder         0.4186      0.380      1.102      0.276      -0.346       1.183\n",
      "==============================================================================\n",
      "Omnibus:                       10.351   Durbin-Watson:                   1.886\n",
      "Prob(Omnibus):                  0.006   Jarque-Bera (JB):               11.450\n",
      "Skew:                           0.783   Prob(JB):                      0.00326\n",
      "Kurtosis:                       4.745   Cond. No.                         986.\n",
      "==============================================================================\n",
      "\n",
      "Warnings:\n",
      "[1] Standard Errors assume that the covariance matrix of the errors is correctly specified.\n"
     ]
    },
    {
     "data": {
      "application/vnd.plotly.v1+json": {
       "config": {
        "plotlyServerURL": "https://plot.ly"
       },
       "data": [
        {
         "hoverlabel": {
          "namelength": 0
         },
         "hovertemplate": "State=Alabama<br>UrbanPop=%{x}<br>Assault=%{y}<br>Rape=%{z}",
         "legendgroup": "State=Alabama",
         "marker": {
          "color": "#636efa",
          "symbol": "circle"
         },
         "mode": "markers",
         "name": "State=Alabama",
         "scene": "scene",
         "showlegend": true,
         "type": "scatter3d",
         "x": [
          58
         ],
         "y": [
          236
         ],
         "z": [
          21.2
         ]
        },
        {
         "hoverlabel": {
          "namelength": 0
         },
         "hovertemplate": "State=Alaska<br>UrbanPop=%{x}<br>Assault=%{y}<br>Rape=%{z}",
         "legendgroup": "State=Alaska",
         "marker": {
          "color": "#EF553B",
          "symbol": "circle"
         },
         "mode": "markers",
         "name": "State=Alaska",
         "scene": "scene",
         "showlegend": true,
         "type": "scatter3d",
         "x": [
          48
         ],
         "y": [
          263
         ],
         "z": [
          44.5
         ]
        },
        {
         "hoverlabel": {
          "namelength": 0
         },
         "hovertemplate": "State=Arizona<br>UrbanPop=%{x}<br>Assault=%{y}<br>Rape=%{z}",
         "legendgroup": "State=Arizona",
         "marker": {
          "color": "#00cc96",
          "symbol": "circle"
         },
         "mode": "markers",
         "name": "State=Arizona",
         "scene": "scene",
         "showlegend": true,
         "type": "scatter3d",
         "x": [
          80
         ],
         "y": [
          294
         ],
         "z": [
          31
         ]
        },
        {
         "hoverlabel": {
          "namelength": 0
         },
         "hovertemplate": "State=Arkansas<br>UrbanPop=%{x}<br>Assault=%{y}<br>Rape=%{z}",
         "legendgroup": "State=Arkansas",
         "marker": {
          "color": "#ab63fa",
          "symbol": "circle"
         },
         "mode": "markers",
         "name": "State=Arkansas",
         "scene": "scene",
         "showlegend": true,
         "type": "scatter3d",
         "x": [
          50
         ],
         "y": [
          190
         ],
         "z": [
          19.5
         ]
        },
        {
         "hoverlabel": {
          "namelength": 0
         },
         "hovertemplate": "State=California<br>UrbanPop=%{x}<br>Assault=%{y}<br>Rape=%{z}",
         "legendgroup": "State=California",
         "marker": {
          "color": "#FFA15A",
          "symbol": "circle"
         },
         "mode": "markers",
         "name": "State=California",
         "scene": "scene",
         "showlegend": true,
         "type": "scatter3d",
         "x": [
          91
         ],
         "y": [
          276
         ],
         "z": [
          40.6
         ]
        },
        {
         "hoverlabel": {
          "namelength": 0
         },
         "hovertemplate": "State=Colorado<br>UrbanPop=%{x}<br>Assault=%{y}<br>Rape=%{z}",
         "legendgroup": "State=Colorado",
         "marker": {
          "color": "#19d3f3",
          "symbol": "circle"
         },
         "mode": "markers",
         "name": "State=Colorado",
         "scene": "scene",
         "showlegend": true,
         "type": "scatter3d",
         "x": [
          78
         ],
         "y": [
          204
         ],
         "z": [
          38.7
         ]
        },
        {
         "hoverlabel": {
          "namelength": 0
         },
         "hovertemplate": "State=Connecticut<br>UrbanPop=%{x}<br>Assault=%{y}<br>Rape=%{z}",
         "legendgroup": "State=Connecticut",
         "marker": {
          "color": "#FF6692",
          "symbol": "circle"
         },
         "mode": "markers",
         "name": "State=Connecticut",
         "scene": "scene",
         "showlegend": true,
         "type": "scatter3d",
         "x": [
          77
         ],
         "y": [
          110
         ],
         "z": [
          11.1
         ]
        },
        {
         "hoverlabel": {
          "namelength": 0
         },
         "hovertemplate": "State=Delaware<br>UrbanPop=%{x}<br>Assault=%{y}<br>Rape=%{z}",
         "legendgroup": "State=Delaware",
         "marker": {
          "color": "#B6E880",
          "symbol": "circle"
         },
         "mode": "markers",
         "name": "State=Delaware",
         "scene": "scene",
         "showlegend": true,
         "type": "scatter3d",
         "x": [
          72
         ],
         "y": [
          238
         ],
         "z": [
          15.8
         ]
        },
        {
         "hoverlabel": {
          "namelength": 0
         },
         "hovertemplate": "State=Florida<br>UrbanPop=%{x}<br>Assault=%{y}<br>Rape=%{z}",
         "legendgroup": "State=Florida",
         "marker": {
          "color": "#FF97FF",
          "symbol": "circle"
         },
         "mode": "markers",
         "name": "State=Florida",
         "scene": "scene",
         "showlegend": true,
         "type": "scatter3d",
         "x": [
          80
         ],
         "y": [
          335
         ],
         "z": [
          31.9
         ]
        },
        {
         "hoverlabel": {
          "namelength": 0
         },
         "hovertemplate": "State=Georgia<br>UrbanPop=%{x}<br>Assault=%{y}<br>Rape=%{z}",
         "legendgroup": "State=Georgia",
         "marker": {
          "color": "#FECB52",
          "symbol": "circle"
         },
         "mode": "markers",
         "name": "State=Georgia",
         "scene": "scene",
         "showlegend": true,
         "type": "scatter3d",
         "x": [
          60
         ],
         "y": [
          211
         ],
         "z": [
          25.8
         ]
        },
        {
         "hoverlabel": {
          "namelength": 0
         },
         "hovertemplate": "State=Hawaii<br>UrbanPop=%{x}<br>Assault=%{y}<br>Rape=%{z}",
         "legendgroup": "State=Hawaii",
         "marker": {
          "color": "#636efa",
          "symbol": "circle"
         },
         "mode": "markers",
         "name": "State=Hawaii",
         "scene": "scene",
         "showlegend": true,
         "type": "scatter3d",
         "x": [
          83
         ],
         "y": [
          46
         ],
         "z": [
          20.2
         ]
        },
        {
         "hoverlabel": {
          "namelength": 0
         },
         "hovertemplate": "State=Idaho<br>UrbanPop=%{x}<br>Assault=%{y}<br>Rape=%{z}",
         "legendgroup": "State=Idaho",
         "marker": {
          "color": "#EF553B",
          "symbol": "circle"
         },
         "mode": "markers",
         "name": "State=Idaho",
         "scene": "scene",
         "showlegend": true,
         "type": "scatter3d",
         "x": [
          54
         ],
         "y": [
          120
         ],
         "z": [
          14.2
         ]
        },
        {
         "hoverlabel": {
          "namelength": 0
         },
         "hovertemplate": "State=Illinois<br>UrbanPop=%{x}<br>Assault=%{y}<br>Rape=%{z}",
         "legendgroup": "State=Illinois",
         "marker": {
          "color": "#00cc96",
          "symbol": "circle"
         },
         "mode": "markers",
         "name": "State=Illinois",
         "scene": "scene",
         "showlegend": true,
         "type": "scatter3d",
         "x": [
          83
         ],
         "y": [
          249
         ],
         "z": [
          24
         ]
        },
        {
         "hoverlabel": {
          "namelength": 0
         },
         "hovertemplate": "State=Indiana<br>UrbanPop=%{x}<br>Assault=%{y}<br>Rape=%{z}",
         "legendgroup": "State=Indiana",
         "marker": {
          "color": "#ab63fa",
          "symbol": "circle"
         },
         "mode": "markers",
         "name": "State=Indiana",
         "scene": "scene",
         "showlegend": true,
         "type": "scatter3d",
         "x": [
          65
         ],
         "y": [
          113
         ],
         "z": [
          21
         ]
        },
        {
         "hoverlabel": {
          "namelength": 0
         },
         "hovertemplate": "State=Iowa<br>UrbanPop=%{x}<br>Assault=%{y}<br>Rape=%{z}",
         "legendgroup": "State=Iowa",
         "marker": {
          "color": "#FFA15A",
          "symbol": "circle"
         },
         "mode": "markers",
         "name": "State=Iowa",
         "scene": "scene",
         "showlegend": true,
         "type": "scatter3d",
         "x": [
          57
         ],
         "y": [
          56
         ],
         "z": [
          11.3
         ]
        },
        {
         "hoverlabel": {
          "namelength": 0
         },
         "hovertemplate": "State=Kansas<br>UrbanPop=%{x}<br>Assault=%{y}<br>Rape=%{z}",
         "legendgroup": "State=Kansas",
         "marker": {
          "color": "#19d3f3",
          "symbol": "circle"
         },
         "mode": "markers",
         "name": "State=Kansas",
         "scene": "scene",
         "showlegend": true,
         "type": "scatter3d",
         "x": [
          66
         ],
         "y": [
          115
         ],
         "z": [
          18
         ]
        },
        {
         "hoverlabel": {
          "namelength": 0
         },
         "hovertemplate": "State=Kentucky<br>UrbanPop=%{x}<br>Assault=%{y}<br>Rape=%{z}",
         "legendgroup": "State=Kentucky",
         "marker": {
          "color": "#FF6692",
          "symbol": "circle"
         },
         "mode": "markers",
         "name": "State=Kentucky",
         "scene": "scene",
         "showlegend": true,
         "type": "scatter3d",
         "x": [
          52
         ],
         "y": [
          109
         ],
         "z": [
          16.3
         ]
        },
        {
         "hoverlabel": {
          "namelength": 0
         },
         "hovertemplate": "State=Louisiana<br>UrbanPop=%{x}<br>Assault=%{y}<br>Rape=%{z}",
         "legendgroup": "State=Louisiana",
         "marker": {
          "color": "#B6E880",
          "symbol": "circle"
         },
         "mode": "markers",
         "name": "State=Louisiana",
         "scene": "scene",
         "showlegend": true,
         "type": "scatter3d",
         "x": [
          66
         ],
         "y": [
          249
         ],
         "z": [
          22.2
         ]
        },
        {
         "hoverlabel": {
          "namelength": 0
         },
         "hovertemplate": "State=Maine<br>UrbanPop=%{x}<br>Assault=%{y}<br>Rape=%{z}",
         "legendgroup": "State=Maine",
         "marker": {
          "color": "#FF97FF",
          "symbol": "circle"
         },
         "mode": "markers",
         "name": "State=Maine",
         "scene": "scene",
         "showlegend": true,
         "type": "scatter3d",
         "x": [
          51
         ],
         "y": [
          83
         ],
         "z": [
          7.8
         ]
        },
        {
         "hoverlabel": {
          "namelength": 0
         },
         "hovertemplate": "State=Maryland<br>UrbanPop=%{x}<br>Assault=%{y}<br>Rape=%{z}",
         "legendgroup": "State=Maryland",
         "marker": {
          "color": "#FECB52",
          "symbol": "circle"
         },
         "mode": "markers",
         "name": "State=Maryland",
         "scene": "scene",
         "showlegend": true,
         "type": "scatter3d",
         "x": [
          67
         ],
         "y": [
          300
         ],
         "z": [
          27.8
         ]
        },
        {
         "hoverlabel": {
          "namelength": 0
         },
         "hovertemplate": "State=Massachusetts<br>UrbanPop=%{x}<br>Assault=%{y}<br>Rape=%{z}",
         "legendgroup": "State=Massachusetts",
         "marker": {
          "color": "#636efa",
          "symbol": "circle"
         },
         "mode": "markers",
         "name": "State=Massachusetts",
         "scene": "scene",
         "showlegend": true,
         "type": "scatter3d",
         "x": [
          85
         ],
         "y": [
          149
         ],
         "z": [
          16.3
         ]
        },
        {
         "hoverlabel": {
          "namelength": 0
         },
         "hovertemplate": "State=Michigan<br>UrbanPop=%{x}<br>Assault=%{y}<br>Rape=%{z}",
         "legendgroup": "State=Michigan",
         "marker": {
          "color": "#EF553B",
          "symbol": "circle"
         },
         "mode": "markers",
         "name": "State=Michigan",
         "scene": "scene",
         "showlegend": true,
         "type": "scatter3d",
         "x": [
          74
         ],
         "y": [
          255
         ],
         "z": [
          35.1
         ]
        },
        {
         "hoverlabel": {
          "namelength": 0
         },
         "hovertemplate": "State=Minnesota<br>UrbanPop=%{x}<br>Assault=%{y}<br>Rape=%{z}",
         "legendgroup": "State=Minnesota",
         "marker": {
          "color": "#00cc96",
          "symbol": "circle"
         },
         "mode": "markers",
         "name": "State=Minnesota",
         "scene": "scene",
         "showlegend": true,
         "type": "scatter3d",
         "x": [
          66
         ],
         "y": [
          72
         ],
         "z": [
          14.9
         ]
        },
        {
         "hoverlabel": {
          "namelength": 0
         },
         "hovertemplate": "State=Mississippi<br>UrbanPop=%{x}<br>Assault=%{y}<br>Rape=%{z}",
         "legendgroup": "State=Mississippi",
         "marker": {
          "color": "#ab63fa",
          "symbol": "circle"
         },
         "mode": "markers",
         "name": "State=Mississippi",
         "scene": "scene",
         "showlegend": true,
         "type": "scatter3d",
         "x": [
          44
         ],
         "y": [
          259
         ],
         "z": [
          17.1
         ]
        },
        {
         "hoverlabel": {
          "namelength": 0
         },
         "hovertemplate": "State=Missouri<br>UrbanPop=%{x}<br>Assault=%{y}<br>Rape=%{z}",
         "legendgroup": "State=Missouri",
         "marker": {
          "color": "#FFA15A",
          "symbol": "circle"
         },
         "mode": "markers",
         "name": "State=Missouri",
         "scene": "scene",
         "showlegend": true,
         "type": "scatter3d",
         "x": [
          70
         ],
         "y": [
          178
         ],
         "z": [
          28.2
         ]
        },
        {
         "hoverlabel": {
          "namelength": 0
         },
         "hovertemplate": "State=Montana<br>UrbanPop=%{x}<br>Assault=%{y}<br>Rape=%{z}",
         "legendgroup": "State=Montana",
         "marker": {
          "color": "#19d3f3",
          "symbol": "circle"
         },
         "mode": "markers",
         "name": "State=Montana",
         "scene": "scene",
         "showlegend": true,
         "type": "scatter3d",
         "x": [
          53
         ],
         "y": [
          109
         ],
         "z": [
          16.4
         ]
        },
        {
         "hoverlabel": {
          "namelength": 0
         },
         "hovertemplate": "State=Nebraska<br>UrbanPop=%{x}<br>Assault=%{y}<br>Rape=%{z}",
         "legendgroup": "State=Nebraska",
         "marker": {
          "color": "#FF6692",
          "symbol": "circle"
         },
         "mode": "markers",
         "name": "State=Nebraska",
         "scene": "scene",
         "showlegend": true,
         "type": "scatter3d",
         "x": [
          62
         ],
         "y": [
          102
         ],
         "z": [
          16.5
         ]
        },
        {
         "hoverlabel": {
          "namelength": 0
         },
         "hovertemplate": "State=Nevada<br>UrbanPop=%{x}<br>Assault=%{y}<br>Rape=%{z}",
         "legendgroup": "State=Nevada",
         "marker": {
          "color": "#B6E880",
          "symbol": "circle"
         },
         "mode": "markers",
         "name": "State=Nevada",
         "scene": "scene",
         "showlegend": true,
         "type": "scatter3d",
         "x": [
          81
         ],
         "y": [
          252
         ],
         "z": [
          46
         ]
        },
        {
         "hoverlabel": {
          "namelength": 0
         },
         "hovertemplate": "State=New Hampshire<br>UrbanPop=%{x}<br>Assault=%{y}<br>Rape=%{z}",
         "legendgroup": "State=New Hampshire",
         "marker": {
          "color": "#FF97FF",
          "symbol": "circle"
         },
         "mode": "markers",
         "name": "State=New Hampshire",
         "scene": "scene",
         "showlegend": true,
         "type": "scatter3d",
         "x": [
          56
         ],
         "y": [
          57
         ],
         "z": [
          9.5
         ]
        },
        {
         "hoverlabel": {
          "namelength": 0
         },
         "hovertemplate": "State=New Jersey<br>UrbanPop=%{x}<br>Assault=%{y}<br>Rape=%{z}",
         "legendgroup": "State=New Jersey",
         "marker": {
          "color": "#FECB52",
          "symbol": "circle"
         },
         "mode": "markers",
         "name": "State=New Jersey",
         "scene": "scene",
         "showlegend": true,
         "type": "scatter3d",
         "x": [
          89
         ],
         "y": [
          159
         ],
         "z": [
          18.8
         ]
        },
        {
         "hoverlabel": {
          "namelength": 0
         },
         "hovertemplate": "State=New Mexico<br>UrbanPop=%{x}<br>Assault=%{y}<br>Rape=%{z}",
         "legendgroup": "State=New Mexico",
         "marker": {
          "color": "#636efa",
          "symbol": "circle"
         },
         "mode": "markers",
         "name": "State=New Mexico",
         "scene": "scene",
         "showlegend": true,
         "type": "scatter3d",
         "x": [
          70
         ],
         "y": [
          285
         ],
         "z": [
          32.1
         ]
        },
        {
         "hoverlabel": {
          "namelength": 0
         },
         "hovertemplate": "State=New York<br>UrbanPop=%{x}<br>Assault=%{y}<br>Rape=%{z}",
         "legendgroup": "State=New York",
         "marker": {
          "color": "#EF553B",
          "symbol": "circle"
         },
         "mode": "markers",
         "name": "State=New York",
         "scene": "scene",
         "showlegend": true,
         "type": "scatter3d",
         "x": [
          86
         ],
         "y": [
          254
         ],
         "z": [
          26.1
         ]
        },
        {
         "hoverlabel": {
          "namelength": 0
         },
         "hovertemplate": "State=North Carolina<br>UrbanPop=%{x}<br>Assault=%{y}<br>Rape=%{z}",
         "legendgroup": "State=North Carolina",
         "marker": {
          "color": "#00cc96",
          "symbol": "circle"
         },
         "mode": "markers",
         "name": "State=North Carolina",
         "scene": "scene",
         "showlegend": true,
         "type": "scatter3d",
         "x": [
          45
         ],
         "y": [
          337
         ],
         "z": [
          16.1
         ]
        },
        {
         "hoverlabel": {
          "namelength": 0
         },
         "hovertemplate": "State=North Dakota<br>UrbanPop=%{x}<br>Assault=%{y}<br>Rape=%{z}",
         "legendgroup": "State=North Dakota",
         "marker": {
          "color": "#ab63fa",
          "symbol": "circle"
         },
         "mode": "markers",
         "name": "State=North Dakota",
         "scene": "scene",
         "showlegend": true,
         "type": "scatter3d",
         "x": [
          44
         ],
         "y": [
          45
         ],
         "z": [
          7.3
         ]
        },
        {
         "hoverlabel": {
          "namelength": 0
         },
         "hovertemplate": "State=Ohio<br>UrbanPop=%{x}<br>Assault=%{y}<br>Rape=%{z}",
         "legendgroup": "State=Ohio",
         "marker": {
          "color": "#FFA15A",
          "symbol": "circle"
         },
         "mode": "markers",
         "name": "State=Ohio",
         "scene": "scene",
         "showlegend": true,
         "type": "scatter3d",
         "x": [
          75
         ],
         "y": [
          120
         ],
         "z": [
          21.4
         ]
        },
        {
         "hoverlabel": {
          "namelength": 0
         },
         "hovertemplate": "State=Oklahoma<br>UrbanPop=%{x}<br>Assault=%{y}<br>Rape=%{z}",
         "legendgroup": "State=Oklahoma",
         "marker": {
          "color": "#19d3f3",
          "symbol": "circle"
         },
         "mode": "markers",
         "name": "State=Oklahoma",
         "scene": "scene",
         "showlegend": true,
         "type": "scatter3d",
         "x": [
          68
         ],
         "y": [
          151
         ],
         "z": [
          20
         ]
        },
        {
         "hoverlabel": {
          "namelength": 0
         },
         "hovertemplate": "State=Oregon<br>UrbanPop=%{x}<br>Assault=%{y}<br>Rape=%{z}",
         "legendgroup": "State=Oregon",
         "marker": {
          "color": "#FF6692",
          "symbol": "circle"
         },
         "mode": "markers",
         "name": "State=Oregon",
         "scene": "scene",
         "showlegend": true,
         "type": "scatter3d",
         "x": [
          67
         ],
         "y": [
          159
         ],
         "z": [
          29.3
         ]
        },
        {
         "hoverlabel": {
          "namelength": 0
         },
         "hovertemplate": "State=Pennsylvania<br>UrbanPop=%{x}<br>Assault=%{y}<br>Rape=%{z}",
         "legendgroup": "State=Pennsylvania",
         "marker": {
          "color": "#B6E880",
          "symbol": "circle"
         },
         "mode": "markers",
         "name": "State=Pennsylvania",
         "scene": "scene",
         "showlegend": true,
         "type": "scatter3d",
         "x": [
          72
         ],
         "y": [
          106
         ],
         "z": [
          14.9
         ]
        },
        {
         "hoverlabel": {
          "namelength": 0
         },
         "hovertemplate": "State=Rhode Island<br>UrbanPop=%{x}<br>Assault=%{y}<br>Rape=%{z}",
         "legendgroup": "State=Rhode Island",
         "marker": {
          "color": "#FF97FF",
          "symbol": "circle"
         },
         "mode": "markers",
         "name": "State=Rhode Island",
         "scene": "scene",
         "showlegend": true,
         "type": "scatter3d",
         "x": [
          87
         ],
         "y": [
          174
         ],
         "z": [
          8.3
         ]
        },
        {
         "hoverlabel": {
          "namelength": 0
         },
         "hovertemplate": "State=South Carolina<br>UrbanPop=%{x}<br>Assault=%{y}<br>Rape=%{z}",
         "legendgroup": "State=South Carolina",
         "marker": {
          "color": "#FECB52",
          "symbol": "circle"
         },
         "mode": "markers",
         "name": "State=South Carolina",
         "scene": "scene",
         "showlegend": true,
         "type": "scatter3d",
         "x": [
          48
         ],
         "y": [
          279
         ],
         "z": [
          22.5
         ]
        },
        {
         "hoverlabel": {
          "namelength": 0
         },
         "hovertemplate": "State=South Dakota<br>UrbanPop=%{x}<br>Assault=%{y}<br>Rape=%{z}",
         "legendgroup": "State=South Dakota",
         "marker": {
          "color": "#636efa",
          "symbol": "circle"
         },
         "mode": "markers",
         "name": "State=South Dakota",
         "scene": "scene",
         "showlegend": true,
         "type": "scatter3d",
         "x": [
          45
         ],
         "y": [
          86
         ],
         "z": [
          12.8
         ]
        },
        {
         "hoverlabel": {
          "namelength": 0
         },
         "hovertemplate": "State=Tennessee<br>UrbanPop=%{x}<br>Assault=%{y}<br>Rape=%{z}",
         "legendgroup": "State=Tennessee",
         "marker": {
          "color": "#EF553B",
          "symbol": "circle"
         },
         "mode": "markers",
         "name": "State=Tennessee",
         "scene": "scene",
         "showlegend": true,
         "type": "scatter3d",
         "x": [
          59
         ],
         "y": [
          188
         ],
         "z": [
          26.9
         ]
        },
        {
         "hoverlabel": {
          "namelength": 0
         },
         "hovertemplate": "State=Texas<br>UrbanPop=%{x}<br>Assault=%{y}<br>Rape=%{z}",
         "legendgroup": "State=Texas",
         "marker": {
          "color": "#00cc96",
          "symbol": "circle"
         },
         "mode": "markers",
         "name": "State=Texas",
         "scene": "scene",
         "showlegend": true,
         "type": "scatter3d",
         "x": [
          80
         ],
         "y": [
          201
         ],
         "z": [
          25.5
         ]
        },
        {
         "hoverlabel": {
          "namelength": 0
         },
         "hovertemplate": "State=Utah<br>UrbanPop=%{x}<br>Assault=%{y}<br>Rape=%{z}",
         "legendgroup": "State=Utah",
         "marker": {
          "color": "#ab63fa",
          "symbol": "circle"
         },
         "mode": "markers",
         "name": "State=Utah",
         "scene": "scene",
         "showlegend": true,
         "type": "scatter3d",
         "x": [
          80
         ],
         "y": [
          120
         ],
         "z": [
          22.9
         ]
        },
        {
         "hoverlabel": {
          "namelength": 0
         },
         "hovertemplate": "State=Vermont<br>UrbanPop=%{x}<br>Assault=%{y}<br>Rape=%{z}",
         "legendgroup": "State=Vermont",
         "marker": {
          "color": "#FFA15A",
          "symbol": "circle"
         },
         "mode": "markers",
         "name": "State=Vermont",
         "scene": "scene",
         "showlegend": true,
         "type": "scatter3d",
         "x": [
          32
         ],
         "y": [
          48
         ],
         "z": [
          11.2
         ]
        },
        {
         "hoverlabel": {
          "namelength": 0
         },
         "hovertemplate": "State=Virginia<br>UrbanPop=%{x}<br>Assault=%{y}<br>Rape=%{z}",
         "legendgroup": "State=Virginia",
         "marker": {
          "color": "#19d3f3",
          "symbol": "circle"
         },
         "mode": "markers",
         "name": "State=Virginia",
         "scene": "scene",
         "showlegend": true,
         "type": "scatter3d",
         "x": [
          63
         ],
         "y": [
          156
         ],
         "z": [
          20.7
         ]
        },
        {
         "hoverlabel": {
          "namelength": 0
         },
         "hovertemplate": "State=Washington<br>UrbanPop=%{x}<br>Assault=%{y}<br>Rape=%{z}",
         "legendgroup": "State=Washington",
         "marker": {
          "color": "#FF6692",
          "symbol": "circle"
         },
         "mode": "markers",
         "name": "State=Washington",
         "scene": "scene",
         "showlegend": true,
         "type": "scatter3d",
         "x": [
          73
         ],
         "y": [
          145
         ],
         "z": [
          26.2
         ]
        },
        {
         "hoverlabel": {
          "namelength": 0
         },
         "hovertemplate": "State=West Virginia<br>UrbanPop=%{x}<br>Assault=%{y}<br>Rape=%{z}",
         "legendgroup": "State=West Virginia",
         "marker": {
          "color": "#B6E880",
          "symbol": "circle"
         },
         "mode": "markers",
         "name": "State=West Virginia",
         "scene": "scene",
         "showlegend": true,
         "type": "scatter3d",
         "x": [
          39
         ],
         "y": [
          81
         ],
         "z": [
          9.3
         ]
        },
        {
         "hoverlabel": {
          "namelength": 0
         },
         "hovertemplate": "State=Wisconsin<br>UrbanPop=%{x}<br>Assault=%{y}<br>Rape=%{z}",
         "legendgroup": "State=Wisconsin",
         "marker": {
          "color": "#FF97FF",
          "symbol": "circle"
         },
         "mode": "markers",
         "name": "State=Wisconsin",
         "scene": "scene",
         "showlegend": true,
         "type": "scatter3d",
         "x": [
          66
         ],
         "y": [
          53
         ],
         "z": [
          10.8
         ]
        },
        {
         "hoverlabel": {
          "namelength": 0
         },
         "hovertemplate": "State=Wyoming<br>UrbanPop=%{x}<br>Assault=%{y}<br>Rape=%{z}",
         "legendgroup": "State=Wyoming",
         "marker": {
          "color": "#FECB52",
          "symbol": "circle"
         },
         "mode": "markers",
         "name": "State=Wyoming",
         "scene": "scene",
         "showlegend": true,
         "type": "scatter3d",
         "x": [
          60
         ],
         "y": [
          161
         ],
         "z": [
          15.6
         ]
        }
       ],
       "layout": {
        "font": {
         "size": 8
        },
        "height": 600,
        "legend": {
         "tracegroupgap": 0
        },
        "margin": {
         "t": 60
        },
        "scene": {
         "domain": {
          "x": [
           0,
           0.98
          ],
          "y": [
           0,
           1
          ]
         },
         "xaxis": {
          "title": {
           "text": "Urban Population %"
          }
         },
         "yaxis": {
          "title": {
           "text": "Assault Arrests per 100,000 residents"
          }
         },
         "zaxis": {
          "title": {
           "text": "Rape Arrests per 100,000 residents"
          }
         }
        },
        "template": {
         "data": {
          "bar": [
           {
            "error_x": {
             "color": "#2a3f5f"
            },
            "error_y": {
             "color": "#2a3f5f"
            },
            "marker": {
             "line": {
              "color": "#E5ECF6",
              "width": 0.5
             }
            },
            "type": "bar"
           }
          ],
          "barpolar": [
           {
            "marker": {
             "line": {
              "color": "#E5ECF6",
              "width": 0.5
             }
            },
            "type": "barpolar"
           }
          ],
          "carpet": [
           {
            "aaxis": {
             "endlinecolor": "#2a3f5f",
             "gridcolor": "white",
             "linecolor": "white",
             "minorgridcolor": "white",
             "startlinecolor": "#2a3f5f"
            },
            "baxis": {
             "endlinecolor": "#2a3f5f",
             "gridcolor": "white",
             "linecolor": "white",
             "minorgridcolor": "white",
             "startlinecolor": "#2a3f5f"
            },
            "type": "carpet"
           }
          ],
          "choropleth": [
           {
            "colorbar": {
             "outlinewidth": 0,
             "ticks": ""
            },
            "type": "choropleth"
           }
          ],
          "contour": [
           {
            "colorbar": {
             "outlinewidth": 0,
             "ticks": ""
            },
            "colorscale": [
             [
              0,
              "#0d0887"
             ],
             [
              0.1111111111111111,
              "#46039f"
             ],
             [
              0.2222222222222222,
              "#7201a8"
             ],
             [
              0.3333333333333333,
              "#9c179e"
             ],
             [
              0.4444444444444444,
              "#bd3786"
             ],
             [
              0.5555555555555556,
              "#d8576b"
             ],
             [
              0.6666666666666666,
              "#ed7953"
             ],
             [
              0.7777777777777778,
              "#fb9f3a"
             ],
             [
              0.8888888888888888,
              "#fdca26"
             ],
             [
              1,
              "#f0f921"
             ]
            ],
            "type": "contour"
           }
          ],
          "contourcarpet": [
           {
            "colorbar": {
             "outlinewidth": 0,
             "ticks": ""
            },
            "type": "contourcarpet"
           }
          ],
          "heatmap": [
           {
            "colorbar": {
             "outlinewidth": 0,
             "ticks": ""
            },
            "colorscale": [
             [
              0,
              "#0d0887"
             ],
             [
              0.1111111111111111,
              "#46039f"
             ],
             [
              0.2222222222222222,
              "#7201a8"
             ],
             [
              0.3333333333333333,
              "#9c179e"
             ],
             [
              0.4444444444444444,
              "#bd3786"
             ],
             [
              0.5555555555555556,
              "#d8576b"
             ],
             [
              0.6666666666666666,
              "#ed7953"
             ],
             [
              0.7777777777777778,
              "#fb9f3a"
             ],
             [
              0.8888888888888888,
              "#fdca26"
             ],
             [
              1,
              "#f0f921"
             ]
            ],
            "type": "heatmap"
           }
          ],
          "heatmapgl": [
           {
            "colorbar": {
             "outlinewidth": 0,
             "ticks": ""
            },
            "colorscale": [
             [
              0,
              "#0d0887"
             ],
             [
              0.1111111111111111,
              "#46039f"
             ],
             [
              0.2222222222222222,
              "#7201a8"
             ],
             [
              0.3333333333333333,
              "#9c179e"
             ],
             [
              0.4444444444444444,
              "#bd3786"
             ],
             [
              0.5555555555555556,
              "#d8576b"
             ],
             [
              0.6666666666666666,
              "#ed7953"
             ],
             [
              0.7777777777777778,
              "#fb9f3a"
             ],
             [
              0.8888888888888888,
              "#fdca26"
             ],
             [
              1,
              "#f0f921"
             ]
            ],
            "type": "heatmapgl"
           }
          ],
          "histogram": [
           {
            "marker": {
             "colorbar": {
              "outlinewidth": 0,
              "ticks": ""
             }
            },
            "type": "histogram"
           }
          ],
          "histogram2d": [
           {
            "colorbar": {
             "outlinewidth": 0,
             "ticks": ""
            },
            "colorscale": [
             [
              0,
              "#0d0887"
             ],
             [
              0.1111111111111111,
              "#46039f"
             ],
             [
              0.2222222222222222,
              "#7201a8"
             ],
             [
              0.3333333333333333,
              "#9c179e"
             ],
             [
              0.4444444444444444,
              "#bd3786"
             ],
             [
              0.5555555555555556,
              "#d8576b"
             ],
             [
              0.6666666666666666,
              "#ed7953"
             ],
             [
              0.7777777777777778,
              "#fb9f3a"
             ],
             [
              0.8888888888888888,
              "#fdca26"
             ],
             [
              1,
              "#f0f921"
             ]
            ],
            "type": "histogram2d"
           }
          ],
          "histogram2dcontour": [
           {
            "colorbar": {
             "outlinewidth": 0,
             "ticks": ""
            },
            "colorscale": [
             [
              0,
              "#0d0887"
             ],
             [
              0.1111111111111111,
              "#46039f"
             ],
             [
              0.2222222222222222,
              "#7201a8"
             ],
             [
              0.3333333333333333,
              "#9c179e"
             ],
             [
              0.4444444444444444,
              "#bd3786"
             ],
             [
              0.5555555555555556,
              "#d8576b"
             ],
             [
              0.6666666666666666,
              "#ed7953"
             ],
             [
              0.7777777777777778,
              "#fb9f3a"
             ],
             [
              0.8888888888888888,
              "#fdca26"
             ],
             [
              1,
              "#f0f921"
             ]
            ],
            "type": "histogram2dcontour"
           }
          ],
          "mesh3d": [
           {
            "colorbar": {
             "outlinewidth": 0,
             "ticks": ""
            },
            "type": "mesh3d"
           }
          ],
          "parcoords": [
           {
            "line": {
             "colorbar": {
              "outlinewidth": 0,
              "ticks": ""
             }
            },
            "type": "parcoords"
           }
          ],
          "scatter": [
           {
            "marker": {
             "colorbar": {
              "outlinewidth": 0,
              "ticks": ""
             }
            },
            "type": "scatter"
           }
          ],
          "scatter3d": [
           {
            "line": {
             "colorbar": {
              "outlinewidth": 0,
              "ticks": ""
             }
            },
            "marker": {
             "colorbar": {
              "outlinewidth": 0,
              "ticks": ""
             }
            },
            "type": "scatter3d"
           }
          ],
          "scattercarpet": [
           {
            "marker": {
             "colorbar": {
              "outlinewidth": 0,
              "ticks": ""
             }
            },
            "type": "scattercarpet"
           }
          ],
          "scattergeo": [
           {
            "marker": {
             "colorbar": {
              "outlinewidth": 0,
              "ticks": ""
             }
            },
            "type": "scattergeo"
           }
          ],
          "scattergl": [
           {
            "marker": {
             "colorbar": {
              "outlinewidth": 0,
              "ticks": ""
             }
            },
            "type": "scattergl"
           }
          ],
          "scattermapbox": [
           {
            "marker": {
             "colorbar": {
              "outlinewidth": 0,
              "ticks": ""
             }
            },
            "type": "scattermapbox"
           }
          ],
          "scatterpolar": [
           {
            "marker": {
             "colorbar": {
              "outlinewidth": 0,
              "ticks": ""
             }
            },
            "type": "scatterpolar"
           }
          ],
          "scatterpolargl": [
           {
            "marker": {
             "colorbar": {
              "outlinewidth": 0,
              "ticks": ""
             }
            },
            "type": "scatterpolargl"
           }
          ],
          "scatterternary": [
           {
            "marker": {
             "colorbar": {
              "outlinewidth": 0,
              "ticks": ""
             }
            },
            "type": "scatterternary"
           }
          ],
          "surface": [
           {
            "colorbar": {
             "outlinewidth": 0,
             "ticks": ""
            },
            "colorscale": [
             [
              0,
              "#0d0887"
             ],
             [
              0.1111111111111111,
              "#46039f"
             ],
             [
              0.2222222222222222,
              "#7201a8"
             ],
             [
              0.3333333333333333,
              "#9c179e"
             ],
             [
              0.4444444444444444,
              "#bd3786"
             ],
             [
              0.5555555555555556,
              "#d8576b"
             ],
             [
              0.6666666666666666,
              "#ed7953"
             ],
             [
              0.7777777777777778,
              "#fb9f3a"
             ],
             [
              0.8888888888888888,
              "#fdca26"
             ],
             [
              1,
              "#f0f921"
             ]
            ],
            "type": "surface"
           }
          ],
          "table": [
           {
            "cells": {
             "fill": {
              "color": "#EBF0F8"
             },
             "line": {
              "color": "white"
             }
            },
            "header": {
             "fill": {
              "color": "#C8D4E3"
             },
             "line": {
              "color": "white"
             }
            },
            "type": "table"
           }
          ]
         },
         "layout": {
          "annotationdefaults": {
           "arrowcolor": "#2a3f5f",
           "arrowhead": 0,
           "arrowwidth": 1
          },
          "colorscale": {
           "diverging": [
            [
             0,
             "#8e0152"
            ],
            [
             0.1,
             "#c51b7d"
            ],
            [
             0.2,
             "#de77ae"
            ],
            [
             0.3,
             "#f1b6da"
            ],
            [
             0.4,
             "#fde0ef"
            ],
            [
             0.5,
             "#f7f7f7"
            ],
            [
             0.6,
             "#e6f5d0"
            ],
            [
             0.7,
             "#b8e186"
            ],
            [
             0.8,
             "#7fbc41"
            ],
            [
             0.9,
             "#4d9221"
            ],
            [
             1,
             "#276419"
            ]
           ],
           "sequential": [
            [
             0,
             "#0d0887"
            ],
            [
             0.1111111111111111,
             "#46039f"
            ],
            [
             0.2222222222222222,
             "#7201a8"
            ],
            [
             0.3333333333333333,
             "#9c179e"
            ],
            [
             0.4444444444444444,
             "#bd3786"
            ],
            [
             0.5555555555555556,
             "#d8576b"
            ],
            [
             0.6666666666666666,
             "#ed7953"
            ],
            [
             0.7777777777777778,
             "#fb9f3a"
            ],
            [
             0.8888888888888888,
             "#fdca26"
            ],
            [
             1,
             "#f0f921"
            ]
           ],
           "sequentialminus": [
            [
             0,
             "#0d0887"
            ],
            [
             0.1111111111111111,
             "#46039f"
            ],
            [
             0.2222222222222222,
             "#7201a8"
            ],
            [
             0.3333333333333333,
             "#9c179e"
            ],
            [
             0.4444444444444444,
             "#bd3786"
            ],
            [
             0.5555555555555556,
             "#d8576b"
            ],
            [
             0.6666666666666666,
             "#ed7953"
            ],
            [
             0.7777777777777778,
             "#fb9f3a"
            ],
            [
             0.8888888888888888,
             "#fdca26"
            ],
            [
             1,
             "#f0f921"
            ]
           ]
          },
          "colorway": [
           "#636efa",
           "#EF553B",
           "#00cc96",
           "#ab63fa",
           "#FFA15A",
           "#19d3f3",
           "#FF6692",
           "#B6E880",
           "#FF97FF",
           "#FECB52"
          ],
          "font": {
           "color": "#2a3f5f"
          },
          "geo": {
           "bgcolor": "white",
           "lakecolor": "white",
           "landcolor": "#E5ECF6",
           "showlakes": true,
           "showland": true,
           "subunitcolor": "white"
          },
          "hoverlabel": {
           "align": "left"
          },
          "hovermode": "closest",
          "mapbox": {
           "style": "light"
          },
          "paper_bgcolor": "white",
          "plot_bgcolor": "#E5ECF6",
          "polar": {
           "angularaxis": {
            "gridcolor": "white",
            "linecolor": "white",
            "ticks": ""
           },
           "bgcolor": "#E5ECF6",
           "radialaxis": {
            "gridcolor": "white",
            "linecolor": "white",
            "ticks": ""
           }
          },
          "scene": {
           "xaxis": {
            "backgroundcolor": "#E5ECF6",
            "gridcolor": "white",
            "gridwidth": 2,
            "linecolor": "white",
            "showbackground": true,
            "ticks": "",
            "zerolinecolor": "white"
           },
           "yaxis": {
            "backgroundcolor": "#E5ECF6",
            "gridcolor": "white",
            "gridwidth": 2,
            "linecolor": "white",
            "showbackground": true,
            "ticks": "",
            "zerolinecolor": "white"
           },
           "zaxis": {
            "backgroundcolor": "#E5ECF6",
            "gridcolor": "white",
            "gridwidth": 2,
            "linecolor": "white",
            "showbackground": true,
            "ticks": "",
            "zerolinecolor": "white"
           }
          },
          "shapedefaults": {
           "line": {
            "color": "#2a3f5f"
           }
          },
          "ternary": {
           "aaxis": {
            "gridcolor": "white",
            "linecolor": "white",
            "ticks": ""
           },
           "baxis": {
            "gridcolor": "white",
            "linecolor": "white",
            "ticks": ""
           },
           "bgcolor": "#E5ECF6",
           "caxis": {
            "gridcolor": "white",
            "linecolor": "white",
            "ticks": ""
           }
          },
          "title": {
           "x": 0.05
          },
          "xaxis": {
           "automargin": true,
           "gridcolor": "white",
           "linecolor": "white",
           "ticks": "",
           "zerolinecolor": "white",
           "zerolinewidth": 2
          },
          "yaxis": {
           "automargin": true,
           "gridcolor": "white",
           "linecolor": "white",
           "ticks": "",
           "zerolinecolor": "white",
           "zerolinewidth": 2
          }
         }
        }
       }
      },
      "text/html": [
       "<div>\n",
       "        \n",
       "        \n",
       "            <div id=\"67eb836b-01ec-4a21-b7b9-7c173a606271\" class=\"plotly-graph-div\" style=\"height:600px; width:100%;\"></div>\n",
       "            <script type=\"text/javascript\">\n",
       "                require([\"plotly\"], function(Plotly) {\n",
       "                    window.PLOTLYENV=window.PLOTLYENV || {};\n",
       "                    \n",
       "                if (document.getElementById(\"67eb836b-01ec-4a21-b7b9-7c173a606271\")) {\n",
       "                    Plotly.newPlot(\n",
       "                        '67eb836b-01ec-4a21-b7b9-7c173a606271',\n",
       "                        [{\"hoverlabel\": {\"namelength\": 0}, \"hovertemplate\": \"State=Alabama<br>UrbanPop=%{x}<br>Assault=%{y}<br>Rape=%{z}\", \"legendgroup\": \"State=Alabama\", \"marker\": {\"color\": \"#636efa\", \"symbol\": \"circle\"}, \"mode\": \"markers\", \"name\": \"State=Alabama\", \"scene\": \"scene\", \"showlegend\": true, \"type\": \"scatter3d\", \"x\": [58], \"y\": [236], \"z\": [21.2]}, {\"hoverlabel\": {\"namelength\": 0}, \"hovertemplate\": \"State=Alaska<br>UrbanPop=%{x}<br>Assault=%{y}<br>Rape=%{z}\", \"legendgroup\": \"State=Alaska\", \"marker\": {\"color\": \"#EF553B\", \"symbol\": \"circle\"}, \"mode\": \"markers\", \"name\": \"State=Alaska\", \"scene\": \"scene\", \"showlegend\": true, \"type\": \"scatter3d\", \"x\": [48], \"y\": [263], \"z\": [44.5]}, {\"hoverlabel\": {\"namelength\": 0}, \"hovertemplate\": \"State=Arizona<br>UrbanPop=%{x}<br>Assault=%{y}<br>Rape=%{z}\", \"legendgroup\": \"State=Arizona\", \"marker\": {\"color\": \"#00cc96\", \"symbol\": \"circle\"}, \"mode\": \"markers\", \"name\": \"State=Arizona\", \"scene\": \"scene\", \"showlegend\": true, \"type\": \"scatter3d\", \"x\": [80], \"y\": [294], \"z\": [31.0]}, {\"hoverlabel\": {\"namelength\": 0}, \"hovertemplate\": \"State=Arkansas<br>UrbanPop=%{x}<br>Assault=%{y}<br>Rape=%{z}\", \"legendgroup\": \"State=Arkansas\", \"marker\": {\"color\": \"#ab63fa\", \"symbol\": \"circle\"}, \"mode\": \"markers\", \"name\": \"State=Arkansas\", \"scene\": \"scene\", \"showlegend\": true, \"type\": \"scatter3d\", \"x\": [50], \"y\": [190], \"z\": [19.5]}, {\"hoverlabel\": {\"namelength\": 0}, \"hovertemplate\": \"State=California<br>UrbanPop=%{x}<br>Assault=%{y}<br>Rape=%{z}\", \"legendgroup\": \"State=California\", \"marker\": {\"color\": \"#FFA15A\", \"symbol\": \"circle\"}, \"mode\": \"markers\", \"name\": \"State=California\", \"scene\": \"scene\", \"showlegend\": true, \"type\": \"scatter3d\", \"x\": [91], \"y\": [276], \"z\": [40.6]}, {\"hoverlabel\": {\"namelength\": 0}, \"hovertemplate\": \"State=Colorado<br>UrbanPop=%{x}<br>Assault=%{y}<br>Rape=%{z}\", \"legendgroup\": \"State=Colorado\", \"marker\": {\"color\": \"#19d3f3\", \"symbol\": \"circle\"}, \"mode\": \"markers\", \"name\": \"State=Colorado\", \"scene\": \"scene\", \"showlegend\": true, \"type\": \"scatter3d\", \"x\": [78], \"y\": [204], \"z\": [38.7]}, {\"hoverlabel\": {\"namelength\": 0}, \"hovertemplate\": \"State=Connecticut<br>UrbanPop=%{x}<br>Assault=%{y}<br>Rape=%{z}\", \"legendgroup\": \"State=Connecticut\", \"marker\": {\"color\": \"#FF6692\", \"symbol\": \"circle\"}, \"mode\": \"markers\", \"name\": \"State=Connecticut\", \"scene\": \"scene\", \"showlegend\": true, \"type\": \"scatter3d\", \"x\": [77], \"y\": [110], \"z\": [11.1]}, {\"hoverlabel\": {\"namelength\": 0}, \"hovertemplate\": \"State=Delaware<br>UrbanPop=%{x}<br>Assault=%{y}<br>Rape=%{z}\", \"legendgroup\": \"State=Delaware\", \"marker\": {\"color\": \"#B6E880\", \"symbol\": \"circle\"}, \"mode\": \"markers\", \"name\": \"State=Delaware\", \"scene\": \"scene\", \"showlegend\": true, \"type\": \"scatter3d\", \"x\": [72], \"y\": [238], \"z\": [15.8]}, {\"hoverlabel\": {\"namelength\": 0}, \"hovertemplate\": \"State=Florida<br>UrbanPop=%{x}<br>Assault=%{y}<br>Rape=%{z}\", \"legendgroup\": \"State=Florida\", \"marker\": {\"color\": \"#FF97FF\", \"symbol\": \"circle\"}, \"mode\": \"markers\", \"name\": \"State=Florida\", \"scene\": \"scene\", \"showlegend\": true, \"type\": \"scatter3d\", \"x\": [80], \"y\": [335], \"z\": [31.9]}, {\"hoverlabel\": {\"namelength\": 0}, \"hovertemplate\": \"State=Georgia<br>UrbanPop=%{x}<br>Assault=%{y}<br>Rape=%{z}\", \"legendgroup\": \"State=Georgia\", \"marker\": {\"color\": \"#FECB52\", \"symbol\": \"circle\"}, \"mode\": \"markers\", \"name\": \"State=Georgia\", \"scene\": \"scene\", \"showlegend\": true, \"type\": \"scatter3d\", \"x\": [60], \"y\": [211], \"z\": [25.8]}, {\"hoverlabel\": {\"namelength\": 0}, \"hovertemplate\": \"State=Hawaii<br>UrbanPop=%{x}<br>Assault=%{y}<br>Rape=%{z}\", \"legendgroup\": \"State=Hawaii\", \"marker\": {\"color\": \"#636efa\", \"symbol\": \"circle\"}, \"mode\": \"markers\", \"name\": \"State=Hawaii\", \"scene\": \"scene\", \"showlegend\": true, \"type\": \"scatter3d\", \"x\": [83], \"y\": [46], \"z\": [20.2]}, {\"hoverlabel\": {\"namelength\": 0}, \"hovertemplate\": \"State=Idaho<br>UrbanPop=%{x}<br>Assault=%{y}<br>Rape=%{z}\", \"legendgroup\": \"State=Idaho\", \"marker\": {\"color\": \"#EF553B\", \"symbol\": \"circle\"}, \"mode\": \"markers\", \"name\": \"State=Idaho\", \"scene\": \"scene\", \"showlegend\": true, \"type\": \"scatter3d\", \"x\": [54], \"y\": [120], \"z\": [14.2]}, {\"hoverlabel\": {\"namelength\": 0}, \"hovertemplate\": \"State=Illinois<br>UrbanPop=%{x}<br>Assault=%{y}<br>Rape=%{z}\", \"legendgroup\": \"State=Illinois\", \"marker\": {\"color\": \"#00cc96\", \"symbol\": \"circle\"}, \"mode\": \"markers\", \"name\": \"State=Illinois\", \"scene\": \"scene\", \"showlegend\": true, \"type\": \"scatter3d\", \"x\": [83], \"y\": [249], \"z\": [24.0]}, {\"hoverlabel\": {\"namelength\": 0}, \"hovertemplate\": \"State=Indiana<br>UrbanPop=%{x}<br>Assault=%{y}<br>Rape=%{z}\", \"legendgroup\": \"State=Indiana\", \"marker\": {\"color\": \"#ab63fa\", \"symbol\": \"circle\"}, \"mode\": \"markers\", \"name\": \"State=Indiana\", \"scene\": \"scene\", \"showlegend\": true, \"type\": \"scatter3d\", \"x\": [65], \"y\": [113], \"z\": [21.0]}, {\"hoverlabel\": {\"namelength\": 0}, \"hovertemplate\": \"State=Iowa<br>UrbanPop=%{x}<br>Assault=%{y}<br>Rape=%{z}\", \"legendgroup\": \"State=Iowa\", \"marker\": {\"color\": \"#FFA15A\", \"symbol\": \"circle\"}, \"mode\": \"markers\", \"name\": \"State=Iowa\", \"scene\": \"scene\", \"showlegend\": true, \"type\": \"scatter3d\", \"x\": [57], \"y\": [56], \"z\": [11.3]}, {\"hoverlabel\": {\"namelength\": 0}, \"hovertemplate\": \"State=Kansas<br>UrbanPop=%{x}<br>Assault=%{y}<br>Rape=%{z}\", \"legendgroup\": \"State=Kansas\", \"marker\": {\"color\": \"#19d3f3\", \"symbol\": \"circle\"}, \"mode\": \"markers\", \"name\": \"State=Kansas\", \"scene\": \"scene\", \"showlegend\": true, \"type\": \"scatter3d\", \"x\": [66], \"y\": [115], \"z\": [18.0]}, {\"hoverlabel\": {\"namelength\": 0}, \"hovertemplate\": \"State=Kentucky<br>UrbanPop=%{x}<br>Assault=%{y}<br>Rape=%{z}\", \"legendgroup\": \"State=Kentucky\", \"marker\": {\"color\": \"#FF6692\", \"symbol\": \"circle\"}, \"mode\": \"markers\", \"name\": \"State=Kentucky\", \"scene\": \"scene\", \"showlegend\": true, \"type\": \"scatter3d\", \"x\": [52], \"y\": [109], \"z\": [16.3]}, {\"hoverlabel\": {\"namelength\": 0}, \"hovertemplate\": \"State=Louisiana<br>UrbanPop=%{x}<br>Assault=%{y}<br>Rape=%{z}\", \"legendgroup\": \"State=Louisiana\", \"marker\": {\"color\": \"#B6E880\", \"symbol\": \"circle\"}, \"mode\": \"markers\", \"name\": \"State=Louisiana\", \"scene\": \"scene\", \"showlegend\": true, \"type\": \"scatter3d\", \"x\": [66], \"y\": [249], \"z\": [22.2]}, {\"hoverlabel\": {\"namelength\": 0}, \"hovertemplate\": \"State=Maine<br>UrbanPop=%{x}<br>Assault=%{y}<br>Rape=%{z}\", \"legendgroup\": \"State=Maine\", \"marker\": {\"color\": \"#FF97FF\", \"symbol\": \"circle\"}, \"mode\": \"markers\", \"name\": \"State=Maine\", \"scene\": \"scene\", \"showlegend\": true, \"type\": \"scatter3d\", \"x\": [51], \"y\": [83], \"z\": [7.8]}, {\"hoverlabel\": {\"namelength\": 0}, \"hovertemplate\": \"State=Maryland<br>UrbanPop=%{x}<br>Assault=%{y}<br>Rape=%{z}\", \"legendgroup\": \"State=Maryland\", \"marker\": {\"color\": \"#FECB52\", \"symbol\": \"circle\"}, \"mode\": \"markers\", \"name\": \"State=Maryland\", \"scene\": \"scene\", \"showlegend\": true, \"type\": \"scatter3d\", \"x\": [67], \"y\": [300], \"z\": [27.8]}, {\"hoverlabel\": {\"namelength\": 0}, \"hovertemplate\": \"State=Massachusetts<br>UrbanPop=%{x}<br>Assault=%{y}<br>Rape=%{z}\", \"legendgroup\": \"State=Massachusetts\", \"marker\": {\"color\": \"#636efa\", \"symbol\": \"circle\"}, \"mode\": \"markers\", \"name\": \"State=Massachusetts\", \"scene\": \"scene\", \"showlegend\": true, \"type\": \"scatter3d\", \"x\": [85], \"y\": [149], \"z\": [16.3]}, {\"hoverlabel\": {\"namelength\": 0}, \"hovertemplate\": \"State=Michigan<br>UrbanPop=%{x}<br>Assault=%{y}<br>Rape=%{z}\", \"legendgroup\": \"State=Michigan\", \"marker\": {\"color\": \"#EF553B\", \"symbol\": \"circle\"}, \"mode\": \"markers\", \"name\": \"State=Michigan\", \"scene\": \"scene\", \"showlegend\": true, \"type\": \"scatter3d\", \"x\": [74], \"y\": [255], \"z\": [35.1]}, {\"hoverlabel\": {\"namelength\": 0}, \"hovertemplate\": \"State=Minnesota<br>UrbanPop=%{x}<br>Assault=%{y}<br>Rape=%{z}\", \"legendgroup\": \"State=Minnesota\", \"marker\": {\"color\": \"#00cc96\", \"symbol\": \"circle\"}, \"mode\": \"markers\", \"name\": \"State=Minnesota\", \"scene\": \"scene\", \"showlegend\": true, \"type\": \"scatter3d\", \"x\": [66], \"y\": [72], \"z\": [14.9]}, {\"hoverlabel\": {\"namelength\": 0}, \"hovertemplate\": \"State=Mississippi<br>UrbanPop=%{x}<br>Assault=%{y}<br>Rape=%{z}\", \"legendgroup\": \"State=Mississippi\", \"marker\": {\"color\": \"#ab63fa\", \"symbol\": \"circle\"}, \"mode\": \"markers\", \"name\": \"State=Mississippi\", \"scene\": \"scene\", \"showlegend\": true, \"type\": \"scatter3d\", \"x\": [44], \"y\": [259], \"z\": [17.1]}, {\"hoverlabel\": {\"namelength\": 0}, \"hovertemplate\": \"State=Missouri<br>UrbanPop=%{x}<br>Assault=%{y}<br>Rape=%{z}\", \"legendgroup\": \"State=Missouri\", \"marker\": {\"color\": \"#FFA15A\", \"symbol\": \"circle\"}, \"mode\": \"markers\", \"name\": \"State=Missouri\", \"scene\": \"scene\", \"showlegend\": true, \"type\": \"scatter3d\", \"x\": [70], \"y\": [178], \"z\": [28.2]}, {\"hoverlabel\": {\"namelength\": 0}, \"hovertemplate\": \"State=Montana<br>UrbanPop=%{x}<br>Assault=%{y}<br>Rape=%{z}\", \"legendgroup\": \"State=Montana\", \"marker\": {\"color\": \"#19d3f3\", \"symbol\": \"circle\"}, \"mode\": \"markers\", \"name\": \"State=Montana\", \"scene\": \"scene\", \"showlegend\": true, \"type\": \"scatter3d\", \"x\": [53], \"y\": [109], \"z\": [16.4]}, {\"hoverlabel\": {\"namelength\": 0}, \"hovertemplate\": \"State=Nebraska<br>UrbanPop=%{x}<br>Assault=%{y}<br>Rape=%{z}\", \"legendgroup\": \"State=Nebraska\", \"marker\": {\"color\": \"#FF6692\", \"symbol\": \"circle\"}, \"mode\": \"markers\", \"name\": \"State=Nebraska\", \"scene\": \"scene\", \"showlegend\": true, \"type\": \"scatter3d\", \"x\": [62], \"y\": [102], \"z\": [16.5]}, {\"hoverlabel\": {\"namelength\": 0}, \"hovertemplate\": \"State=Nevada<br>UrbanPop=%{x}<br>Assault=%{y}<br>Rape=%{z}\", \"legendgroup\": \"State=Nevada\", \"marker\": {\"color\": \"#B6E880\", \"symbol\": \"circle\"}, \"mode\": \"markers\", \"name\": \"State=Nevada\", \"scene\": \"scene\", \"showlegend\": true, \"type\": \"scatter3d\", \"x\": [81], \"y\": [252], \"z\": [46.0]}, {\"hoverlabel\": {\"namelength\": 0}, \"hovertemplate\": \"State=New Hampshire<br>UrbanPop=%{x}<br>Assault=%{y}<br>Rape=%{z}\", \"legendgroup\": \"State=New Hampshire\", \"marker\": {\"color\": \"#FF97FF\", \"symbol\": \"circle\"}, \"mode\": \"markers\", \"name\": \"State=New Hampshire\", \"scene\": \"scene\", \"showlegend\": true, \"type\": \"scatter3d\", \"x\": [56], \"y\": [57], \"z\": [9.5]}, {\"hoverlabel\": {\"namelength\": 0}, \"hovertemplate\": \"State=New Jersey<br>UrbanPop=%{x}<br>Assault=%{y}<br>Rape=%{z}\", \"legendgroup\": \"State=New Jersey\", \"marker\": {\"color\": \"#FECB52\", \"symbol\": \"circle\"}, \"mode\": \"markers\", \"name\": \"State=New Jersey\", \"scene\": \"scene\", \"showlegend\": true, \"type\": \"scatter3d\", \"x\": [89], \"y\": [159], \"z\": [18.8]}, {\"hoverlabel\": {\"namelength\": 0}, \"hovertemplate\": \"State=New Mexico<br>UrbanPop=%{x}<br>Assault=%{y}<br>Rape=%{z}\", \"legendgroup\": \"State=New Mexico\", \"marker\": {\"color\": \"#636efa\", \"symbol\": \"circle\"}, \"mode\": \"markers\", \"name\": \"State=New Mexico\", \"scene\": \"scene\", \"showlegend\": true, \"type\": \"scatter3d\", \"x\": [70], \"y\": [285], \"z\": [32.1]}, {\"hoverlabel\": {\"namelength\": 0}, \"hovertemplate\": \"State=New York<br>UrbanPop=%{x}<br>Assault=%{y}<br>Rape=%{z}\", \"legendgroup\": \"State=New York\", \"marker\": {\"color\": \"#EF553B\", \"symbol\": \"circle\"}, \"mode\": \"markers\", \"name\": \"State=New York\", \"scene\": \"scene\", \"showlegend\": true, \"type\": \"scatter3d\", \"x\": [86], \"y\": [254], \"z\": [26.1]}, {\"hoverlabel\": {\"namelength\": 0}, \"hovertemplate\": \"State=North Carolina<br>UrbanPop=%{x}<br>Assault=%{y}<br>Rape=%{z}\", \"legendgroup\": \"State=North Carolina\", \"marker\": {\"color\": \"#00cc96\", \"symbol\": \"circle\"}, \"mode\": \"markers\", \"name\": \"State=North Carolina\", \"scene\": \"scene\", \"showlegend\": true, \"type\": \"scatter3d\", \"x\": [45], \"y\": [337], \"z\": [16.1]}, {\"hoverlabel\": {\"namelength\": 0}, \"hovertemplate\": \"State=North Dakota<br>UrbanPop=%{x}<br>Assault=%{y}<br>Rape=%{z}\", \"legendgroup\": \"State=North Dakota\", \"marker\": {\"color\": \"#ab63fa\", \"symbol\": \"circle\"}, \"mode\": \"markers\", \"name\": \"State=North Dakota\", \"scene\": \"scene\", \"showlegend\": true, \"type\": \"scatter3d\", \"x\": [44], \"y\": [45], \"z\": [7.3]}, {\"hoverlabel\": {\"namelength\": 0}, \"hovertemplate\": \"State=Ohio<br>UrbanPop=%{x}<br>Assault=%{y}<br>Rape=%{z}\", \"legendgroup\": \"State=Ohio\", \"marker\": {\"color\": \"#FFA15A\", \"symbol\": \"circle\"}, \"mode\": \"markers\", \"name\": \"State=Ohio\", \"scene\": \"scene\", \"showlegend\": true, \"type\": \"scatter3d\", \"x\": [75], \"y\": [120], \"z\": [21.4]}, {\"hoverlabel\": {\"namelength\": 0}, \"hovertemplate\": \"State=Oklahoma<br>UrbanPop=%{x}<br>Assault=%{y}<br>Rape=%{z}\", \"legendgroup\": \"State=Oklahoma\", \"marker\": {\"color\": \"#19d3f3\", \"symbol\": \"circle\"}, \"mode\": \"markers\", \"name\": \"State=Oklahoma\", \"scene\": \"scene\", \"showlegend\": true, \"type\": \"scatter3d\", \"x\": [68], \"y\": [151], \"z\": [20.0]}, {\"hoverlabel\": {\"namelength\": 0}, \"hovertemplate\": \"State=Oregon<br>UrbanPop=%{x}<br>Assault=%{y}<br>Rape=%{z}\", \"legendgroup\": \"State=Oregon\", \"marker\": {\"color\": \"#FF6692\", \"symbol\": \"circle\"}, \"mode\": \"markers\", \"name\": \"State=Oregon\", \"scene\": \"scene\", \"showlegend\": true, \"type\": \"scatter3d\", \"x\": [67], \"y\": [159], \"z\": [29.3]}, {\"hoverlabel\": {\"namelength\": 0}, \"hovertemplate\": \"State=Pennsylvania<br>UrbanPop=%{x}<br>Assault=%{y}<br>Rape=%{z}\", \"legendgroup\": \"State=Pennsylvania\", \"marker\": {\"color\": \"#B6E880\", \"symbol\": \"circle\"}, \"mode\": \"markers\", \"name\": \"State=Pennsylvania\", \"scene\": \"scene\", \"showlegend\": true, \"type\": \"scatter3d\", \"x\": [72], \"y\": [106], \"z\": [14.9]}, {\"hoverlabel\": {\"namelength\": 0}, \"hovertemplate\": \"State=Rhode Island<br>UrbanPop=%{x}<br>Assault=%{y}<br>Rape=%{z}\", \"legendgroup\": \"State=Rhode Island\", \"marker\": {\"color\": \"#FF97FF\", \"symbol\": \"circle\"}, \"mode\": \"markers\", \"name\": \"State=Rhode Island\", \"scene\": \"scene\", \"showlegend\": true, \"type\": \"scatter3d\", \"x\": [87], \"y\": [174], \"z\": [8.3]}, {\"hoverlabel\": {\"namelength\": 0}, \"hovertemplate\": \"State=South Carolina<br>UrbanPop=%{x}<br>Assault=%{y}<br>Rape=%{z}\", \"legendgroup\": \"State=South Carolina\", \"marker\": {\"color\": \"#FECB52\", \"symbol\": \"circle\"}, \"mode\": \"markers\", \"name\": \"State=South Carolina\", \"scene\": \"scene\", \"showlegend\": true, \"type\": \"scatter3d\", \"x\": [48], \"y\": [279], \"z\": [22.5]}, {\"hoverlabel\": {\"namelength\": 0}, \"hovertemplate\": \"State=South Dakota<br>UrbanPop=%{x}<br>Assault=%{y}<br>Rape=%{z}\", \"legendgroup\": \"State=South Dakota\", \"marker\": {\"color\": \"#636efa\", \"symbol\": \"circle\"}, \"mode\": \"markers\", \"name\": \"State=South Dakota\", \"scene\": \"scene\", \"showlegend\": true, \"type\": \"scatter3d\", \"x\": [45], \"y\": [86], \"z\": [12.8]}, {\"hoverlabel\": {\"namelength\": 0}, \"hovertemplate\": \"State=Tennessee<br>UrbanPop=%{x}<br>Assault=%{y}<br>Rape=%{z}\", \"legendgroup\": \"State=Tennessee\", \"marker\": {\"color\": \"#EF553B\", \"symbol\": \"circle\"}, \"mode\": \"markers\", \"name\": \"State=Tennessee\", \"scene\": \"scene\", \"showlegend\": true, \"type\": \"scatter3d\", \"x\": [59], \"y\": [188], \"z\": [26.9]}, {\"hoverlabel\": {\"namelength\": 0}, \"hovertemplate\": \"State=Texas<br>UrbanPop=%{x}<br>Assault=%{y}<br>Rape=%{z}\", \"legendgroup\": \"State=Texas\", \"marker\": {\"color\": \"#00cc96\", \"symbol\": \"circle\"}, \"mode\": \"markers\", \"name\": \"State=Texas\", \"scene\": \"scene\", \"showlegend\": true, \"type\": \"scatter3d\", \"x\": [80], \"y\": [201], \"z\": [25.5]}, {\"hoverlabel\": {\"namelength\": 0}, \"hovertemplate\": \"State=Utah<br>UrbanPop=%{x}<br>Assault=%{y}<br>Rape=%{z}\", \"legendgroup\": \"State=Utah\", \"marker\": {\"color\": \"#ab63fa\", \"symbol\": \"circle\"}, \"mode\": \"markers\", \"name\": \"State=Utah\", \"scene\": \"scene\", \"showlegend\": true, \"type\": \"scatter3d\", \"x\": [80], \"y\": [120], \"z\": [22.9]}, {\"hoverlabel\": {\"namelength\": 0}, \"hovertemplate\": \"State=Vermont<br>UrbanPop=%{x}<br>Assault=%{y}<br>Rape=%{z}\", \"legendgroup\": \"State=Vermont\", \"marker\": {\"color\": \"#FFA15A\", \"symbol\": \"circle\"}, \"mode\": \"markers\", \"name\": \"State=Vermont\", \"scene\": \"scene\", \"showlegend\": true, \"type\": \"scatter3d\", \"x\": [32], \"y\": [48], \"z\": [11.2]}, {\"hoverlabel\": {\"namelength\": 0}, \"hovertemplate\": \"State=Virginia<br>UrbanPop=%{x}<br>Assault=%{y}<br>Rape=%{z}\", \"legendgroup\": \"State=Virginia\", \"marker\": {\"color\": \"#19d3f3\", \"symbol\": \"circle\"}, \"mode\": \"markers\", \"name\": \"State=Virginia\", \"scene\": \"scene\", \"showlegend\": true, \"type\": \"scatter3d\", \"x\": [63], \"y\": [156], \"z\": [20.7]}, {\"hoverlabel\": {\"namelength\": 0}, \"hovertemplate\": \"State=Washington<br>UrbanPop=%{x}<br>Assault=%{y}<br>Rape=%{z}\", \"legendgroup\": \"State=Washington\", \"marker\": {\"color\": \"#FF6692\", \"symbol\": \"circle\"}, \"mode\": \"markers\", \"name\": \"State=Washington\", \"scene\": \"scene\", \"showlegend\": true, \"type\": \"scatter3d\", \"x\": [73], \"y\": [145], \"z\": [26.2]}, {\"hoverlabel\": {\"namelength\": 0}, \"hovertemplate\": \"State=West Virginia<br>UrbanPop=%{x}<br>Assault=%{y}<br>Rape=%{z}\", \"legendgroup\": \"State=West Virginia\", \"marker\": {\"color\": \"#B6E880\", \"symbol\": \"circle\"}, \"mode\": \"markers\", \"name\": \"State=West Virginia\", \"scene\": \"scene\", \"showlegend\": true, \"type\": \"scatter3d\", \"x\": [39], \"y\": [81], \"z\": [9.3]}, {\"hoverlabel\": {\"namelength\": 0}, \"hovertemplate\": \"State=Wisconsin<br>UrbanPop=%{x}<br>Assault=%{y}<br>Rape=%{z}\", \"legendgroup\": \"State=Wisconsin\", \"marker\": {\"color\": \"#FF97FF\", \"symbol\": \"circle\"}, \"mode\": \"markers\", \"name\": \"State=Wisconsin\", \"scene\": \"scene\", \"showlegend\": true, \"type\": \"scatter3d\", \"x\": [66], \"y\": [53], \"z\": [10.8]}, {\"hoverlabel\": {\"namelength\": 0}, \"hovertemplate\": \"State=Wyoming<br>UrbanPop=%{x}<br>Assault=%{y}<br>Rape=%{z}\", \"legendgroup\": \"State=Wyoming\", \"marker\": {\"color\": \"#FECB52\", \"symbol\": \"circle\"}, \"mode\": \"markers\", \"name\": \"State=Wyoming\", \"scene\": \"scene\", \"showlegend\": true, \"type\": \"scatter3d\", \"x\": [60], \"y\": [161], \"z\": [15.6]}],\n",
       "                        {\"font\": {\"size\": 8}, \"height\": 600, \"legend\": {\"tracegroupgap\": 0}, \"margin\": {\"t\": 60}, \"scene\": {\"domain\": {\"x\": [0.0, 0.98], \"y\": [0.0, 1.0]}, \"xaxis\": {\"title\": {\"text\": \"Urban Population %\"}}, \"yaxis\": {\"title\": {\"text\": \"Assault Arrests per 100,000 residents\"}}, \"zaxis\": {\"title\": {\"text\": \"Rape Arrests per 100,000 residents\"}}}, \"template\": {\"data\": {\"bar\": [{\"error_x\": {\"color\": \"#2a3f5f\"}, \"error_y\": {\"color\": \"#2a3f5f\"}, \"marker\": {\"line\": {\"color\": \"#E5ECF6\", \"width\": 0.5}}, \"type\": \"bar\"}], \"barpolar\": [{\"marker\": {\"line\": {\"color\": \"#E5ECF6\", \"width\": 0.5}}, \"type\": \"barpolar\"}], \"carpet\": [{\"aaxis\": {\"endlinecolor\": \"#2a3f5f\", \"gridcolor\": \"white\", \"linecolor\": \"white\", \"minorgridcolor\": \"white\", \"startlinecolor\": \"#2a3f5f\"}, \"baxis\": {\"endlinecolor\": \"#2a3f5f\", \"gridcolor\": \"white\", \"linecolor\": \"white\", \"minorgridcolor\": \"white\", \"startlinecolor\": \"#2a3f5f\"}, \"type\": \"carpet\"}], \"choropleth\": [{\"colorbar\": {\"outlinewidth\": 0, \"ticks\": \"\"}, \"type\": \"choropleth\"}], \"contour\": [{\"colorbar\": {\"outlinewidth\": 0, \"ticks\": \"\"}, \"colorscale\": [[0.0, \"#0d0887\"], [0.1111111111111111, \"#46039f\"], [0.2222222222222222, \"#7201a8\"], [0.3333333333333333, \"#9c179e\"], [0.4444444444444444, \"#bd3786\"], [0.5555555555555556, \"#d8576b\"], [0.6666666666666666, \"#ed7953\"], [0.7777777777777778, \"#fb9f3a\"], [0.8888888888888888, \"#fdca26\"], [1.0, \"#f0f921\"]], \"type\": \"contour\"}], \"contourcarpet\": [{\"colorbar\": {\"outlinewidth\": 0, \"ticks\": \"\"}, \"type\": \"contourcarpet\"}], \"heatmap\": [{\"colorbar\": {\"outlinewidth\": 0, \"ticks\": \"\"}, \"colorscale\": [[0.0, \"#0d0887\"], [0.1111111111111111, \"#46039f\"], [0.2222222222222222, \"#7201a8\"], [0.3333333333333333, \"#9c179e\"], [0.4444444444444444, \"#bd3786\"], [0.5555555555555556, \"#d8576b\"], [0.6666666666666666, \"#ed7953\"], [0.7777777777777778, \"#fb9f3a\"], [0.8888888888888888, \"#fdca26\"], [1.0, \"#f0f921\"]], \"type\": \"heatmap\"}], \"heatmapgl\": [{\"colorbar\": {\"outlinewidth\": 0, \"ticks\": \"\"}, \"colorscale\": [[0.0, \"#0d0887\"], [0.1111111111111111, \"#46039f\"], [0.2222222222222222, \"#7201a8\"], [0.3333333333333333, \"#9c179e\"], [0.4444444444444444, \"#bd3786\"], [0.5555555555555556, \"#d8576b\"], [0.6666666666666666, \"#ed7953\"], [0.7777777777777778, \"#fb9f3a\"], [0.8888888888888888, \"#fdca26\"], [1.0, \"#f0f921\"]], \"type\": \"heatmapgl\"}], \"histogram\": [{\"marker\": {\"colorbar\": {\"outlinewidth\": 0, \"ticks\": \"\"}}, \"type\": \"histogram\"}], \"histogram2d\": [{\"colorbar\": {\"outlinewidth\": 0, \"ticks\": \"\"}, \"colorscale\": [[0.0, \"#0d0887\"], [0.1111111111111111, \"#46039f\"], [0.2222222222222222, \"#7201a8\"], [0.3333333333333333, \"#9c179e\"], [0.4444444444444444, \"#bd3786\"], [0.5555555555555556, \"#d8576b\"], [0.6666666666666666, \"#ed7953\"], [0.7777777777777778, \"#fb9f3a\"], [0.8888888888888888, \"#fdca26\"], [1.0, \"#f0f921\"]], \"type\": \"histogram2d\"}], \"histogram2dcontour\": [{\"colorbar\": {\"outlinewidth\": 0, \"ticks\": \"\"}, \"colorscale\": [[0.0, \"#0d0887\"], [0.1111111111111111, \"#46039f\"], [0.2222222222222222, \"#7201a8\"], [0.3333333333333333, \"#9c179e\"], [0.4444444444444444, \"#bd3786\"], [0.5555555555555556, \"#d8576b\"], [0.6666666666666666, \"#ed7953\"], [0.7777777777777778, \"#fb9f3a\"], [0.8888888888888888, \"#fdca26\"], [1.0, \"#f0f921\"]], \"type\": \"histogram2dcontour\"}], \"mesh3d\": [{\"colorbar\": {\"outlinewidth\": 0, \"ticks\": \"\"}, \"type\": \"mesh3d\"}], \"parcoords\": [{\"line\": {\"colorbar\": {\"outlinewidth\": 0, \"ticks\": \"\"}}, \"type\": \"parcoords\"}], \"scatter\": [{\"marker\": {\"colorbar\": {\"outlinewidth\": 0, \"ticks\": \"\"}}, \"type\": \"scatter\"}], \"scatter3d\": [{\"line\": {\"colorbar\": {\"outlinewidth\": 0, \"ticks\": \"\"}}, \"marker\": {\"colorbar\": {\"outlinewidth\": 0, \"ticks\": \"\"}}, \"type\": \"scatter3d\"}], \"scattercarpet\": [{\"marker\": {\"colorbar\": {\"outlinewidth\": 0, \"ticks\": \"\"}}, \"type\": \"scattercarpet\"}], \"scattergeo\": [{\"marker\": {\"colorbar\": {\"outlinewidth\": 0, \"ticks\": \"\"}}, \"type\": \"scattergeo\"}], \"scattergl\": [{\"marker\": {\"colorbar\": {\"outlinewidth\": 0, \"ticks\": \"\"}}, \"type\": \"scattergl\"}], \"scattermapbox\": [{\"marker\": {\"colorbar\": {\"outlinewidth\": 0, \"ticks\": \"\"}}, \"type\": \"scattermapbox\"}], \"scatterpolar\": [{\"marker\": {\"colorbar\": {\"outlinewidth\": 0, \"ticks\": \"\"}}, \"type\": \"scatterpolar\"}], \"scatterpolargl\": [{\"marker\": {\"colorbar\": {\"outlinewidth\": 0, \"ticks\": \"\"}}, \"type\": \"scatterpolargl\"}], \"scatterternary\": [{\"marker\": {\"colorbar\": {\"outlinewidth\": 0, \"ticks\": \"\"}}, \"type\": \"scatterternary\"}], \"surface\": [{\"colorbar\": {\"outlinewidth\": 0, \"ticks\": \"\"}, \"colorscale\": [[0.0, \"#0d0887\"], [0.1111111111111111, \"#46039f\"], [0.2222222222222222, \"#7201a8\"], [0.3333333333333333, \"#9c179e\"], [0.4444444444444444, \"#bd3786\"], [0.5555555555555556, \"#d8576b\"], [0.6666666666666666, \"#ed7953\"], [0.7777777777777778, \"#fb9f3a\"], [0.8888888888888888, \"#fdca26\"], [1.0, \"#f0f921\"]], \"type\": \"surface\"}], \"table\": [{\"cells\": {\"fill\": {\"color\": \"#EBF0F8\"}, \"line\": {\"color\": \"white\"}}, \"header\": {\"fill\": {\"color\": \"#C8D4E3\"}, \"line\": {\"color\": \"white\"}}, \"type\": \"table\"}]}, \"layout\": {\"annotationdefaults\": {\"arrowcolor\": \"#2a3f5f\", \"arrowhead\": 0, \"arrowwidth\": 1}, \"colorscale\": {\"diverging\": [[0, \"#8e0152\"], [0.1, \"#c51b7d\"], [0.2, \"#de77ae\"], [0.3, \"#f1b6da\"], [0.4, \"#fde0ef\"], [0.5, \"#f7f7f7\"], [0.6, \"#e6f5d0\"], [0.7, \"#b8e186\"], [0.8, \"#7fbc41\"], [0.9, \"#4d9221\"], [1, \"#276419\"]], \"sequential\": [[0.0, \"#0d0887\"], [0.1111111111111111, \"#46039f\"], [0.2222222222222222, \"#7201a8\"], [0.3333333333333333, \"#9c179e\"], [0.4444444444444444, \"#bd3786\"], [0.5555555555555556, \"#d8576b\"], [0.6666666666666666, \"#ed7953\"], [0.7777777777777778, \"#fb9f3a\"], [0.8888888888888888, \"#fdca26\"], [1.0, \"#f0f921\"]], \"sequentialminus\": [[0.0, \"#0d0887\"], [0.1111111111111111, \"#46039f\"], [0.2222222222222222, \"#7201a8\"], [0.3333333333333333, \"#9c179e\"], [0.4444444444444444, \"#bd3786\"], [0.5555555555555556, \"#d8576b\"], [0.6666666666666666, \"#ed7953\"], [0.7777777777777778, \"#fb9f3a\"], [0.8888888888888888, \"#fdca26\"], [1.0, \"#f0f921\"]]}, \"colorway\": [\"#636efa\", \"#EF553B\", \"#00cc96\", \"#ab63fa\", \"#FFA15A\", \"#19d3f3\", \"#FF6692\", \"#B6E880\", \"#FF97FF\", \"#FECB52\"], \"font\": {\"color\": \"#2a3f5f\"}, \"geo\": {\"bgcolor\": \"white\", \"lakecolor\": \"white\", \"landcolor\": \"#E5ECF6\", \"showlakes\": true, \"showland\": true, \"subunitcolor\": \"white\"}, \"hoverlabel\": {\"align\": \"left\"}, \"hovermode\": \"closest\", \"mapbox\": {\"style\": \"light\"}, \"paper_bgcolor\": \"white\", \"plot_bgcolor\": \"#E5ECF6\", \"polar\": {\"angularaxis\": {\"gridcolor\": \"white\", \"linecolor\": \"white\", \"ticks\": \"\"}, \"bgcolor\": \"#E5ECF6\", \"radialaxis\": {\"gridcolor\": \"white\", \"linecolor\": \"white\", \"ticks\": \"\"}}, \"scene\": {\"xaxis\": {\"backgroundcolor\": \"#E5ECF6\", \"gridcolor\": \"white\", \"gridwidth\": 2, \"linecolor\": \"white\", \"showbackground\": true, \"ticks\": \"\", \"zerolinecolor\": \"white\"}, \"yaxis\": {\"backgroundcolor\": \"#E5ECF6\", \"gridcolor\": \"white\", \"gridwidth\": 2, \"linecolor\": \"white\", \"showbackground\": true, \"ticks\": \"\", \"zerolinecolor\": \"white\"}, \"zaxis\": {\"backgroundcolor\": \"#E5ECF6\", \"gridcolor\": \"white\", \"gridwidth\": 2, \"linecolor\": \"white\", \"showbackground\": true, \"ticks\": \"\", \"zerolinecolor\": \"white\"}}, \"shapedefaults\": {\"line\": {\"color\": \"#2a3f5f\"}}, \"ternary\": {\"aaxis\": {\"gridcolor\": \"white\", \"linecolor\": \"white\", \"ticks\": \"\"}, \"baxis\": {\"gridcolor\": \"white\", \"linecolor\": \"white\", \"ticks\": \"\"}, \"bgcolor\": \"#E5ECF6\", \"caxis\": {\"gridcolor\": \"white\", \"linecolor\": \"white\", \"ticks\": \"\"}}, \"title\": {\"x\": 0.05}, \"xaxis\": {\"automargin\": true, \"gridcolor\": \"white\", \"linecolor\": \"white\", \"ticks\": \"\", \"zerolinecolor\": \"white\", \"zerolinewidth\": 2}, \"yaxis\": {\"automargin\": true, \"gridcolor\": \"white\", \"linecolor\": \"white\", \"ticks\": \"\", \"zerolinecolor\": \"white\", \"zerolinewidth\": 2}}}},\n",
       "                        {\"responsive\": true}\n",
       "                    ).then(function(){\n",
       "                            \n",
       "var gd = document.getElementById('67eb836b-01ec-4a21-b7b9-7c173a606271');\n",
       "var x = new MutationObserver(function (mutations, observer) {{\n",
       "        var display = window.getComputedStyle(gd).display;\n",
       "        if (!display || display === 'none') {{\n",
       "            console.log([gd, 'removed!']);\n",
       "            Plotly.purge(gd);\n",
       "            observer.disconnect();\n",
       "        }}\n",
       "}});\n",
       "\n",
       "// Listen for the removal of the full notebook cells\n",
       "var notebookContainer = gd.closest('#notebook-container');\n",
       "if (notebookContainer) {{\n",
       "    x.observe(notebookContainer, {childList: true});\n",
       "}}\n",
       "\n",
       "// Listen for the clearing of the current output cell\n",
       "var outputEl = gd.closest('.output');\n",
       "if (outputEl) {{\n",
       "    x.observe(outputEl, {childList: true});\n",
       "}}\n",
       "\n",
       "                        })\n",
       "                };\n",
       "                });\n",
       "            </script>\n",
       "        </div>"
      ]
     },
     "metadata": {},
     "output_type": "display_data"
    }
   ],
   "source": [
    "import pandas as pd\n",
    "import matplotlib.pyplot as plt\n",
    "import statistics as stats\n",
    "import math\n",
    "import scipy.stats\n",
    "import numpy as np\n",
    "import matplotlib.pyplot as plt\n",
    "import statsmodels.api as sm\n",
    "import statsmodels.formula.api as smf\n",
    "import plotly.express as px\n",
    "\n",
    "\n",
    "# importing and subsetting the data\n",
    "\n",
    "# data obtained from 'https://forge.scilab.org/index.php/p/rdataset/source/tree/master/csv/datasets/USArrests.csv'\n",
    "\n",
    "# documentation for data: 'https://www.rdocumentation.org/packages/datasets/versions/3.6.2/topics/USArrests'\n",
    "\n",
    "dframe = pd.read_csv('USArrests.csv')\n",
    "\n",
    "dframe.rename(columns = {'Unnamed: 0':'State'}, inplace = True) \n",
    "\n",
    "\n",
    "y = dframe['Rape']\n",
    "\n",
    "x = dframe[['Assault', 'UrbanPop', 'Murder']]\n",
    "\n",
    "x = sm.add_constant(x) \n",
    "\n",
    "mod = sm.OLS(y, x).fit()\n",
    "predict = mod.predict(x) \n",
    "\n",
    "print_mod = mod.summary()\n",
    "print(print_mod)\n",
    "\n",
    "# plotting the data\n",
    "\n",
    "fig = px.scatter_3d(dframe, x='UrbanPop', y='Assault', z='Rape',\n",
    "              color='State')\n",
    "\n",
    "\n",
    "fig.update_layout(scene = dict(\n",
    "                    xaxis_title='Urban Population %',\n",
    "                    yaxis_title='Assault Arrests per 100,000 residents',\n",
    "                    zaxis_title='Rape Arrests per 100,000 residents',), font=dict(size=8))\n",
    "fig.show()\n"
   ]
  },
  {
   "cell_type": "code",
   "execution_count": null,
   "metadata": {},
   "outputs": [],
   "source": []
  }
 ],
 "metadata": {
  "kernelspec": {
   "display_name": "Python 3",
   "language": "python",
   "name": "python3"
  },
  "language_info": {
   "codemirror_mode": {
    "name": "ipython",
    "version": 3
   },
   "file_extension": ".py",
   "mimetype": "text/x-python",
   "name": "python",
   "nbconvert_exporter": "python",
   "pygments_lexer": "ipython3",
   "version": "3.7.4"
  }
 },
 "nbformat": 4,
 "nbformat_minor": 2
}
