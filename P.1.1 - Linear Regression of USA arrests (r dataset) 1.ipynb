{
 "cells": [
  {
   "cell_type": "code",
   "execution_count": 5,
   "metadata": {},
   "outputs": [
    {
     "name": "stdout",
     "output_type": "stream",
     "text": [
      "Manually calculated Pearson's r for rape and murder rates: 0.56358\n",
      "scipy.stats person r = 0.56358\n",
      "P = 2.0308258661568282e-05\n",
      "\n",
      "The correlation between murder and rape arrest rates was statistically significant.\n"
     ]
    },
    {
     "data": {
      "image/png": "[encoded data removed]",
      "text/plain": [
       "<Figure size 432x288 with 1 Axes>"
      ]
     },
     "metadata": {
      "needs_background": "light"
     },
     "output_type": "display_data"
    },
    {
     "name": "stdout",
     "output_type": "stream",
     "text": [
      "R-squared = 0.32\n"
     ]
    }
   ],
   "source": [
    "import pandas as pd\n",
    "import matplotlib.pyplot as plt\n",
    "import statistics as stats\n",
    "import math\n",
    "import scipy.stats\n",
    "import numpy as np\n",
    "\n",
    "# importing and subsetting the data\n",
    "\n",
    "# data obtained from 'https://forge.scilab.org/index.php/p/rdataset/source/tree/master/csv/datasets/USArrests.csv'\n",
    "\n",
    "# documentation for data: 'https://www.rdocumentation.org/packages/datasets/versions/3.6.2/topics/USArrests'\n",
    "\n",
    "dframe = pd.read_csv('USArrests.csv')\n",
    "\n",
    "dframe.rename(columns = {'Unnamed: 0':'State'}, inplace = True) \n",
    "\n",
    "state = dframe['State']\n",
    "murder = dframe['Murder']\n",
    "assault = dframe['Assault']\n",
    "urbpop = dframe['UrbanPop']\n",
    "rape = dframe['Rape']\n",
    "\n",
    "# calculating the mean of the murder and rape arrest rates\n",
    "\n",
    "murder_mean = stats.mean(murder)\n",
    "rape_mean = stats.mean(rape)\n",
    "\n",
    "# calculating the sum of the products for murder arrest rate and rape arrest rate\n",
    "\n",
    "murder_dev = []\n",
    "for i in murder:\n",
    "    murder_dev.append(i-murder_mean)\n",
    "    \n",
    "rape_dev = []\n",
    "for i in rape:\n",
    "    rape_dev.append(i-rape_mean)\n",
    "    \n",
    "product = []\n",
    "\n",
    "count = 0\n",
    "if len(murder) == len(rape):\n",
    "    for i in murder_dev:\n",
    "        product.append(i*rape_dev[count])\n",
    "        count = count + 1\n",
    "        \n",
    "SP = sum(product)\n",
    "\n",
    "# calculating the sum of squares for murder arrest rate and rape arrest rate\n",
    "\n",
    "SS_murder = []\n",
    "for i in murder_dev:\n",
    "    SS_murder.append(i**2)\n",
    "    \n",
    "SS_murder = sum(SS_murder)\n",
    "\n",
    "SS_rape = []\n",
    "for i in rape_dev:\n",
    "    SS_rape.append(i**2)\n",
    "    \n",
    "SS_rape = sum(SS_rape)\n",
    "\n",
    "# calculating pearson's r for murder arrest rate and rape arrest rate\n",
    "r = SP/math.sqrt(SS_murder*SS_rape)\n",
    "\n",
    "print(\"Manually calculated Pearson's r for rape and murder rates:\", round(r,5))\n",
    "\n",
    "# checking result with scipy.stats\n",
    "\n",
    "result = scipy.stats.pearsonr(murder, rape)\n",
    "\n",
    "print('scipy.stats person r =', round(result[0],5))\n",
    "print('P =', result[1])\n",
    "print()\n",
    "\n",
    "if result[1] <= 0.5:\n",
    "    print('The correlation between murder and rape arrest rates was statistically significant.')\n",
    "    \n",
    "else:\n",
    "    print('The correlation between murder and rape arrest rates was not statistically significant.')\n",
    "    \n",
    "# plotting the data\n",
    "\n",
    "plt.scatter(murder, rape, color = 'cyan')\n",
    "plt.xlabel(\"Murder arrest rate per 100,000 residents\")\n",
    "plt.ylabel(\"Rape arrest rate per 100,000 residents\")\n",
    "\n",
    "# calculating and plotting the linear regression equation for murder arrest rate and rape arrest rate\n",
    "\n",
    "b = SP/SS_murder\n",
    "intercept = rape_mean - b*murder_mean\n",
    "\n",
    "yhat = murder*b + intercept\n",
    "\n",
    "plt.plot(np.sort(murder), np.sort(yhat), color = 'orange')\n",
    "plt.show()\n",
    "\n",
    "print('R-squared =', round(r**2,2))"
   ]
  },
  {
   "cell_type": "code",
   "execution_count": null,
   "metadata": {},
   "outputs": [],
   "source": []
  }
 ],
 "metadata": {
  "kernelspec": {
   "display_name": "Python 3",
   "language": "python",
   "name": "python3"
  },
  "language_info": {
   "codemirror_mode": {
    "name": "ipython",
    "version": 3
   },
   "file_extension": ".py",
   "mimetype": "text/x-python",
   "name": "python",
   "nbconvert_exporter": "python",
   "pygments_lexer": "ipython3",
   "version": "3.7.9"
  }
 },
 "nbformat": 4,
 "nbformat_minor": 2
}
