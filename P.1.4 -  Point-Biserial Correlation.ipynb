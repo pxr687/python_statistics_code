{
 "cells": [
  {
   "cell_type": "code",
   "execution_count": 20,
   "metadata": {},
   "outputs": [
    {
     "name": "stdout",
     "output_type": "stream",
     "text": [
      "   stress_score  dummy_code\n",
      "0             8           0\n",
      "1             7           0\n",
      "2             5           0\n",
      "3             3           0\n",
      "4             4           1\n",
      "5             2           1\n",
      "6             1           1\n",
      "7             3           1\n",
      "\n",
      "Manually calculated point-biserial correlation: -0.7189016426921303\n",
      "\n",
      "Scipy.stats point-biserial correlation result:\n",
      "\n",
      "PointbiserialrResult(correlation=-0.7189016426921302, pvalue=0.0444798173072321)\n"
     ]
    },
    {
     "data": {
      "image/png": "[encoded data removed]",
      "text/plain": [
       "<Figure size 432x288 with 1 Axes>"
      ]
     },
     "metadata": {
      "needs_background": "light"
     },
     "output_type": "display_data"
    }
   ],
   "source": [
    "import pandas as pd\n",
    "import statistics\n",
    "import math\n",
    "import scipy.stats\n",
    "import matplotlib.pyplot as plt\n",
    "\n",
    "# this example is taken from Statistics for the Behavioural Science (Gravetter and Wallnau, 2004, p.552)\n",
    "\n",
    "# dummy coding: 0 means 'salary over 40k', 1 means 'salary under 40k'\n",
    "\n",
    "data = {'stress_score' : [8,7,5,3,4,2,1,3], 'dummy_code' :[0,0,0,0, 1,1,1,1]}\n",
    "\n",
    "dframe = pd.DataFrame(data)\n",
    "\n",
    "print(dframe)\n",
    "\n",
    "sal_ov_40K = dframe[dframe['dummy_code'] == 0]\n",
    "\n",
    "sal_und_40k = dframe[dframe['dummy_code'] == 1]\n",
    "\n",
    "\n",
    "# calculating the mean of the stress scores and the dummy variable scores\n",
    "\n",
    "x_bar = statistics.mean(dframe.iloc[:,0])\n",
    "\n",
    "y_bar = statistics.mean(dframe.iloc[:,1])\n",
    "\n",
    "\n",
    "# calculating the sum of products\n",
    "\n",
    "sp = []\n",
    "\n",
    "count = 0\n",
    "for i in dframe.iloc[:,0]:\n",
    "    sp.append((dframe.iloc[count, 0]-x_bar) * (dframe.iloc[count, 1] - y_bar))\n",
    "    count = count + 1\n",
    "    \n",
    "sp = sum(sp)\n",
    "\n",
    "# calculating the sum of squares for the stress scores and the dummy variable scores\n",
    "\n",
    "sum_sq_x = []\n",
    "count = 0\n",
    "for i in dframe.iloc[:,0]:\n",
    "    sum_sq_x.append((dframe.iloc[count,0] - x_bar)**2)\n",
    "    count = count+1\n",
    "\n",
    "sum_sq_x = sum(sum_sq_x)\n",
    "\n",
    "sum_sq_y = []\n",
    "count = 0\n",
    "for i in dframe.iloc[:,1]:\n",
    "    sum_sq_y.append((dframe.iloc[count,1] - y_bar)**2)\n",
    "    count = count+1\n",
    "\n",
    "sum_sq_y = sum(sum_sq_y)\n",
    "\n",
    "# calculating the point-biserial correlation \n",
    "\n",
    "point_biserial = sp/math.sqrt(sum_sq_x*sum_sq_y)\n",
    "\n",
    "print()\n",
    "print('Manually calculated point-biserial correlation:', point_biserial)\n",
    "print()\n",
    "\n",
    "# checking the results with scipy.stats.pointbiserialr\n",
    "\n",
    "result = scipy.stats.pointbiserialr(dframe.iloc[:,0], dframe.iloc[:,1])\n",
    "\n",
    "print('Scipy.stats point-biserial correlation result:')\n",
    "print()\n",
    "print(result)\n",
    "\n",
    "plt.scatter(dframe.iloc[:,0], dframe.iloc[:,1], color = 'red')\n",
    "plt.xlabel('Stress Score')\n",
    "plt.ylabel('0 = earns over 40k, 1 = earns under 40k')\n",
    "plt.show()"
   ]
  },
  {
   "cell_type": "code",
   "execution_count": null,
   "metadata": {},
   "outputs": [],
   "source": []
  }
 ],
 "metadata": {
  "kernelspec": {
   "display_name": "Python 3",
   "language": "python",
   "name": "python3"
  },
  "language_info": {
   "codemirror_mode": {
    "name": "ipython",
    "version": 3
   },
   "file_extension": ".py",
   "mimetype": "text/x-python",
   "name": "python",
   "nbconvert_exporter": "python",
   "pygments_lexer": "ipython3",
   "version": "3.7.4"
  }
 },
 "nbformat": 4,
 "nbformat_minor": 2
}
